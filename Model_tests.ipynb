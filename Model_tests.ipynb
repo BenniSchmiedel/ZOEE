{
 "cells": [
  {
   "cell_type": "code",
   "execution_count": 1,
   "metadata": {},
   "outputs": [],
   "source": [
    "import matplotlib.pyplot as plt\n",
    "import numpy as np\n",
    "\n",
    "from ZOEE.modules.configuration import importer, add_sellersparameters, parameterinterpolatorstepwise, overwrite_parameters\n",
    "from ZOEE.modules.variables import variable_importer, Vars, Base\n",
    "from ZOEE.modules.optimization import optimization, ZOEE_optimization\n",
    "#from ZOEE import update_plotstyle, moving_average\n",
    "from ZOEE.modules.rk4 import rk4alg\n",
    "#import matplotlib\n",
    "#update_plotstyle()\n",
    "#matplotlib.rcParams['lines.linewidth']=1.1"
   ]
  },
  {
   "cell_type": "code",
   "execution_count": 2,
   "metadata": {},
   "outputs": [],
   "source": [
    "Lat_10,ZMT_10=np.loadtxt('ZOEE_transition/Data/ERA_ZMT_Mean_10deginterpolated.txt')"
   ]
  },
  {
   "cell_type": "code",
   "execution_count": 3,
   "metadata": {},
   "outputs": [
    {
     "name": "stdout",
     "output_type": "stream",
     "text": [
      "Loading Configuration from: Experiments/Tests/Config_HadCM3.ini\n",
      "Starting controlrun with a temperature accuracy of 0.001 K on the GMT over 1000 datapoints.\n",
      "Loading Parameters from: ZOEE_transition/Data/SellersParameterization.ini\n"
     ]
    },
    {
     "data": {
      "application/vnd.jupyter.widget-view+json": {
       "model_id": "f107cc995fe74998817a8204b92b7766",
       "version_major": 2,
       "version_minor": 0
      },
      "text/plain": [
       "HBox(children=(FloatProgress(value=0.0, max=100000.0), HTML(value='')))"
      ]
     },
     "metadata": {},
     "output_type": "display_data"
    },
    {
     "name": "stderr",
     "output_type": "stream",
     "text": [
      "/home/benni/.local/lib/python3.7/site-packages/numpy/core/_methods.py:217: RuntimeWarning: Degrees of freedom <= 0 for slice\n",
      "  keepdims=keepdims)\n"
     ]
    },
    {
     "name": "stdout",
     "output_type": "stream",
     "text": [
      "Eq. State reached after 52051 steps, within 88.68172287940979 seconds\n",
      "\n"
     ]
    }
   ],
   "source": [
    "config_HadCM3=importer('Experiments/Tests/Config_HadCM3.ini')\n",
    "#parallel_config = {'number_of_parameters': 6, 'number_of_cycles': 1,'number_of_parallels': 13}\n",
    "variable_importer(config_HadCM3,initialZMT=True,parallel=False,control=True)\n",
    "config_HadCM3,Sellers=add_sellersparameters(config_HadCM3, parameterinterpolatorstepwise,\\\n",
    "                                            'ZOEE_transition/Data/SellersParameterization.ini',4,2,True,True)\n",
    "CTRL_HadCM3 = rk4alg(config_HadCM3, progressbar=True, monthly=True)\n",
    "\n",
    "#Vars.T = CTRL_HadCM3[1][-1]\n",
    "#variable_importer(config_HadCM3,initialZMT=False,parallel=False,control=False)\n",
    "#Base.number_of_integration=2*365\n",
    "#HadCM3 = rk4alg(config_HadCM3, progressbar=True, monthly=True)\n"
   ]
  },
  {
   "cell_type": "code",
   "execution_count": 11,
   "metadata": {},
   "outputs": [
    {
     "data": {
      "text/plain": [
       "[<matplotlib.lines.Line2D at 0x7f7d2a881e10>]"
      ]
     },
     "execution_count": 11,
     "metadata": {},
     "output_type": "execute_result"
    },
    {
     "data": {
      "image/png": "[encoded data removed]",
      "text/plain": [
       "<Figure size 432x288 with 1 Axes>"
      ]
     },
     "metadata": {
      "needs_background": "light"
     },
     "output_type": "display_data"
    }
   ],
   "source": [
    "elevation=-0.0065*np.array(Sellers[1][1])\n",
    "plt.plot(Lat_10,CTRL_HadCM3[1][-1]+elevation)\n",
    "plt.plot(Lat_10,ZMT_10)"
   ]
  },
  {
   "cell_type": "code",
   "execution_count": 3,
   "metadata": {},
   "outputs": [],
   "source": [
    "Lat_10,HadCM3_LGM_ZMT_target=np.loadtxt('Experiments/HadCM3/HadCM3_LGM_av_10deg_ZMT.csv',delimiter=',')\n",
    "Lat_10,HadCM3_LGM_ZMT_target_anomaly=np.loadtxt('Experiments/HadCM3/HadCM3_LGM_av_10deg_ZMTanomaly.csv',delimiter=',')\n",
    "HadCM3_LGM_GMT=np.loadtxt('Experiments/HadCM3/HadCM3_LGM_850_1850_anomaly.txt',delimiter=',')"
   ]
  },
  {
   "cell_type": "code",
   "execution_count": 31,
   "metadata": {},
   "outputs": [],
   "source": [
    "\n",
    "\"\"\"Declaration of parameter setup, with initial parameters, parameter boundaries and \n",
    "the parameter pertubation to estimate the cost function gradient\"\"\"\n",
    "P0=np.array([70*4.2e6,200,1.9,1.165,1.165,1.165])\n",
    "#P0=Get_PGamma[0]\n",
    "Pmin=np.array([1*4.2e6,170,1.3,0.9,0.9,0.9])\n",
    "Pmax=np.array([100*4.2e6,240,2.5,1.3,1.3,1.3])\n",
    "P_pert_ratio=1/10000\n",
    "        "
   ]
  },
  {
   "cell_type": "code",
   "execution_count": 5,
   "metadata": {},
   "outputs": [],
   "source": [
    "## ZMT anomaly\n",
    "\n",
    "\"\"\"Decleration of optimization configuration\"\"\"\n",
    "grid=np.linspace(-85,85,18)\n",
    "optimization_setup_LGM_an = optimization(mode='Coupled',\n",
    "                            target={'ZMT':HadCM3_LGM_ZMT_target_anomaly,'GMT':HadCM3_LGM_GMT[1]},\n",
    "                            ZMT_response=True, \n",
    "                            GMT_response=True,\n",
    "                            response_average_length=30*12,\n",
    "                            num_steps=2,\n",
    "                            num_data=12000,\n",
    "                            gamma0=1e-8,\n",
    "                            cost_function_type='LeastSquare',\n",
    "                            cost_weight='cross_weight',\n",
    "                            cost_ratio=None,\n",
    "                            ZMT=HadCM3_LGM_ZMT_target,\n",
    "                            GMT=283.15,\n",
    "                            precision=0,\n",
    "                            grid=grid)\n",
    "\n",
    "\"\"\"Declaration of parameter setup, with initial parameters, parameter boundaries and \n",
    "the parameter pertubation to estimate the cost function gradient\"\"\"\n",
    "\n",
    "optimization_setup_LGM_an.give_parameters(P0,Pmin,Pmax,P_pert_ratio)\n",
    "        "
   ]
  },
  {
   "cell_type": "code",
   "execution_count": 8,
   "metadata": {},
   "outputs": [
    {
     "name": "stdout",
     "output_type": "stream",
     "text": [
      "Loading Configuration from: Experiments/HadCM3/Config_HadCM3_LGM.ini\n",
      "Loading Parameters from: ZOEE/config/SellersParameterization.ini\n"
     ]
    }
   ],
   "source": [
    "\"\"\"Import the configuration that is required to run your specific model\"\"\"\n",
    "\n",
    "config_HadCM3_LGM=importer('Experiments/HadCM3/Config_HadCM3_LGM.ini')\n",
    "parallel_config = {'number_of_parameters': 6, 'number_of_cycles': 1,'number_of_parallels': 13}\n",
    "variable_importer(config_HadCM3_LGM,initialZMT=False,parallel=False,parallel_config=parallel_config)\n",
    "config_HadCM3_LGM,Sellers=add_sellersparameters(config_HadCM3_LGM, parameterinterpolatorstepwise,\\\n",
    "                                            'ZOEE/config/SellersParameterization.ini',4,2,True,True)\n",
    "\n",
    "\n",
    "\"\"\"Import the class of your model that has to be defined in ZOEE.modules.optimization. And give it whatever \n",
    "configuration it requires\"\"\"\n",
    "\n",
    "parameter_labels=[['func3','a']]\n",
    "parameter_levels=np.array([None])\n",
    "elevation=-0.0065*np.array(Sellers[1][1])\n",
    "\n",
    "ZOEE_HadCM3_LGM = ZOEE_optimization(1,parameter_labels,parameter_levels,True,elevation,monthly=True)\n",
    "ZOEE_HadCM3_LGM.parallel = False\n",
    "\n",
    "P_config=[200]\n",
    "dat=ZOEE_HadCM3_LGM.run(config_HadCM3_LGM, P_config, HadCM3_LGM_ZMT_target, 283, control=False)\n",
    "\n",
    "\n",
    "#print(\"Optimization >>> HadCM3 LGM target (ZMT anomaly)\")\n",
    "#F_HadCM3_LGM_an, dF_HadCM3_LGM_an, P_HadCM3_LGM_an, Ptrans_HadCM3_LGM_an, gamma_HadCM3_LGM_an, data_HadCM3_LGM_an = optimization_setup_LGM_an.optimize(ZOEE_HadCM3_LGM,config_HadCM3_LGM)"
   ]
  },
  {
   "cell_type": "code",
   "execution_count": 8,
   "metadata": {},
   "outputs": [
    {
     "name": "stdout",
     "output_type": "stream",
     "text": [
      "Loading Configuration from: Experiments/HadCM3/Config_HadCM3_LGM.ini\n",
      "Loading Parameters from: ZOEE/config/SellersParameterization.ini\n"
     ]
    },
    {
     "data": {
      "application/vnd.jupyter.widget-view+json": {
       "model_id": "33b65b3c066e4c749bc2d433c2a51d42",
       "version_major": 2,
       "version_minor": 0
      },
      "text/plain": [
       "HBox(children=(FloatProgress(value=0.0, max=3650.0), HTML(value='')))"
      ]
     },
     "metadata": {},
     "output_type": "display_data"
    },
    {
     "name": "stdout",
     "output_type": "stream",
     "text": [
      "\n"
     ]
    },
    {
     "ename": "KeyboardInterrupt",
     "evalue": "",
     "output_type": "error",
     "traceback": [
      "\u001b[0;31m---------------------------------------------------------------------------\u001b[0m",
      "\u001b[0;31mKeyboardInterrupt\u001b[0m                         Traceback (most recent call last)",
      "\u001b[0;32m<ipython-input-8-781c1622ceb4>\u001b[0m in \u001b[0;36m<module>\u001b[0;34m\u001b[0m\n\u001b[1;32m      5\u001b[0m                                             'ZOEE/config/SellersParameterization.ini',4,2,True,True)\n\u001b[1;32m      6\u001b[0m \u001b[0mVars\u001b[0m\u001b[0;34m.\u001b[0m\u001b[0mT\u001b[0m \u001b[0;34m=\u001b[0m \u001b[0mHadCM3_LGM_ZMT_target\u001b[0m\u001b[0;34m\u001b[0m\u001b[0;34m\u001b[0m\u001b[0m\n\u001b[0;32m----> 7\u001b[0;31m \u001b[0mdata\u001b[0m \u001b[0;34m=\u001b[0m \u001b[0mrk4alg\u001b[0m\u001b[0;34m(\u001b[0m\u001b[0mconfig_HadCM3_LGM\u001b[0m\u001b[0;34m,\u001b[0m \u001b[0mprogressbar\u001b[0m\u001b[0;34m=\u001b[0m\u001b[0;32mTrue\u001b[0m\u001b[0;34m,\u001b[0m \u001b[0mmonthly\u001b[0m\u001b[0;34m=\u001b[0m\u001b[0;32mTrue\u001b[0m\u001b[0;34m)\u001b[0m\u001b[0;34m\u001b[0m\u001b[0;34m\u001b[0m\u001b[0m\n\u001b[0m",
      "\u001b[0;32m~/University/GMD_Paper/ZOEE_Package/ZOEE/modules/rk4.py\u001b[0m in \u001b[0;36mrk4alg\u001b[0;34m(config, progressbar, monthly)\u001b[0m\n\u001b[1;32m    205\u001b[0m         \u001b[0mBase\u001b[0m\u001b[0;34m.\u001b[0m\u001b[0mRuntime_Tracker\u001b[0m \u001b[0;34m+=\u001b[0m \u001b[0;36m1\u001b[0m\u001b[0;34m\u001b[0m\u001b[0;34m\u001b[0m\u001b[0m\n\u001b[1;32m    206\u001b[0m         \u001b[0mVars\u001b[0m\u001b[0;34m.\u001b[0m\u001b[0mT\u001b[0m \u001b[0;34m=\u001b[0m \u001b[0mT0\u001b[0m \u001b[0;34m+\u001b[0m \u001b[0mk3\u001b[0m\u001b[0;34m\u001b[0m\u001b[0;34m\u001b[0m\u001b[0m\n\u001b[0;32m--> 207\u001b[0;31m         \u001b[0mk4\u001b[0m \u001b[0;34m=\u001b[0m \u001b[0mh\u001b[0m \u001b[0;34m*\u001b[0m \u001b[0mmodel_equation\u001b[0m\u001b[0;34m(\u001b[0m\u001b[0meqparam\u001b[0m\u001b[0;34m,\u001b[0m \u001b[0mfunccomp\u001b[0m\u001b[0;34m)\u001b[0m\u001b[0;34m\u001b[0m\u001b[0;34m\u001b[0m\u001b[0m\n\u001b[0m\u001b[1;32m    208\u001b[0m         \u001b[0mBase\u001b[0m\u001b[0;34m.\u001b[0m\u001b[0mRuntime_Tracker\u001b[0m \u001b[0;34m+=\u001b[0m \u001b[0;36m1\u001b[0m\u001b[0;34m\u001b[0m\u001b[0;34m\u001b[0m\u001b[0m\n\u001b[1;32m    209\u001b[0m \u001b[0;34m\u001b[0m\u001b[0m\n",
      "\u001b[0;32m~/University/GMD_Paper/ZOEE_Package/ZOEE/modules/model.py\u001b[0m in \u001b[0;36mmodel_equation\u001b[0;34m(eqparam, funccomp)\u001b[0m\n\u001b[1;32m     62\u001b[0m                 \u001b[0my\u001b[0m \u001b[0;34m+=\u001b[0m \u001b[0mfunclist\u001b[0m\u001b[0;34m[\u001b[0m\u001b[0mfuncnum\u001b[0m\u001b[0;34m]\u001b[0m\u001b[0;34m(\u001b[0m\u001b[0mfuncparam\u001b[0m\u001b[0;34m[\u001b[0m\u001b[0mfuncnum\u001b[0m\u001b[0;34m]\u001b[0m\u001b[0;34m)\u001b[0m  \u001b[0;31m# Calling the selected function and sum them up\u001b[0m\u001b[0;34m\u001b[0m\u001b[0;34m\u001b[0m\u001b[0m\n\u001b[1;32m     63\u001b[0m         \u001b[0;32melse\u001b[0m\u001b[0;34m:\u001b[0m\u001b[0;34m\u001b[0m\u001b[0;34m\u001b[0m\u001b[0m\n\u001b[0;32m---> 64\u001b[0;31m             \u001b[0my\u001b[0m \u001b[0;34m+=\u001b[0m \u001b[0mfunclist\u001b[0m\u001b[0;34m[\u001b[0m\u001b[0mfuncnum\u001b[0m\u001b[0;34m]\u001b[0m\u001b[0;34m(\u001b[0m\u001b[0mfuncparam\u001b[0m\u001b[0;34m[\u001b[0m\u001b[0mfuncnum\u001b[0m\u001b[0;34m]\u001b[0m\u001b[0;34m)\u001b[0m  \u001b[0;31m# Calling the selected function and sum them up\u001b[0m\u001b[0;34m\u001b[0m\u001b[0;34m\u001b[0m\u001b[0m\n\u001b[0m\u001b[1;32m     65\u001b[0m     \u001b[0;32mreturn\u001b[0m \u001b[0my\u001b[0m \u001b[0;34m/\u001b[0m \u001b[0mC_ao\u001b[0m  \u001b[0;31m# output of y, weighted with the heat capacity\u001b[0m\u001b[0;34m\u001b[0m\u001b[0;34m\u001b[0m\u001b[0m\n",
      "\u001b[0;32m~/University/GMD_Paper/ZOEE_Package/ZOEE/modules/functions.py\u001b[0m in \u001b[0;36minsolation\u001b[0;34m(self, funcparam)\u001b[0m\n\u001b[1;32m    254\u001b[0m \u001b[0;34m\u001b[0m\u001b[0m\n\u001b[1;32m    255\u001b[0m             \u001b[0;31m# Calculating albedo from given albedofunction\u001b[0m\u001b[0;34m\u001b[0m\u001b[0;34m\u001b[0m\u001b[0;34m\u001b[0m\u001b[0m\n\u001b[0;32m--> 256\u001b[0;31m         \u001b[0malpha\u001b[0m \u001b[0;34m=\u001b[0m \u001b[0malbedofunc\u001b[0m\u001b[0;34m(\u001b[0m\u001b[0;34m*\u001b[0m\u001b[0malbedofuncparam\u001b[0m\u001b[0;34m)\u001b[0m\u001b[0;34m\u001b[0m\u001b[0;34m\u001b[0m\u001b[0m\n\u001b[0m\u001b[1;32m    257\u001b[0m         \u001b[0;31m# Readout to give albedo as output\u001b[0m\u001b[0;34m\u001b[0m\u001b[0;34m\u001b[0m\u001b[0;34m\u001b[0m\u001b[0m\n\u001b[1;32m    258\u001b[0m         \u001b[0;32mif\u001b[0m \u001b[0malbedoread\u001b[0m \u001b[0;34m==\u001b[0m \u001b[0;32mTrue\u001b[0m\u001b[0;34m:\u001b[0m\u001b[0;34m\u001b[0m\u001b[0;34m\u001b[0m\u001b[0m\n",
      "\u001b[0;32m~/University/GMD_Paper/ZOEE_Package/ZOEE/modules/functions.py\u001b[0m in \u001b[0;36mdynamic_sel\u001b[0;34m(self, Z, b)\u001b[0m\n\u001b[1;32m    533\u001b[0m         \u001b[0;31m# Shift of the temperature with the elevation to gain surface temperatures\u001b[0m\u001b[0;34m\u001b[0m\u001b[0;34m\u001b[0m\u001b[0;34m\u001b[0m\u001b[0m\n\u001b[1;32m    534\u001b[0m \u001b[0;34m\u001b[0m\u001b[0m\n\u001b[0;32m--> 535\u001b[0;31m         \u001b[0mTg\u001b[0m \u001b[0;34m=\u001b[0m \u001b[0mVars\u001b[0m\u001b[0;34m.\u001b[0m\u001b[0mT\u001b[0m \u001b[0;34m-\u001b[0m \u001b[0;36m0.0065\u001b[0m \u001b[0;34m*\u001b[0m \u001b[0mZ\u001b[0m\u001b[0;34m\u001b[0m\u001b[0;34m\u001b[0m\u001b[0m\n\u001b[0m\u001b[1;32m    536\u001b[0m         \u001b[0;31m# creating and filling array, depending on the current latitudinal temperature\u001b[0m\u001b[0;34m\u001b[0m\u001b[0;34m\u001b[0m\u001b[0;34m\u001b[0m\u001b[0m\n\u001b[1;32m    537\u001b[0m         \u001b[0;32mif\u001b[0m \u001b[0mBase\u001b[0m\u001b[0;34m.\u001b[0m\u001b[0mparallelization\u001b[0m \u001b[0;34m==\u001b[0m \u001b[0;32mTrue\u001b[0m\u001b[0;34m:\u001b[0m\u001b[0;34m\u001b[0m\u001b[0;34m\u001b[0m\u001b[0m\n",
      "\u001b[0;31mKeyboardInterrupt\u001b[0m: "
     ]
    }
   ],
   "source": [
    "config_HadCM3_LGM=importer('Experiments/HadCM3/Config_HadCM3_LGM.ini')\n",
    "parallel_config = {'number_of_parameters': 6, 'number_of_cycles': 1,'number_of_parallels': 13}\n",
    "variable_importer(config_HadCM3_LGM,initialZMT=False,parallel=False,parallel_config=parallel_config,control=True)\n",
    "config_HadCM3_LGM,Sellers=add_sellersparameters(config_HadCM3_LGM, parameterinterpolatorstepwise,\\\n",
    "                                            'ZOEE/config/SellersParameterization.ini',4,2,True,True)\n",
    "Vars.T = HadCM3_LGM_ZMT_target\n",
    "data = rk4alg(config_HadCM3_LGM, progressbar=True, monthly=True)"
   ]
  },
  {
   "cell_type": "code",
   "execution_count": 9,
   "metadata": {},
   "outputs": [
    {
     "data": {
      "text/plain": [
       "[1, -2.2172207127864474]"
      ]
     },
     "execution_count": 9,
     "metadata": {},
     "output_type": "execute_result"
    }
   ],
   "source": [
    "Vars.CO2Tracker"
   ]
  },
  {
   "cell_type": "code",
   "execution_count": null,
   "metadata": {},
   "outputs": [],
   "source": []
  }
 ],
 "metadata": {
  "kernelspec": {
   "display_name": "Python 3",
   "language": "python",
   "name": "python3"
  },
  "language_info": {
   "codemirror_mode": {
    "name": "ipython",
    "version": 3
   },
   "file_extension": ".py",
   "mimetype": "text/x-python",
   "name": "python",
   "nbconvert_exporter": "python",
   "pygments_lexer": "ipython3",
   "version": "3.7.5"
  }
 },
 "nbformat": 4,
 "nbformat_minor": 4
}
