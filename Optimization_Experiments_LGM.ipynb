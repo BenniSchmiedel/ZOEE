{
 "cells": [
  {
   "cell_type": "markdown",
   "metadata": {},
   "source": [
    "# Optimizations of ZOEE to HadCM3, CESM, Pages2k - p1000"
   ]
  },
  {
   "cell_type": "code",
   "execution_count": 2,
   "metadata": {},
   "outputs": [],
   "source": [
    "import matplotlib.pyplot as plt\n",
    "import numpy as np\n",
    "\n",
    "from ZOEE.modules.configuration import importer, add_sellersparameters, parameterinterpolatorstepwise\n",
    "from ZOEE.modules.variables import variable_importer, Vars, Base\n",
    "from ZOEE.modules.optimization import optimization, ZOEE_optimization\n",
    "#from ZOEE import update_plotstyle, moving_average\n",
    "from ZOEE.modules.rk4 import rk4alg\n",
    "#import matplotlib\n",
    "#update_plotstyle()\n",
    "#matplotlib.rcParams['lines.linewidth']=1.1"
   ]
  },
  {
   "cell_type": "markdown",
   "metadata": {},
   "source": [
    "## General optimization setup"
   ]
  },
  {
   "cell_type": "code",
   "execution_count": 3,
   "metadata": {},
   "outputs": [],
   "source": [
    "Lat_10,ZMT_10=np.loadtxt('Experiments/ERA5/ERA_1961_1990_10deg_ZMTanomaly.txt',delimiter=',')"
   ]
  },
  {
   "cell_type": "code",
   "execution_count": 4,
   "metadata": {},
   "outputs": [],
   "source": [
    "\n",
    "\"\"\"Declaration of parameter setup, with initial parameters, parameter boundaries and \n",
    "the parameter pertubation to estimate the cost function gradient\"\"\"\n",
    "P0=np.array([70*4.2e6,200,1.9,1.165,1.165,1.165])\n",
    "#P0=Get_PGamma[0]\n",
    "Pmin=np.array([1*4.2e6,170,1.3,0.9,0.9,0.9])\n",
    "Pmax=np.array([100*4.2e6,240,2.5,1.3,1.3,1.3])\n",
    "P_pert_ratio=1/10000\n",
    "        "
   ]
  },
  {
   "cell_type": "markdown",
   "metadata": {},
   "source": [
    "# Optimizations of ZOEE to HadCM3 - LGM"
   ]
  },
  {
   "cell_type": "markdown",
   "metadata": {},
   "source": [
    "## General optimization setup"
   ]
  },
  {
   "cell_type": "code",
   "execution_count": 5,
   "metadata": {},
   "outputs": [],
   "source": [
    "Lat_10,HadCM3_LGM_ZMT_target=np.loadtxt('Experiments/HadCM3/HadCM3_LGM_av_10deg_ZMT.csv',delimiter=',')\n",
    "Lat_10,HadCM3_LGM_ZMT_target_anomaly=np.loadtxt('Experiments/HadCM3/HadCM3_LGM_av_10deg_ZMTanomaly.csv',delimiter=',')\n",
    "HadCM3_LGM_GMT=np.loadtxt('Experiments/HadCM3/HadCM3_LGM_850_1850_anomaly.txt',delimiter=',')"
   ]
  },
  {
   "cell_type": "code",
   "execution_count": 8,
   "metadata": {},
   "outputs": [],
   "source": [
    "## ZMT anomaly\n",
    "\n",
    "\"\"\"Decleration of optimization configuration\"\"\"\n",
    "grid=np.linspace(-85,85,18)\n",
    "optimization_setup_LGM_an = optimization(mode='Coupled',\n",
    "                            target={'ZMT':HadCM3_LGM_ZMT_target_anomaly,'GMT':HadCM3_LGM_GMT[1]},\n",
    "                            ZMT_response=True, \n",
    "                            GMT_response=True,\n",
    "                            response_average_length=30*12,\n",
    "                            num_steps=20,\n",
    "                            num_data=12000,\n",
    "                            gamma0=1e-8,\n",
    "                            cost_function_type='LeastSquare',\n",
    "                            cost_weight='cross_weight',\n",
    "                            cost_ratio=None,\n",
    "                            ZMT=HadCM3_LGM_ZMT_target,\n",
    "                            GMT=283.15,\n",
    "                            precision=0,\n",
    "                            grid=grid)\n",
    "\n",
    "\"\"\"Declaration of parameter setup, with initial parameters, parameter boundaries and \n",
    "the parameter pertubation to estimate the cost function gradient\"\"\"\n",
    "\n",
    "optimization_setup_LGM_an.give_parameters(P0,Pmin,Pmax,P_pert_ratio)\n",
    "        "
   ]
  },
  {
   "cell_type": "code",
   "execution_count": 9,
   "metadata": {},
   "outputs": [
    {
     "name": "stdout",
     "output_type": "stream",
     "text": [
      "Loading Configuration from: Experiments/HadCM3/Config_HadCM3_LGM.ini\n",
      "Loading Parameters from: ZOEE/config/SellersParameterization.ini\n",
      "Optimization >>> HadCM3 LGM target (ZMT anomaly)\n",
      "Iteration no.0\n",
      "Starting controlrun with a temperature accuracy of 0.001 K on the GMT over 1000 datapoints.\n"
     ]
    },
    {
     "ename": "KeyboardInterrupt",
     "evalue": "",
     "output_type": "error",
     "traceback": [
      "\u001b[0;31m---------------------------------------------------------------------------\u001b[0m",
      "\u001b[0;31mKeyboardInterrupt\u001b[0m                         Traceback (most recent call last)",
      "\u001b[0;32m<ipython-input-9-e2db46cd53a2>\u001b[0m in \u001b[0;36m<module>\u001b[0;34m\u001b[0m\n\u001b[1;32m     21\u001b[0m \u001b[0;34m\u001b[0m\u001b[0m\n\u001b[1;32m     22\u001b[0m \u001b[0mprint\u001b[0m\u001b[0;34m(\u001b[0m\u001b[0;34m\"Optimization >>> HadCM3 LGM target (ZMT anomaly)\"\u001b[0m\u001b[0;34m)\u001b[0m\u001b[0;34m\u001b[0m\u001b[0;34m\u001b[0m\u001b[0m\n\u001b[0;32m---> 23\u001b[0;31m \u001b[0mF_HadCM3_LGM_an\u001b[0m\u001b[0;34m,\u001b[0m \u001b[0mdF_HadCM3_LGM_an\u001b[0m\u001b[0;34m,\u001b[0m \u001b[0mP_HadCM3_LGM_an\u001b[0m\u001b[0;34m,\u001b[0m \u001b[0mPtrans_HadCM3_LGM_an\u001b[0m\u001b[0;34m,\u001b[0m \u001b[0mgamma_HadCM3_LGM_an\u001b[0m\u001b[0;34m,\u001b[0m \u001b[0mdata_HadCM3_LGM_an\u001b[0m \u001b[0;34m=\u001b[0m \u001b[0moptimization_setup_LGM_an\u001b[0m\u001b[0;34m.\u001b[0m\u001b[0moptimize\u001b[0m\u001b[0;34m(\u001b[0m\u001b[0mZOEE_HadCM3_LGM\u001b[0m\u001b[0;34m,\u001b[0m\u001b[0mconfig_HadCM3_LGM\u001b[0m\u001b[0;34m)\u001b[0m\u001b[0;34m\u001b[0m\u001b[0;34m\u001b[0m\u001b[0m\n\u001b[0m",
      "\u001b[0;32m~/University/GMD_Paper/ZOEE_Package/ZOEE/modules/optimization.py\u001b[0m in \u001b[0;36moptimize\u001b[0;34m(self, model, model_config)\u001b[0m\n\u001b[1;32m    127\u001b[0m             \u001b[0;31m# ********************* Interface function for the model used to simulate******************\u001b[0m\u001b[0;34m\u001b[0m\u001b[0;34m\u001b[0m\u001b[0;34m\u001b[0m\u001b[0m\n\u001b[1;32m    128\u001b[0m             \u001b[0;31m# run the model to create the model data which is compared with the target. Two outputs if mode is coupled.\u001b[0m\u001b[0;34m\u001b[0m\u001b[0;34m\u001b[0m\u001b[0;34m\u001b[0m\u001b[0m\n\u001b[0;32m--> 129\u001b[0;31m             \u001b[0mdata\u001b[0m \u001b[0;34m=\u001b[0m \u001b[0mself\u001b[0m\u001b[0;34m.\u001b[0m\u001b[0mrun_model\u001b[0m\u001b[0;34m(\u001b[0m\u001b[0mmodel\u001b[0m\u001b[0;34m,\u001b[0m \u001b[0mmodel_config\u001b[0m\u001b[0;34m,\u001b[0m \u001b[0mP\u001b[0m\u001b[0;34m[\u001b[0m\u001b[0mi\u001b[0m\u001b[0;34m]\u001b[0m\u001b[0;34m)\u001b[0m\u001b[0;34m\u001b[0m\u001b[0;34m\u001b[0m\u001b[0m\n\u001b[0m\u001b[1;32m    130\u001b[0m             \u001b[0;31m# ********************************************************************************\u001b[0m\u001b[0;34m\u001b[0m\u001b[0;34m\u001b[0m\u001b[0;34m\u001b[0m\u001b[0m\n\u001b[1;32m    131\u001b[0m \u001b[0;34m\u001b[0m\u001b[0m\n",
      "\u001b[0;32m~/University/GMD_Paper/ZOEE_Package/ZOEE/modules/optimization.py\u001b[0m in \u001b[0;36mrun_model\u001b[0;34m(self, model, model_config, P)\u001b[0m\n\u001b[1;32m    276\u001b[0m                 \u001b[0;32mraise\u001b[0m \u001b[0mException\u001b[0m\u001b[0;34m(\u001b[0m\u001b[0;34m'GMT_initial shape not understood'\u001b[0m\u001b[0;34m)\u001b[0m\u001b[0;34m\u001b[0m\u001b[0;34m\u001b[0m\u001b[0m\n\u001b[1;32m    277\u001b[0m \u001b[0;34m\u001b[0m\u001b[0m\n\u001b[0;32m--> 278\u001b[0;31m         \u001b[0mdata_CTRL\u001b[0m \u001b[0;34m=\u001b[0m \u001b[0mmodel\u001b[0m\u001b[0;34m.\u001b[0m\u001b[0mrun\u001b[0m\u001b[0;34m(\u001b[0m\u001b[0mmodel_config\u001b[0m\u001b[0;34m,\u001b[0m \u001b[0mP_config\u001b[0m\u001b[0;34m,\u001b[0m \u001b[0mself\u001b[0m\u001b[0;34m.\u001b[0m\u001b[0mZMT_initial\u001b[0m\u001b[0;34m,\u001b[0m \u001b[0mself\u001b[0m\u001b[0;34m.\u001b[0m\u001b[0mGMT_initial\u001b[0m\u001b[0;34m,\u001b[0m \u001b[0mcontrol\u001b[0m\u001b[0;34m=\u001b[0m\u001b[0;32mTrue\u001b[0m\u001b[0;34m)\u001b[0m\u001b[0;34m\u001b[0m\u001b[0;34m\u001b[0m\u001b[0m\n\u001b[0m\u001b[1;32m    279\u001b[0m         \u001b[0;31m# self.ZMT_initial, self.GMT_initial, ZMT_out = data_CTRL[0][-1], data_CTRL[1][-1], data_CTRL[2]\u001b[0m\u001b[0;34m\u001b[0m\u001b[0;34m\u001b[0m\u001b[0;34m\u001b[0m\u001b[0m\n\u001b[1;32m    280\u001b[0m         \u001b[0mZMT_out\u001b[0m \u001b[0;34m=\u001b[0m \u001b[0mdata_CTRL\u001b[0m\u001b[0;34m[\u001b[0m\u001b[0;36m2\u001b[0m\u001b[0;34m]\u001b[0m\u001b[0;34m\u001b[0m\u001b[0;34m\u001b[0m\u001b[0m\n",
      "\u001b[0;32m~/University/GMD_Paper/ZOEE_Package/ZOEE/modules/optimization.py\u001b[0m in \u001b[0;36mrun\u001b[0;34m(self, config, P_config, ZMT, GMT, control)\u001b[0m\n\u001b[1;32m    408\u001b[0m \u001b[0;34m\u001b[0m\u001b[0m\n\u001b[1;32m    409\u001b[0m         \u001b[0mVars\u001b[0m\u001b[0;34m.\u001b[0m\u001b[0mT\u001b[0m\u001b[0;34m,\u001b[0m \u001b[0mVars\u001b[0m\u001b[0;34m.\u001b[0m\u001b[0mT_global\u001b[0m \u001b[0;34m=\u001b[0m \u001b[0mZMT\u001b[0m\u001b[0;34m,\u001b[0m \u001b[0mGMT\u001b[0m\u001b[0;34m\u001b[0m\u001b[0;34m\u001b[0m\u001b[0m\n\u001b[0;32m--> 410\u001b[0;31m         \u001b[0mdata\u001b[0m \u001b[0;34m=\u001b[0m \u001b[0mrk4alg\u001b[0m\u001b[0;34m(\u001b[0m\u001b[0mconfig\u001b[0m\u001b[0;34m,\u001b[0m \u001b[0mprogressbar\u001b[0m\u001b[0;34m=\u001b[0m\u001b[0;32mFalse\u001b[0m\u001b[0;34m,\u001b[0m \u001b[0mmonthly\u001b[0m\u001b[0;34m=\u001b[0m\u001b[0mself\u001b[0m\u001b[0;34m.\u001b[0m\u001b[0mmonthly\u001b[0m\u001b[0;34m)\u001b[0m\u001b[0;34m\u001b[0m\u001b[0;34m\u001b[0m\u001b[0m\n\u001b[0m\u001b[1;32m    411\u001b[0m         \u001b[0;32mif\u001b[0m \u001b[0mcontrol\u001b[0m\u001b[0;34m:\u001b[0m\u001b[0;34m\u001b[0m\u001b[0;34m\u001b[0m\u001b[0m\n\u001b[1;32m    412\u001b[0m             \u001b[0;32mif\u001b[0m \u001b[0mself\u001b[0m\u001b[0;34m.\u001b[0m\u001b[0melevation\u001b[0m\u001b[0;34m:\u001b[0m\u001b[0;34m\u001b[0m\u001b[0;34m\u001b[0m\u001b[0m\n",
      "\u001b[0;32m~/University/GMD_Paper/ZOEE_Package/ZOEE/modules/rk4.py\u001b[0m in \u001b[0;36mrk4alg\u001b[0;34m(config, progressbar, monthly)\u001b[0m\n\u001b[1;32m    205\u001b[0m         \u001b[0mBase\u001b[0m\u001b[0;34m.\u001b[0m\u001b[0mRuntime_Tracker\u001b[0m \u001b[0;34m+=\u001b[0m \u001b[0;36m1\u001b[0m\u001b[0;34m\u001b[0m\u001b[0;34m\u001b[0m\u001b[0m\n\u001b[1;32m    206\u001b[0m         \u001b[0mVars\u001b[0m\u001b[0;34m.\u001b[0m\u001b[0mT\u001b[0m \u001b[0;34m=\u001b[0m \u001b[0mT0\u001b[0m \u001b[0;34m+\u001b[0m \u001b[0mk3\u001b[0m\u001b[0;34m\u001b[0m\u001b[0;34m\u001b[0m\u001b[0m\n\u001b[0;32m--> 207\u001b[0;31m         \u001b[0mk4\u001b[0m \u001b[0;34m=\u001b[0m \u001b[0mh\u001b[0m \u001b[0;34m*\u001b[0m \u001b[0mmodel_equation\u001b[0m\u001b[0;34m(\u001b[0m\u001b[0meqparam\u001b[0m\u001b[0;34m,\u001b[0m \u001b[0mfunccomp\u001b[0m\u001b[0;34m)\u001b[0m\u001b[0;34m\u001b[0m\u001b[0;34m\u001b[0m\u001b[0m\n\u001b[0m\u001b[1;32m    208\u001b[0m         \u001b[0mBase\u001b[0m\u001b[0;34m.\u001b[0m\u001b[0mRuntime_Tracker\u001b[0m \u001b[0;34m+=\u001b[0m \u001b[0;36m1\u001b[0m\u001b[0;34m\u001b[0m\u001b[0;34m\u001b[0m\u001b[0m\n\u001b[1;32m    209\u001b[0m \u001b[0;34m\u001b[0m\u001b[0m\n",
      "\u001b[0;32m~/University/GMD_Paper/ZOEE_Package/ZOEE/modules/model.py\u001b[0m in \u001b[0;36mmodel_equation\u001b[0;34m(eqparam, funccomp)\u001b[0m\n\u001b[1;32m     57\u001b[0m                 \u001b[0;32mpass\u001b[0m\u001b[0;34m\u001b[0m\u001b[0;34m\u001b[0m\u001b[0m\n\u001b[1;32m     58\u001b[0m             \u001b[0;32melse\u001b[0m\u001b[0;34m:\u001b[0m\u001b[0;34m\u001b[0m\u001b[0;34m\u001b[0m\u001b[0m\n\u001b[0;32m---> 59\u001b[0;31m                 \u001b[0my\u001b[0m \u001b[0;34m+=\u001b[0m \u001b[0mfunclist\u001b[0m\u001b[0;34m[\u001b[0m\u001b[0mfuncnum\u001b[0m\u001b[0;34m]\u001b[0m\u001b[0;34m(\u001b[0m\u001b[0mfuncparam\u001b[0m\u001b[0;34m[\u001b[0m\u001b[0mfuncnum\u001b[0m\u001b[0;34m]\u001b[0m\u001b[0;34m)\u001b[0m  \u001b[0;31m# Calling the selected function and sum them up\u001b[0m\u001b[0;34m\u001b[0m\u001b[0;34m\u001b[0m\u001b[0m\n\u001b[0m\u001b[1;32m     60\u001b[0m         \u001b[0;32melse\u001b[0m\u001b[0;34m:\u001b[0m\u001b[0;34m\u001b[0m\u001b[0;34m\u001b[0m\u001b[0m\n\u001b[1;32m     61\u001b[0m             \u001b[0my\u001b[0m \u001b[0;34m+=\u001b[0m \u001b[0mfunclist\u001b[0m\u001b[0;34m[\u001b[0m\u001b[0mfuncnum\u001b[0m\u001b[0;34m]\u001b[0m\u001b[0;34m(\u001b[0m\u001b[0mfuncparam\u001b[0m\u001b[0;34m[\u001b[0m\u001b[0mfuncnum\u001b[0m\u001b[0;34m]\u001b[0m\u001b[0;34m)\u001b[0m  \u001b[0;31m# Calling the selected function and sum them up\u001b[0m\u001b[0;34m\u001b[0m\u001b[0;34m\u001b[0m\u001b[0m\n",
      "\u001b[0;32m~/University/GMD_Paper/ZOEE_Package/ZOEE/modules/functions.py\u001b[0m in \u001b[0;36minsolation\u001b[0;34m(self, funcparam)\u001b[0m\n\u001b[1;32m    254\u001b[0m \u001b[0;34m\u001b[0m\u001b[0m\n\u001b[1;32m    255\u001b[0m             \u001b[0;31m# Calculating albedo from given albedofunction\u001b[0m\u001b[0;34m\u001b[0m\u001b[0;34m\u001b[0m\u001b[0;34m\u001b[0m\u001b[0m\n\u001b[0;32m--> 256\u001b[0;31m         \u001b[0malpha\u001b[0m \u001b[0;34m=\u001b[0m \u001b[0malbedofunc\u001b[0m\u001b[0;34m(\u001b[0m\u001b[0;34m*\u001b[0m\u001b[0malbedofuncparam\u001b[0m\u001b[0;34m)\u001b[0m\u001b[0;34m\u001b[0m\u001b[0;34m\u001b[0m\u001b[0m\n\u001b[0m\u001b[1;32m    257\u001b[0m         \u001b[0;31m# Readout to give albedo as output\u001b[0m\u001b[0;34m\u001b[0m\u001b[0;34m\u001b[0m\u001b[0;34m\u001b[0m\u001b[0m\n\u001b[1;32m    258\u001b[0m         \u001b[0;32mif\u001b[0m \u001b[0malbedoread\u001b[0m \u001b[0;34m==\u001b[0m \u001b[0;32mTrue\u001b[0m\u001b[0;34m:\u001b[0m\u001b[0;34m\u001b[0m\u001b[0;34m\u001b[0m\u001b[0m\n",
      "\u001b[0;32m~/University/GMD_Paper/ZOEE_Package/ZOEE/modules/functions.py\u001b[0m in \u001b[0;36mdynamic_sel\u001b[0;34m(self, Z, b)\u001b[0m\n\u001b[1;32m    554\u001b[0m                         \u001b[0;32melse\u001b[0m\u001b[0;34m:\u001b[0m\u001b[0;34m\u001b[0m\u001b[0;34m\u001b[0m\u001b[0m\n\u001b[1;32m    555\u001b[0m                             \u001b[0malbedo\u001b[0m\u001b[0;34m[\u001b[0m\u001b[0mi\u001b[0m\u001b[0;34m,\u001b[0m \u001b[0mj\u001b[0m\u001b[0;34m]\u001b[0m \u001b[0;34m=\u001b[0m \u001b[0mb\u001b[0m\u001b[0;34m[\u001b[0m\u001b[0mj\u001b[0m\u001b[0;34m]\u001b[0m \u001b[0;34m-\u001b[0m \u001b[0;36m2.548\u001b[0m\u001b[0;34m\u001b[0m\u001b[0;34m\u001b[0m\u001b[0m\n\u001b[0;32m--> 556\u001b[0;31m                         \u001b[0;32mif\u001b[0m \u001b[0malbedo\u001b[0m\u001b[0;34m[\u001b[0m\u001b[0mi\u001b[0m\u001b[0;34m,\u001b[0m \u001b[0mj\u001b[0m\u001b[0;34m]\u001b[0m \u001b[0;34m>\u001b[0m \u001b[0;36m0.85\u001b[0m\u001b[0;34m:\u001b[0m\u001b[0;34m\u001b[0m\u001b[0;34m\u001b[0m\u001b[0m\n\u001b[0m\u001b[1;32m    557\u001b[0m                             \u001b[0malbedo\u001b[0m\u001b[0;34m[\u001b[0m\u001b[0mi\u001b[0m\u001b[0;34m,\u001b[0m \u001b[0mj\u001b[0m\u001b[0;34m]\u001b[0m \u001b[0;34m=\u001b[0m \u001b[0;36m0.85\u001b[0m\u001b[0;34m\u001b[0m\u001b[0;34m\u001b[0m\u001b[0m\n\u001b[1;32m    558\u001b[0m         \u001b[0;32melse\u001b[0m\u001b[0;34m:\u001b[0m\u001b[0;34m\u001b[0m\u001b[0;34m\u001b[0m\u001b[0m\n",
      "\u001b[0;31mKeyboardInterrupt\u001b[0m: "
     ]
    }
   ],
   "source": [
    "\"\"\"Import the configuration that is required to run your specific model\"\"\"\n",
    "\n",
    "config_HadCM3_LGM=importer('Experiments/HadCM3/Config_HadCM3_LGM_fixed.ini')\n",
    "parallel_config = {'number_of_parameters': 6, 'number_of_cycles': 1,'number_of_parallels': 13}\n",
    "variable_importer(config_HadCM3_LGM,initialZMT=False,parallel=True,parallel_config=parallel_config)\n",
    "config_HadCM3_LGM,Sellers=add_sellersparameters(config_HadCM3_LGM, parameterinterpolatorstepwise,\\\n",
    "                                            'ZOEE/config/SellersParameterization.ini',4,2,True,True)\n",
    "\n",
    "\n",
    "\"\"\"Import the class of your model that has to be defined in ZOEE.modules.optimization. And give it whatever \n",
    "configuration it requires\"\"\"\n",
    "\n",
    "parameter_labels=[['eqparam','c_ao'],['func3','a'],['func3','b'],['func4','factor_oc'],['func4','factor_kwv'],['func4','factor_kair']]\n",
    "parameter_levels=np.array([None,None,None,None,None,None])\n",
    "elevation=-0.0065*np.array(Sellers[1][1])\n",
    "ZOEE_HadCM3_LGM = ZOEE_optimization(6,parameter_labels,parameter_levels,True,elevation,'Coupled',12000,monthly=True)\n",
    "#model_setup=[2,'ZMT',parameter_labels,parameter_levels,elevation,True]\n",
    "\n",
    "\"\"\"Execture optimize to start the optimization, giving it your model imported in the step before and configuration\n",
    "required to run your model\"\"\"\n",
    "\n",
    "print(\"Optimization >>> HadCM3 LGM target (ZMT anomaly)\")\n",
    "F_HadCM3_LGM_an, dF_HadCM3_LGM_an, P_HadCM3_LGM_an, Ptrans_HadCM3_LGM_an, gamma_HadCM3_LGM_an, data_HadCM3_LGM_an = optimization_setup_LGM_an.optimize(ZOEE_HadCM3_LGM,config_HadCM3_LGM)"
   ]
  },
  {
   "cell_type": "code",
   "execution_count": null,
   "metadata": {},
   "outputs": [],
   "source": [
    "np.savetxt('Experiments/Output/HadCM3_LGM_P_20_resp_an.txt',[P_HadCM3_LGM_an[-1],np.tile(gamma_HadCM3_LGM_an[-1],6)],delimiter=',')\n",
    "np.savetxt('Experiments/Output/HadCM3_LGM_F_20_resp_an.txt',F_HadCM3_LGM_an,delimiter=',')\n",
    "np.savetxt('Experiments/Output/HadCM3_LGM_dF_20_resp_an.txt',dF_HadCM3_LGM_an,delimiter=',')\n",
    "np.savetxt('Experiments/Output/HadCM3_LGM_ZMT_20_resp_an.txt',data_HadCM3_LGM_an[0][:,0],delimiter=',')\n",
    "np.savetxt('Experiments/Output/HadCM3_LGM_GMT_20_resp_an.txt',data_HadCM3_LGM_an[1][:,0],delimiter=',')"
   ]
  },
  {
   "cell_type": "code",
   "execution_count": null,
   "metadata": {},
   "outputs": [],
   "source": [
    "# ZMT absolute\n",
    "\n",
    "\"\"\"Decleration of optimization configuration\"\"\"\n",
    "grid=np.linspace(-85,85,18)\n",
    "optimization_setup_LGM = optimization(mode='Coupled',\n",
    "                            target={'ZMT':HadCM3_LGM_ZMT_target,'GMT':HadCM3_LGM_GMT[1]},\n",
    "                            ZMT_response=False, \n",
    "                            GMT_response=True,\n",
    "                            response_average_length=30*12,\n",
    "                            num_steps=20,\n",
    "                            num_data=12000,\n",
    "                            gamma0=1e-8,\n",
    "                            cost_function_type='LeastSquare',\n",
    "                            cost_weight='cross_weight',\n",
    "                            cost_ratio=None,\n",
    "                            ZMT=HadCM3_LGM_ZMT_target,\n",
    "                            GMT=283.15,\n",
    "                            precision=0,\n",
    "                            grid=grid)\n",
    "\n",
    "\"\"\"Declaration of parameter setup, with initial parameters, parameter boundaries and \n",
    "the parameter pertubation to estimate the cost function gradient\"\"\"\n",
    "\n",
    "optimization_setup_LGM.give_parameters(P0,Pmin,Pmax,P_pert_ratio)\n",
    "        "
   ]
  },
  {
   "cell_type": "code",
   "execution_count": null,
   "metadata": {},
   "outputs": [],
   "source": [
    "\"\"\"Execture optimize to start the optimization, giving it your model imported in the step before and configuration\n",
    "required to run your model\"\"\"\n",
    "\n",
    "print(\"Optimization >>> HadCM3 LGM target (ZMT absolute)\")\n",
    "F_HadCM3_LGM, dF_HadCM3_LGM, P_HadCM3_LGM, Ptrans_HadCM3_LGM, gamma_HadCM3_LGM, data_HadCM3_LGM=optimization_setup_LGM.optimize(ZOEE_HadCM3_LGM,config_HadCM3_LGM)"
   ]
  },
  {
   "cell_type": "code",
   "execution_count": null,
   "metadata": {},
   "outputs": [],
   "source": [
    "np.savetxt('Experiments/Output/HadCM3_LGM_P_20_abs.txt',[P_HadCM3_LGM[-1],np.tile(gamma_HadCM3_LGM[-1],6)],delimiter=',')\n",
    "np.savetxt('Experiments/Output/HadCM3_LGM_F_20_abs.txt',F_HadCM3_LGM,delimiter=',')\n",
    "np.savetxt('Experiments/Output/HadCM3_LGM_dF_20_abs.txt',dF_HadCM3_LGM,delimiter=',')\n",
    "np.savetxt('Experiments/Output/HadCM3_LGM_ZMT_20_abs.txt',data_HadCM3_LGM[0][:,0],delimiter=',')\n",
    "np.savetxt('Experiments/Output/HadCM3_LGM_GMT_20_abs.txt',data_HadCM3_LGM[1][:,0],delimiter=',')"
   ]
  }
 ],
 "metadata": {
  "kernelspec": {
   "display_name": "Python 3",
   "language": "python",
   "name": "python3"
  },
  "language_info": {
   "codemirror_mode": {
    "name": "ipython",
    "version": 3
   },
   "file_extension": ".py",
   "mimetype": "text/x-python",
   "name": "python",
   "nbconvert_exporter": "python",
   "pygments_lexer": "ipython3",
   "version": "3.7.5"
  }
 },
 "nbformat": 4,
 "nbformat_minor": 4
}
