{
 "cells": [
  {
   "cell_type": "code",
   "execution_count": null,
   "metadata": {},
   "outputs": [],
   "source": [
    "import matplotlib.pyplot as plt\n",
    "import numpy as np\n",
    "from lowEBMs.Packages.Configuration import importer, add_sellersparameters, parameterinterpolatorstepwise, reset\n",
    "from lowEBMs.Packages.Variables import variable_importer, Vars\n",
    "from lowEBMs.Packages.RK4 import rk4alg\n",
    "from lowEBMs.Packages.ModelEquation import model_equation\n",
    "from lowEBMs import moving_average, update_plotstyle\n",
    "import lowEBMs.Packages.Constants as const\n",
    "update_plotstyle()"
   ]
  },
  {
   "cell_type": "code",
   "execution_count": null,
   "metadata": {},
   "outputs": [],
   "source": [
    "#Load basic configuration\n",
    "configVolcanic=importer('../Config/EBM1D_VolcanicForcing.ini')\n",
    "variable_importer(configVolcanic,initialZMT=True)\n",
    "configVolcanic,Paras=add_sellersparameters(configVolcanic,parameterinterpolatorstepwise,'SellersParameterization.ini',2,0,True,True)\n",
    "\n",
    "#update for Spinup and run\n",
    "variable_importer(configVolcanic,initialZMT=True,control=True)\n",
    "Time_Spinup_Volcanic,ZMT_Spinup_Volcanic,GMT_Spinup_Volcanic=rk4alg(configVolcanic)\n",
    "\n",
    "#update for Targetsimulation with Spinup as initial and run\n",
    "variable_importer(configVolcanic,initialZMT=False,control=False)\n",
    "Vars.T,Vars.T_global=ZMT_Spinup_Volcanic[-1],GMT_Spinup_Volcanic[-1]\n",
    "Time_Volcanic,ZMT_Volcanic,GMT_Volcanic=rk4alg(configVolcanic)"
   ]
  },
  {
   "cell_type": "code",
   "execution_count": null,
   "metadata": {},
   "outputs": [],
   "source": [
    "plt.plot(Time_Volcanic/const.time_sec_year,GMT_Volcanic)"
   ]
  },
  {
   "cell_type": "code",
   "execution_count": null,
   "metadata": {},
   "outputs": [],
   "source": []
  }
 ],
 "metadata": {
  "kernelspec": {
   "display_name": "Python 3",
   "language": "python",
   "name": "python3"
  },
  "language_info": {
   "codemirror_mode": {
    "name": "ipython",
    "version": 3
   },
   "file_extension": ".py",
   "mimetype": "text/x-python",
   "name": "python",
   "nbconvert_exporter": "python",
   "pygments_lexer": "ipython3",
   "version": "3.6.9"
  }
 },
 "nbformat": 4,
 "nbformat_minor": 2
}
