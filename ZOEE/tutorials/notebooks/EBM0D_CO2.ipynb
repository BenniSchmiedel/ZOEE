{
 "cells": [
  {
   "cell_type": "code",
   "execution_count": 1,
   "metadata": {},
   "outputs": [],
   "source": [
    "import matplotlib.pyplot as plt\n",
    "import numpy as np\n",
    "from ZOEE.modules.configuration import importer, add_sellersparameters, parameterinterpolatorstepwise\n",
    "from ZOEE.modules.variables import variable_importer, Vars, Base\n",
    "#from ZOEE import update_plotstyle, moving_average\n",
    "from ZOEE.modules.rk4 import rk4alg"
   ]
  },
  {
   "cell_type": "code",
   "execution_count": 2,
   "metadata": {},
   "outputs": [
    {
     "name": "stdout",
     "output_type": "stream",
     "text": [
      "['', 'config/', '../config/', '../../config/', 'ZOEE/config/', '/home/benni/University/GMD_Paper/ZOEE_Package/ZOEE/tutorials/notebooks/ZOEE/tutorials/config/', '/home/benni/University/GMD_Paper/ZOEE_Package/ZOEE/tutorials/notebooks/ZOEE/config/', '/usr/lib/python37.zip/ZOEE/tutorials/config/', '/usr/lib/python37.zip/ZOEE/config/', '/usr/lib/python3.7/ZOEE/tutorials/config/', '/usr/lib/python3.7/ZOEE/config/', '/usr/lib/python3.7/lib-dynload/ZOEE/tutorials/config/', '/usr/lib/python3.7/lib-dynload/ZOEE/config/', '/ZOEE/tutorials/config/', '/ZOEE/config/', '/home/benni/.local/lib/python3.7/site-packages/ZOEE/tutorials/config/', '/home/benni/.local/lib/python3.7/site-packages/ZOEE/config/', '/usr/local/lib/python3.7/dist-packages/ZOEE/tutorials/config/', '/usr/local/lib/python3.7/dist-packages/ZOEE/config/', '/usr/local/lib/python3.7/dist-packages/xgcm-0.3.0-py3.7.egg/ZOEE/tutorials/config/', '/usr/local/lib/python3.7/dist-packages/xgcm-0.3.0-py3.7.egg/ZOEE/config/', '/usr/local/lib/python3.7/dist-packages/dask-2.14.0-py3.7.egg/ZOEE/tutorials/config/', '/usr/local/lib/python3.7/dist-packages/dask-2.14.0-py3.7.egg/ZOEE/config/', '/usr/local/lib/python3.7/dist-packages/future-0.18.2-py3.7.egg/ZOEE/tutorials/config/', '/usr/local/lib/python3.7/dist-packages/future-0.18.2-py3.7.egg/ZOEE/config/', '/usr/local/lib/python3.7/dist-packages/docrep-0.2.7-py3.7.egg/ZOEE/tutorials/config/', '/usr/local/lib/python3.7/dist-packages/docrep-0.2.7-py3.7.egg/ZOEE/config/', '/usr/local/lib/python3.7/dist-packages/setuptools-46.1.3-py3.7.egg/ZOEE/tutorials/config/', '/usr/local/lib/python3.7/dist-packages/setuptools-46.1.3-py3.7.egg/ZOEE/config/', '/usr/local/lib/python3.7/dist-packages/pandas-1.0.3-py3.7-linux-x86_64.egg/ZOEE/tutorials/config/', '/usr/local/lib/python3.7/dist-packages/pandas-1.0.3-py3.7-linux-x86_64.egg/ZOEE/config/', '/usr/local/lib/python3.7/dist-packages/python_dateutil-2.8.1-py3.7.egg/ZOEE/tutorials/config/', '/usr/local/lib/python3.7/dist-packages/python_dateutil-2.8.1-py3.7.egg/ZOEE/config/', '/home/benni/University/Master/xbasin_diagnostics/xbasin/ZOEE/tutorials/config/', '/home/benni/University/Master/xbasin_diagnostics/xbasin/ZOEE/config/', '/usr/local/lib/python3.7/dist-packages/qualname-0.1.0-py3.7.egg/ZOEE/tutorials/config/', '/usr/local/lib/python3.7/dist-packages/qualname-0.1.0-py3.7.egg/ZOEE/config/', '/usr/local/lib/python3.7/dist-packages/tqdm-4.50.0-py3.7.egg/ZOEE/tutorials/config/', '/usr/local/lib/python3.7/dist-packages/tqdm-4.50.0-py3.7.egg/ZOEE/config/', '/usr/local/lib/python3.7/dist-packages/netCDF4-1.5.4-py3.7-linux-x86_64.egg/ZOEE/tutorials/config/', '/usr/local/lib/python3.7/dist-packages/netCDF4-1.5.4-py3.7-linux-x86_64.egg/ZOEE/config/', '/usr/local/lib/python3.7/dist-packages/matplotlib-3.3.2-py3.7-linux-x86_64.egg/ZOEE/tutorials/config/', '/usr/local/lib/python3.7/dist-packages/matplotlib-3.3.2-py3.7-linux-x86_64.egg/ZOEE/config/', '/usr/local/lib/python3.7/dist-packages/pyparsing-3.0.0a2-py3.7.egg/ZOEE/tutorials/config/', '/usr/local/lib/python3.7/dist-packages/pyparsing-3.0.0a2-py3.7.egg/ZOEE/config/', '/usr/local/lib/python3.7/dist-packages/Pillow-7.2.0-py3.7-linux-x86_64.egg/ZOEE/tutorials/config/', '/usr/local/lib/python3.7/dist-packages/Pillow-7.2.0-py3.7-linux-x86_64.egg/ZOEE/config/', '/usr/local/lib/python3.7/dist-packages/kiwisolver-1.2.0-py3.7-linux-x86_64.egg/ZOEE/tutorials/config/', '/usr/local/lib/python3.7/dist-packages/kiwisolver-1.2.0-py3.7-linux-x86_64.egg/ZOEE/config/', '/usr/local/lib/python3.7/dist-packages/cycler-0.10.0-py3.7.egg/ZOEE/tutorials/config/', '/usr/local/lib/python3.7/dist-packages/cycler-0.10.0-py3.7.egg/ZOEE/config/', '/usr/local/lib/python3.7/dist-packages/certifi-2020.6.20-py3.7.egg/ZOEE/tutorials/config/', '/usr/local/lib/python3.7/dist-packages/certifi-2020.6.20-py3.7.egg/ZOEE/config/', '/usr/local/lib/python3.7/dist-packages/ZOEE-0.1-py3.7.egg/ZOEE/tutorials/config/', '/usr/local/lib/python3.7/dist-packages/ZOEE-0.1-py3.7.egg/ZOEE/config/', '/usr/lib/python3/dist-packages/ZOEE/tutorials/config/', '/usr/lib/python3/dist-packages/ZOEE/config/', '/home/benni/.local/lib/python3.7/site-packages/IPython/extensions/ZOEE/tutorials/config/', '/home/benni/.local/lib/python3.7/site-packages/IPython/extensions/ZOEE/config/', '/home/benni/.ipython/ZOEE/tutorials/config/', '/home/benni/.ipython/ZOEE/config/']\n",
      "Loading Configuration from: ../config/EBM0D_CO2_config.ini\n",
      "Starting controlrun with a temperature accuracy of 0.001 K on the GMT over 1000 datapoints.\n",
      "0D\n"
     ]
    },
    {
     "data": {
      "application/vnd.jupyter.widget-view+json": {
       "model_id": "915a94b4a0fe488caffee9f5bce4b04e",
       "version_major": 2,
       "version_minor": 0
      },
      "text/plain": [
       "HBox(children=(FloatProgress(value=0.0, max=100000.0), HTML(value='')))"
      ]
     },
     "metadata": {},
     "output_type": "display_data"
    },
    {
     "name": "stdout",
     "output_type": "stream",
     "text": [
      "Eq. State reached after 7006 steps, within 0.49262237548828125 seconds\n",
      "\n",
      "0D\n"
     ]
    },
    {
     "data": {
      "application/vnd.jupyter.widget-view+json": {
       "model_id": "35dce56945824e67a1ef386e8ef3cf3e",
       "version_major": 2,
       "version_minor": 0
      },
      "text/plain": [
       "HBox(children=(FloatProgress(value=0.0, max=32850.0), HTML(value='')))"
      ]
     },
     "metadata": {},
     "output_type": "display_data"
    },
    {
     "name": "stdout",
     "output_type": "stream",
     "text": [
      "\n"
     ]
    }
   ],
   "source": [
    "configuration=importer('EBM0D_CO2_config.ini')\n",
    "\n",
    "variable_importer(configuration,control=True)\n",
    "Time_Spinup,ZMT_Spinup,GMT_Spinup=rk4alg(configuration)\n",
    "\n",
    "variable_importer(configuration,control=False)\n",
    "Vars.T=ZMT_Spinup[-1]\n",
    "Time,ZMT,GMT=rk4alg(configuration)"
   ]
  },
  {
   "cell_type": "code",
   "execution_count": 15,
   "metadata": {},
   "outputs": [
    {
     "data": {
      "text/plain": [
       "Text(0, 0.5, 'GMT [K]')"
      ]
     },
     "execution_count": 15,
     "metadata": {},
     "output_type": "execute_result"
    },
    {
     "data": {
      "image/png": "[encoded data removed]",
      "text/plain": [
       "<Figure size 432x288 with 1 Axes>"
      ]
     },
     "metadata": {
      "needs_background": "light"
     },
     "output_type": "display_data"
    }
   ],
   "source": [
    "import ZOEE.modules.constants as const\n",
    "plt.plot(Time[1:]/const.time_sec_year,GMT[1:])\n",
    "plt.xlabel('Time [years]')\n",
    "plt.ylabel('GMT [K]')"
   ]
  },
  {
   "cell_type": "code",
   "execution_count": null,
   "metadata": {},
   "outputs": [],
   "source": []
  }
 ],
 "metadata": {
  "kernelspec": {
   "display_name": "Python 3",
   "language": "python",
   "name": "python3"
  },
  "language_info": {
   "codemirror_mode": {
    "name": "ipython",
    "version": 3
   },
   "file_extension": ".py",
   "mimetype": "text/x-python",
   "name": "python",
   "nbconvert_exporter": "python",
   "pygments_lexer": "ipython3",
   "version": "3.7.5"
  }
 },
 "nbformat": 4,
 "nbformat_minor": 2
}
