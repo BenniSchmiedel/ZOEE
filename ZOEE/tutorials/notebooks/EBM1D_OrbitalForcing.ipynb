{
 "cells": [
  {
   "cell_type": "code",
   "execution_count": 1,
   "metadata": {},
   "outputs": [],
   "source": [
    "import matplotlib.pyplot as plt\n",
    "import numpy as np\n",
    "from ZOEE.modules.configuration import importer, add_sellersparameters, parameterinterpolatorstepwise\n",
    "from ZOEE.modules.variables import variable_importer, Vars, Base\n",
    "from ZOEE import update_plotstyle\n",
    "update_plotstyle()\n",
    "from ZOEE.modules.rk4 import rk4alg"
   ]
  },
  {
   "cell_type": "code",
   "execution_count": 4,
   "metadata": {},
   "outputs": [
    {
     "name": "stdout",
     "output_type": "stream",
     "text": [
      "['', 'config/', '../config/', '../../config/', 'ZOEE/config/', '/home/benni/University/GMD_Paper/ZOEE_Package/ZOEE/tutorials/notebooks/ZOEE/tutorials/config/', '/home/benni/University/GMD_Paper/ZOEE_Package/ZOEE/tutorials/notebooks/ZOEE/config/', '/usr/lib/python37.zip/ZOEE/tutorials/config/', '/usr/lib/python37.zip/ZOEE/config/', '/usr/lib/python3.7/ZOEE/tutorials/config/', '/usr/lib/python3.7/ZOEE/config/', '/usr/lib/python3.7/lib-dynload/ZOEE/tutorials/config/', '/usr/lib/python3.7/lib-dynload/ZOEE/config/', '/ZOEE/tutorials/config/', '/ZOEE/config/', '/home/benni/.local/lib/python3.7/site-packages/ZOEE/tutorials/config/', '/home/benni/.local/lib/python3.7/site-packages/ZOEE/config/', '/usr/local/lib/python3.7/dist-packages/ZOEE/tutorials/config/', '/usr/local/lib/python3.7/dist-packages/ZOEE/config/', '/usr/local/lib/python3.7/dist-packages/xgcm-0.3.0-py3.7.egg/ZOEE/tutorials/config/', '/usr/local/lib/python3.7/dist-packages/xgcm-0.3.0-py3.7.egg/ZOEE/config/', '/usr/local/lib/python3.7/dist-packages/dask-2.14.0-py3.7.egg/ZOEE/tutorials/config/', '/usr/local/lib/python3.7/dist-packages/dask-2.14.0-py3.7.egg/ZOEE/config/', '/usr/local/lib/python3.7/dist-packages/future-0.18.2-py3.7.egg/ZOEE/tutorials/config/', '/usr/local/lib/python3.7/dist-packages/future-0.18.2-py3.7.egg/ZOEE/config/', '/usr/local/lib/python3.7/dist-packages/docrep-0.2.7-py3.7.egg/ZOEE/tutorials/config/', '/usr/local/lib/python3.7/dist-packages/docrep-0.2.7-py3.7.egg/ZOEE/config/', '/usr/local/lib/python3.7/dist-packages/setuptools-46.1.3-py3.7.egg/ZOEE/tutorials/config/', '/usr/local/lib/python3.7/dist-packages/setuptools-46.1.3-py3.7.egg/ZOEE/config/', '/usr/local/lib/python3.7/dist-packages/pandas-1.0.3-py3.7-linux-x86_64.egg/ZOEE/tutorials/config/', '/usr/local/lib/python3.7/dist-packages/pandas-1.0.3-py3.7-linux-x86_64.egg/ZOEE/config/', '/usr/local/lib/python3.7/dist-packages/python_dateutil-2.8.1-py3.7.egg/ZOEE/tutorials/config/', '/usr/local/lib/python3.7/dist-packages/python_dateutil-2.8.1-py3.7.egg/ZOEE/config/', '/home/benni/University/Master/xbasin_diagnostics/xbasin/ZOEE/tutorials/config/', '/home/benni/University/Master/xbasin_diagnostics/xbasin/ZOEE/config/', '/usr/local/lib/python3.7/dist-packages/qualname-0.1.0-py3.7.egg/ZOEE/tutorials/config/', '/usr/local/lib/python3.7/dist-packages/qualname-0.1.0-py3.7.egg/ZOEE/config/', '/usr/local/lib/python3.7/dist-packages/tqdm-4.50.0-py3.7.egg/ZOEE/tutorials/config/', '/usr/local/lib/python3.7/dist-packages/tqdm-4.50.0-py3.7.egg/ZOEE/config/', '/usr/local/lib/python3.7/dist-packages/netCDF4-1.5.4-py3.7-linux-x86_64.egg/ZOEE/tutorials/config/', '/usr/local/lib/python3.7/dist-packages/netCDF4-1.5.4-py3.7-linux-x86_64.egg/ZOEE/config/', '/usr/local/lib/python3.7/dist-packages/matplotlib-3.3.2-py3.7-linux-x86_64.egg/ZOEE/tutorials/config/', '/usr/local/lib/python3.7/dist-packages/matplotlib-3.3.2-py3.7-linux-x86_64.egg/ZOEE/config/', '/usr/local/lib/python3.7/dist-packages/pyparsing-3.0.0a2-py3.7.egg/ZOEE/tutorials/config/', '/usr/local/lib/python3.7/dist-packages/pyparsing-3.0.0a2-py3.7.egg/ZOEE/config/', '/usr/local/lib/python3.7/dist-packages/Pillow-7.2.0-py3.7-linux-x86_64.egg/ZOEE/tutorials/config/', '/usr/local/lib/python3.7/dist-packages/Pillow-7.2.0-py3.7-linux-x86_64.egg/ZOEE/config/', '/usr/local/lib/python3.7/dist-packages/kiwisolver-1.2.0-py3.7-linux-x86_64.egg/ZOEE/tutorials/config/', '/usr/local/lib/python3.7/dist-packages/kiwisolver-1.2.0-py3.7-linux-x86_64.egg/ZOEE/config/', '/usr/local/lib/python3.7/dist-packages/cycler-0.10.0-py3.7.egg/ZOEE/tutorials/config/', '/usr/local/lib/python3.7/dist-packages/cycler-0.10.0-py3.7.egg/ZOEE/config/', '/usr/local/lib/python3.7/dist-packages/certifi-2020.6.20-py3.7.egg/ZOEE/tutorials/config/', '/usr/local/lib/python3.7/dist-packages/certifi-2020.6.20-py3.7.egg/ZOEE/config/', '/usr/local/lib/python3.7/dist-packages/ZOEE-0.1-py3.7.egg/ZOEE/tutorials/config/', '/usr/local/lib/python3.7/dist-packages/ZOEE-0.1-py3.7.egg/ZOEE/config/', '/usr/lib/python3/dist-packages/ZOEE/tutorials/config/', '/usr/lib/python3/dist-packages/ZOEE/config/', '/home/benni/.local/lib/python3.7/site-packages/IPython/extensions/ZOEE/tutorials/config/', '/home/benni/.local/lib/python3.7/site-packages/IPython/extensions/ZOEE/config/', '/home/benni/.ipython/ZOEE/tutorials/config/', '/home/benni/.ipython/ZOEE/config/']\n",
      "Loading Configuration from: ../config/EBM1D_OrbitalForcing.ini\n",
      "Loading Parameters from: ../../config/SellersParameterization.ini\n",
      "Starting controlrun with a temperature accuracy of 0.001 K on the GMT over 1000 datapoints.\n"
     ]
    },
    {
     "data": {
      "application/vnd.jupyter.widget-view+json": {
       "model_id": "d7bef5290a07403d96f5a93111a16eb1",
       "version_major": 2,
       "version_minor": 0
      },
      "text/plain": [
       "HBox(children=(FloatProgress(value=0.0, max=100000.0), HTML(value='')))"
      ]
     },
     "metadata": {},
     "output_type": "display_data"
    },
    {
     "name": "stdout",
     "output_type": "stream",
     "text": [
      "\n"
     ]
    },
    {
     "ename": "KeyboardInterrupt",
     "evalue": "",
     "output_type": "error",
     "traceback": [
      "\u001b[0;31m---------------------------------------------------------------------------\u001b[0m",
      "\u001b[0;31mKeyboardInterrupt\u001b[0m                         Traceback (most recent call last)",
      "\u001b[0;32m<ipython-input-4-664eac307940>\u001b[0m in \u001b[0;36m<module>\u001b[0;34m\u001b[0m\n\u001b[1;32m      6\u001b[0m \u001b[0;31m#update for Spinup and run\u001b[0m\u001b[0;34m\u001b[0m\u001b[0;34m\u001b[0m\u001b[0;34m\u001b[0m\u001b[0m\n\u001b[1;32m      7\u001b[0m \u001b[0mvariable_importer\u001b[0m\u001b[0;34m(\u001b[0m\u001b[0mconfigOrbital\u001b[0m\u001b[0;34m,\u001b[0m\u001b[0minitialZMT\u001b[0m\u001b[0;34m=\u001b[0m\u001b[0;32mTrue\u001b[0m\u001b[0;34m,\u001b[0m\u001b[0mcontrol\u001b[0m\u001b[0;34m=\u001b[0m\u001b[0;32mTrue\u001b[0m\u001b[0;34m,\u001b[0m\u001b[0maccuracy_number\u001b[0m\u001b[0;34m=\u001b[0m\u001b[0;36m1000\u001b[0m\u001b[0;34m)\u001b[0m\u001b[0;34m\u001b[0m\u001b[0;34m\u001b[0m\u001b[0m\n\u001b[0;32m----> 8\u001b[0;31m \u001b[0mTime_Spinup_Orbital\u001b[0m\u001b[0;34m,\u001b[0m\u001b[0mZMT_Spinup_Orbital\u001b[0m\u001b[0;34m,\u001b[0m\u001b[0mGMT_Spinup_Orbital\u001b[0m\u001b[0;34m=\u001b[0m\u001b[0mrk4alg\u001b[0m\u001b[0;34m(\u001b[0m\u001b[0mconfigOrbital\u001b[0m\u001b[0;34m)\u001b[0m\u001b[0;34m\u001b[0m\u001b[0;34m\u001b[0m\u001b[0m\n\u001b[0m\u001b[1;32m      9\u001b[0m \u001b[0;34m\u001b[0m\u001b[0m\n\u001b[1;32m     10\u001b[0m \u001b[0;34m\u001b[0m\u001b[0m\n",
      "\u001b[0;32m/usr/local/lib/python3.7/dist-packages/ZOEE-0.1-py3.7.egg/ZOEE/modules/rk4.py\u001b[0m in \u001b[0;36mrk4alg\u001b[0;34m(config, progressbar, monthly)\u001b[0m\n\u001b[1;32m    202\u001b[0m         \u001b[0mBase\u001b[0m\u001b[0;34m.\u001b[0m\u001b[0mRuntime_Tracker\u001b[0m \u001b[0;34m+=\u001b[0m \u001b[0;36m1\u001b[0m\u001b[0;34m\u001b[0m\u001b[0;34m\u001b[0m\u001b[0m\n\u001b[1;32m    203\u001b[0m         \u001b[0mVars\u001b[0m\u001b[0;34m.\u001b[0m\u001b[0mT\u001b[0m \u001b[0;34m=\u001b[0m \u001b[0mT0\u001b[0m \u001b[0;34m+\u001b[0m \u001b[0;36m0.5\u001b[0m \u001b[0;34m*\u001b[0m \u001b[0mk2\u001b[0m\u001b[0;34m\u001b[0m\u001b[0;34m\u001b[0m\u001b[0m\n\u001b[0;32m--> 204\u001b[0;31m         \u001b[0mk3\u001b[0m \u001b[0;34m=\u001b[0m \u001b[0mh\u001b[0m \u001b[0;34m*\u001b[0m \u001b[0mmodel_equation\u001b[0m\u001b[0;34m(\u001b[0m\u001b[0meqparam\u001b[0m\u001b[0;34m,\u001b[0m \u001b[0mfunccomp\u001b[0m\u001b[0;34m)\u001b[0m\u001b[0;34m\u001b[0m\u001b[0;34m\u001b[0m\u001b[0m\n\u001b[0m\u001b[1;32m    205\u001b[0m         \u001b[0mBase\u001b[0m\u001b[0;34m.\u001b[0m\u001b[0mRuntime_Tracker\u001b[0m \u001b[0;34m+=\u001b[0m \u001b[0;36m1\u001b[0m\u001b[0;34m\u001b[0m\u001b[0;34m\u001b[0m\u001b[0m\n\u001b[1;32m    206\u001b[0m         \u001b[0mVars\u001b[0m\u001b[0;34m.\u001b[0m\u001b[0mT\u001b[0m \u001b[0;34m=\u001b[0m \u001b[0mT0\u001b[0m \u001b[0;34m+\u001b[0m \u001b[0mk3\u001b[0m\u001b[0;34m\u001b[0m\u001b[0;34m\u001b[0m\u001b[0m\n",
      "\u001b[0;32m/usr/local/lib/python3.7/dist-packages/ZOEE-0.1-py3.7.egg/ZOEE/modules/model.py\u001b[0m in \u001b[0;36mmodel_equation\u001b[0;34m(eqparam, funccomp)\u001b[0m\n\u001b[1;32m     54\u001b[0m                 \u001b[0;32mpass\u001b[0m\u001b[0;34m\u001b[0m\u001b[0;34m\u001b[0m\u001b[0m\n\u001b[1;32m     55\u001b[0m             \u001b[0;32melse\u001b[0m\u001b[0;34m:\u001b[0m\u001b[0;34m\u001b[0m\u001b[0;34m\u001b[0m\u001b[0m\n\u001b[0;32m---> 56\u001b[0;31m                 \u001b[0my\u001b[0m \u001b[0;34m+=\u001b[0m \u001b[0mfunclist\u001b[0m\u001b[0;34m[\u001b[0m\u001b[0mfuncnum\u001b[0m\u001b[0;34m]\u001b[0m\u001b[0;34m(\u001b[0m\u001b[0mfuncparam\u001b[0m\u001b[0;34m[\u001b[0m\u001b[0mfuncnum\u001b[0m\u001b[0;34m]\u001b[0m\u001b[0;34m)\u001b[0m    \u001b[0;31m#Calling the selected function and sum them up\u001b[0m\u001b[0;34m\u001b[0m\u001b[0;34m\u001b[0m\u001b[0m\n\u001b[0m\u001b[1;32m     57\u001b[0m         \u001b[0;32melse\u001b[0m\u001b[0;34m:\u001b[0m\u001b[0;34m\u001b[0m\u001b[0;34m\u001b[0m\u001b[0m\n\u001b[1;32m     58\u001b[0m             \u001b[0my\u001b[0m \u001b[0;34m+=\u001b[0m \u001b[0mfunclist\u001b[0m\u001b[0;34m[\u001b[0m\u001b[0mfuncnum\u001b[0m\u001b[0;34m]\u001b[0m\u001b[0;34m(\u001b[0m\u001b[0mfuncparam\u001b[0m\u001b[0;34m[\u001b[0m\u001b[0mfuncnum\u001b[0m\u001b[0;34m]\u001b[0m\u001b[0;34m)\u001b[0m    \u001b[0;31m#Calling the selected function and sum them up\u001b[0m\u001b[0;34m\u001b[0m\u001b[0;34m\u001b[0m\u001b[0m\n",
      "\u001b[0;32m/usr/local/lib/python3.7/dist-packages/ZOEE-0.1-py3.7.egg/ZOEE/modules/functions.py\u001b[0m in \u001b[0;36msellers\u001b[0;34m(self, funcparam)\u001b[0m\n\u001b[1;32m   1115\u001b[0m             \u001b[0;32melse\u001b[0m\u001b[0;34m:\u001b[0m\u001b[0;34m\u001b[0m\u001b[0;34m\u001b[0m\u001b[0m\n\u001b[1;32m   1116\u001b[0m                 \u001b[0mP0\u001b[0m \u001b[0;34m=\u001b[0m \u001b[0mnp\u001b[0m\u001b[0;34m.\u001b[0m\u001b[0mappend\u001b[0m\u001b[0;34m(\u001b[0m\u001b[0mP\u001b[0m\u001b[0;34m,\u001b[0m \u001b[0;36m0\u001b[0m\u001b[0;34m)\u001b[0m\u001b[0;34m\u001b[0m\u001b[0;34m\u001b[0m\u001b[0m\n\u001b[0;32m-> 1117\u001b[0;31m                 \u001b[0mP1\u001b[0m \u001b[0;34m=\u001b[0m \u001b[0mnp\u001b[0m\u001b[0;34m.\u001b[0m\u001b[0minsert\u001b[0m\u001b[0;34m(\u001b[0m\u001b[0mP\u001b[0m\u001b[0;34m,\u001b[0m \u001b[0;36m0\u001b[0m\u001b[0;34m,\u001b[0m \u001b[0;36m0\u001b[0m\u001b[0;34m)\u001b[0m\u001b[0;34m\u001b[0m\u001b[0;34m\u001b[0m\u001b[0m\n\u001b[0m\u001b[1;32m   1118\u001b[0m             \u001b[0ml0\u001b[0m \u001b[0;34m=\u001b[0m \u001b[0mnp\u001b[0m\u001b[0;34m.\u001b[0m\u001b[0mappend\u001b[0m\u001b[0;34m(\u001b[0m\u001b[0mVars\u001b[0m\u001b[0;34m.\u001b[0m\u001b[0mlatlength\u001b[0m\u001b[0;34m,\u001b[0m \u001b[0;36m0\u001b[0m\u001b[0;34m)\u001b[0m\u001b[0;34m\u001b[0m\u001b[0;34m\u001b[0m\u001b[0m\n\u001b[1;32m   1119\u001b[0m             \u001b[0ml1\u001b[0m \u001b[0;34m=\u001b[0m \u001b[0mnp\u001b[0m\u001b[0;34m.\u001b[0m\u001b[0minsert\u001b[0m\u001b[0;34m(\u001b[0m\u001b[0mVars\u001b[0m\u001b[0;34m.\u001b[0m\u001b[0mlatlength\u001b[0m\u001b[0;34m,\u001b[0m \u001b[0;36m0\u001b[0m\u001b[0;34m,\u001b[0m \u001b[0;36m0\u001b[0m\u001b[0;34m)\u001b[0m\u001b[0;34m\u001b[0m\u001b[0;34m\u001b[0m\u001b[0m\n",
      "\u001b[0;32m<__array_function__ internals>\u001b[0m in \u001b[0;36minsert\u001b[0;34m(*args, **kwargs)\u001b[0m\n",
      "\u001b[0;32m~/.local/lib/python3.7/site-packages/numpy/lib/function_base.py\u001b[0m in \u001b[0;36minsert\u001b[0;34m(arr, obj, values, axis)\u001b[0m\n\u001b[1;32m   4570\u001b[0m                 \u001b[0;34m\"index array argument obj to insert must be one dimensional \"\u001b[0m\u001b[0;34m\u001b[0m\u001b[0;34m\u001b[0m\u001b[0m\n\u001b[1;32m   4571\u001b[0m                 \"or scalar\")\n\u001b[0;32m-> 4572\u001b[0;31m     \u001b[0;32mif\u001b[0m \u001b[0mindices\u001b[0m\u001b[0;34m.\u001b[0m\u001b[0msize\u001b[0m \u001b[0;34m==\u001b[0m \u001b[0;36m1\u001b[0m\u001b[0;34m:\u001b[0m\u001b[0;34m\u001b[0m\u001b[0;34m\u001b[0m\u001b[0m\n\u001b[0m\u001b[1;32m   4573\u001b[0m         \u001b[0mindex\u001b[0m \u001b[0;34m=\u001b[0m \u001b[0mindices\u001b[0m\u001b[0;34m.\u001b[0m\u001b[0mitem\u001b[0m\u001b[0;34m(\u001b[0m\u001b[0;34m)\u001b[0m\u001b[0;34m\u001b[0m\u001b[0;34m\u001b[0m\u001b[0m\n\u001b[1;32m   4574\u001b[0m         \u001b[0;32mif\u001b[0m \u001b[0mindex\u001b[0m \u001b[0;34m<\u001b[0m \u001b[0;34m-\u001b[0m\u001b[0mN\u001b[0m \u001b[0;32mor\u001b[0m \u001b[0mindex\u001b[0m \u001b[0;34m>\u001b[0m \u001b[0mN\u001b[0m\u001b[0;34m:\u001b[0m\u001b[0;34m\u001b[0m\u001b[0;34m\u001b[0m\u001b[0m\n",
      "\u001b[0;31mKeyboardInterrupt\u001b[0m: "
     ]
    }
   ],
   "source": [
    "#Load basic configuration\n",
    "configOrbital=importer('EBM1D_OrbitalForcing.ini')\n",
    "variable_importer(configOrbital,initialZMT=True)\n",
    "configOrbital,Paras=add_sellersparameters(configOrbital,parameterinterpolatorstepwise,'../../config/SellersParameterization.ini',3,1,True,True)\n",
    "\n",
    "#update for Spinup and run\n",
    "variable_importer(configOrbital,initialZMT=True,control=True,accuracy_number=1000)\n",
    "Time_Spinup_Orbital,ZMT_Spinup_Orbital,GMT_Spinup_Orbital=rk4alg(configOrbital)\n",
    "\n",
    "\n",
    "#update for Targetsimulation with Spinup as initial and run\n",
    "variable_importer(configOrbital,initialZMT=False,control=False)\n",
    "Vars.T,Vars.T_global=ZMT_Spinup_Orbital[-1],GMT_Spinup_Orbital[-1]\n",
    "Time_Orbital,ZMT_Orbital,GMT_Orbital=rk4alg(configOrbital)"
   ]
  },
  {
   "cell_type": "code",
   "execution_count": null,
   "metadata": {},
   "outputs": [],
   "source": [
    "plt.plot(Time_Orbital/const.time_sec_year,GMT_Orbital)"
   ]
  },
  {
   "cell_type": "code",
   "execution_count": null,
   "metadata": {},
   "outputs": [],
   "source": []
  }
 ],
 "metadata": {
  "kernelspec": {
   "display_name": "Python 3",
   "language": "python",
   "name": "python3"
  },
  "language_info": {
   "codemirror_mode": {
    "name": "ipython",
    "version": 3
   },
   "file_extension": ".py",
   "mimetype": "text/x-python",
   "name": "python",
   "nbconvert_exporter": "python",
   "pygments_lexer": "ipython3",
   "version": "3.7.5"
  }
 },
 "nbformat": 4,
 "nbformat_minor": 2
}
