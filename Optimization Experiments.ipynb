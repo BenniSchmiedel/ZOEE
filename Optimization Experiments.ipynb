{
 "cells": [
  {
   "cell_type": "markdown",
   "metadata": {},
   "source": [
    "# Optimizations of ZOEE to HadCM3, CESM, Pages2k"
   ]
  },
  {
   "cell_type": "code",
   "execution_count": 1,
   "metadata": {},
   "outputs": [],
   "source": [
    "import matplotlib.pyplot as plt\n",
    "import numpy as np\n",
    "\n",
    "from ZOEE.modules.configuration import importer, add_sellersparameters, parameterinterpolatorstepwise\n",
    "from ZOEE.modules.variables import variable_importer, Vars\n",
    "from ZOEE.modules.optimization import optimization, ZOEE_optimization\n",
    "#from ZOEE import update_plotstyle, moving_average\n",
    "\n",
    "#import matplotlib\n",
    "#update_plotstyle()\n",
    "#matplotlib.rcParams['lines.linewidth']=1.1"
   ]
  },
  {
   "cell_type": "markdown",
   "metadata": {},
   "source": [
    "## General optimization setup"
   ]
  },
  {
   "cell_type": "code",
   "execution_count": 2,
   "metadata": {},
   "outputs": [],
   "source": [
    "Lat_10,ZMT_10=np.loadtxt('ZOEE_transition/Data/ERA_ZMT_Mean_10deginterpolated.txt')"
   ]
  },
  {
   "cell_type": "code",
   "execution_count": 8,
   "metadata": {},
   "outputs": [],
   "source": [
    "\"\"\"Decleration of optimization configuration\"\"\"\n",
    "grid=np.linspace(-85,85,18)\n",
    "optimization_setup = optimization(mode='Coupled',\n",
    "                            target=None,\n",
    "                            response=True, \n",
    "                            num_steps=20,\n",
    "                            num_data=365*1000+1,\n",
    "                            gamma0=1e-8,\n",
    "                            cost_function_type='LeastSquare',\n",
    "                            cost_ratio=0.2,\n",
    "                            ZMT=ZMT_10,\n",
    "                            GMT=288.15,\n",
    "                            precision=0,\n",
    "                            grid=grid)\n",
    "\n",
    "\"\"\"Declaration of parameter setup, with initial parameters, parameter boundaries and \n",
    "the parameter pertubation to estimate the cost function gradient\"\"\"\n",
    "P0=np.array([70*4.2e6,210,2.1,1.165,1.165,1.165])\n",
    "#P0=Get_PGamma[0]\n",
    "Pmin=np.array([1*4.2e6,170,1.1,0.9,0.9,0.9])\n",
    "Pmax=np.array([100*4.2e6,240,2.5,1.3,1.3,1.3])\n",
    "P_pert_ratio=1/10000\n",
    "optimization_setup.give_parameters(P0,Pmin,Pmax,P_pert_ratio)\n",
    "        "
   ]
  },
  {
   "cell_type": "markdown",
   "metadata": {},
   "source": [
    "# HadCM3"
   ]
  },
  {
   "cell_type": "code",
   "execution_count": 9,
   "metadata": {},
   "outputs": [
    {
     "name": "stdout",
     "output_type": "stream",
     "text": [
      "Loading Configuration from: Experiments/HadCM3/Config_HadCM3.ini\n",
      "Loading Parameters from: ZOEE_transition/Data/SellersParameterization.ini\n"
     ]
    },
    {
     "data": {
      "application/vnd.jupyter.widget-view+json": {
       "model_id": "ff7a7aa40c0b43978972473422fde636",
       "version_major": 2,
       "version_minor": 0
      },
      "text/plain": [
       "HBox(children=(FloatProgress(value=0.0, max=20.0), HTML(value='')))"
      ]
     },
     "metadata": {},
     "output_type": "display_data"
    },
    {
     "name": "stdout",
     "output_type": "stream",
     "text": [
      "Iteration no.0\n",
      "Starting controlrun with a temperature accuracy of 0.001 K on the GMT over 1000 datapoints.\n"
     ]
    },
    {
     "data": {
      "application/vnd.jupyter.widget-view+json": {
       "model_id": "0cc5ddfad1a445e39902b9ac8c707d90",
       "version_major": 2,
       "version_minor": 0
      },
      "text/plain": [
       "HBox(children=(FloatProgress(value=0.0, max=100000.0), HTML(value='')))"
      ]
     },
     "metadata": {},
     "output_type": "display_data"
    },
    {
     "name": "stdout",
     "output_type": "stream",
     "text": [
      "\n",
      "\n"
     ]
    },
    {
     "ename": "KeyboardInterrupt",
     "evalue": "",
     "output_type": "error",
     "traceback": [
      "\u001b[0;31m---------------------------------------------------------------------------\u001b[0m",
      "\u001b[0;31mKeyboardInterrupt\u001b[0m                         Traceback (most recent call last)",
      "\u001b[0;32m<ipython-input-9-2a709b550202>\u001b[0m in \u001b[0;36m<module>\u001b[0;34m\u001b[0m\n\u001b[1;32m     20\u001b[0m required to run your model\"\"\"\n\u001b[1;32m     21\u001b[0m \u001b[0;34m\u001b[0m\u001b[0m\n\u001b[0;32m---> 22\u001b[0;31m \u001b[0mF_HadCM3\u001b[0m\u001b[0;34m,\u001b[0m \u001b[0mdF_HadCM3\u001b[0m\u001b[0;34m,\u001b[0m \u001b[0mP_HadCM3\u001b[0m\u001b[0;34m,\u001b[0m \u001b[0mPtrans_HadCM3\u001b[0m\u001b[0;34m,\u001b[0m \u001b[0mgamma_HadCM3\u001b[0m\u001b[0;34m,\u001b[0m \u001b[0mdata_HadCM3\u001b[0m\u001b[0;34m=\u001b[0m\u001b[0moptimization_setup\u001b[0m\u001b[0;34m.\u001b[0m\u001b[0moptimize\u001b[0m\u001b[0;34m(\u001b[0m\u001b[0mZOEE_HadCM3\u001b[0m\u001b[0;34m,\u001b[0m\u001b[0mconfig_HadCM3\u001b[0m\u001b[0;34m)\u001b[0m\u001b[0;34m\u001b[0m\u001b[0;34m\u001b[0m\u001b[0m\n\u001b[0m",
      "\u001b[0;32m~/University/GMD_Paper/ZOEE_Package/ZOEE/modules/optimization.py\u001b[0m in \u001b[0;36moptimize\u001b[0;34m(self, model, model_config)\u001b[0m\n\u001b[1;32m    121\u001b[0m             \u001b[0;31m# ********************* Interface function for the model used to simulate******************\u001b[0m\u001b[0;34m\u001b[0m\u001b[0;34m\u001b[0m\u001b[0;34m\u001b[0m\u001b[0m\n\u001b[1;32m    122\u001b[0m             \u001b[0;31m# run the model to create the model data which is compared with the target. Two outputs if mode is coupled.\u001b[0m\u001b[0;34m\u001b[0m\u001b[0;34m\u001b[0m\u001b[0;34m\u001b[0m\u001b[0m\n\u001b[0;32m--> 123\u001b[0;31m             \u001b[0mdata\u001b[0m \u001b[0;34m=\u001b[0m \u001b[0mself\u001b[0m\u001b[0;34m.\u001b[0m\u001b[0mrun_model\u001b[0m\u001b[0;34m(\u001b[0m\u001b[0mmodel\u001b[0m\u001b[0;34m,\u001b[0m \u001b[0mmodel_config\u001b[0m\u001b[0;34m,\u001b[0m \u001b[0mP\u001b[0m\u001b[0;34m)\u001b[0m\u001b[0;34m\u001b[0m\u001b[0;34m\u001b[0m\u001b[0m\n\u001b[0m\u001b[1;32m    124\u001b[0m             \u001b[0;31m# ********************************************************************************\u001b[0m\u001b[0;34m\u001b[0m\u001b[0;34m\u001b[0m\u001b[0;34m\u001b[0m\u001b[0m\n\u001b[1;32m    125\u001b[0m \u001b[0;34m\u001b[0m\u001b[0m\n",
      "\u001b[0;32m~/University/GMD_Paper/ZOEE_Package/ZOEE/modules/optimization.py\u001b[0m in \u001b[0;36mrun_model\u001b[0;34m(self, model, model_config, P)\u001b[0m\n\u001b[1;32m    245\u001b[0m             \u001b[0mself\u001b[0m\u001b[0;34m.\u001b[0m\u001b[0mZMT_initial\u001b[0m \u001b[0;34m=\u001b[0m \u001b[0mnp\u001b[0m\u001b[0;34m.\u001b[0m\u001b[0mtile\u001b[0m\u001b[0;34m(\u001b[0m\u001b[0mself\u001b[0m\u001b[0;34m.\u001b[0m\u001b[0mZMT_initial\u001b[0m\u001b[0;34m,\u001b[0m \u001b[0;34m(\u001b[0m\u001b[0mself\u001b[0m\u001b[0;34m.\u001b[0m\u001b[0mparallels\u001b[0m\u001b[0;34m,\u001b[0m \u001b[0;36m1\u001b[0m\u001b[0;34m)\u001b[0m\u001b[0;34m)\u001b[0m\u001b[0;34m\u001b[0m\u001b[0;34m\u001b[0m\u001b[0m\n\u001b[1;32m    246\u001b[0m             \u001b[0mself\u001b[0m\u001b[0;34m.\u001b[0m\u001b[0mGMT_initial\u001b[0m \u001b[0;34m=\u001b[0m \u001b[0mnp\u001b[0m\u001b[0;34m.\u001b[0m\u001b[0mtile\u001b[0m\u001b[0;34m(\u001b[0m\u001b[0mself\u001b[0m\u001b[0;34m.\u001b[0m\u001b[0mGMT_initial\u001b[0m\u001b[0;34m,\u001b[0m \u001b[0mself\u001b[0m\u001b[0;34m.\u001b[0m\u001b[0mparallels\u001b[0m\u001b[0;34m)\u001b[0m\u001b[0;34m\u001b[0m\u001b[0;34m\u001b[0m\u001b[0m\n\u001b[0;32m--> 247\u001b[0;31m         \u001b[0mdata_CTRL\u001b[0m \u001b[0;34m=\u001b[0m \u001b[0mmodel\u001b[0m\u001b[0;34m.\u001b[0m\u001b[0mrun\u001b[0m\u001b[0;34m(\u001b[0m\u001b[0mmodel_config\u001b[0m\u001b[0;34m,\u001b[0m \u001b[0mP_config\u001b[0m\u001b[0;34m,\u001b[0m \u001b[0mself\u001b[0m\u001b[0;34m.\u001b[0m\u001b[0mmode\u001b[0m\u001b[0;34m,\u001b[0m \u001b[0mself\u001b[0m\u001b[0;34m.\u001b[0m\u001b[0mZMT_initial\u001b[0m\u001b[0;34m,\u001b[0m \u001b[0mself\u001b[0m\u001b[0;34m.\u001b[0m\u001b[0mGMT_initial\u001b[0m\u001b[0;34m,\u001b[0m \u001b[0mcontrol\u001b[0m\u001b[0;34m=\u001b[0m\u001b[0;32mTrue\u001b[0m\u001b[0;34m)\u001b[0m\u001b[0;34m\u001b[0m\u001b[0;34m\u001b[0m\u001b[0m\n\u001b[0m\u001b[1;32m    248\u001b[0m         \u001b[0mself\u001b[0m\u001b[0;34m.\u001b[0m\u001b[0mZMT_initial\u001b[0m\u001b[0;34m,\u001b[0m \u001b[0mself\u001b[0m\u001b[0;34m.\u001b[0m\u001b[0mGMT_initial\u001b[0m \u001b[0;34m=\u001b[0m \u001b[0mdata_CTRL\u001b[0m\u001b[0;34m[\u001b[0m\u001b[0;36m0\u001b[0m\u001b[0;34m]\u001b[0m\u001b[0;34m[\u001b[0m\u001b[0;34m-\u001b[0m\u001b[0;36m1\u001b[0m\u001b[0;34m]\u001b[0m\u001b[0;34m,\u001b[0m \u001b[0mdata_CTRL\u001b[0m\u001b[0;34m[\u001b[0m\u001b[0;36m1\u001b[0m\u001b[0;34m]\u001b[0m\u001b[0;34m[\u001b[0m\u001b[0;34m-\u001b[0m\u001b[0;36m1\u001b[0m\u001b[0;34m]\u001b[0m\u001b[0;34m\u001b[0m\u001b[0;34m\u001b[0m\u001b[0m\n\u001b[1;32m    249\u001b[0m \u001b[0;34m\u001b[0m\u001b[0m\n",
      "\u001b[0;32m~/University/GMD_Paper/ZOEE_Package/ZOEE/modules/optimization.py\u001b[0m in \u001b[0;36mrun\u001b[0;34m(self, config, P_config, mode, ZMT, GMT, control)\u001b[0m\n\u001b[1;32m    349\u001b[0m \u001b[0;34m\u001b[0m\u001b[0m\n\u001b[1;32m    350\u001b[0m         \u001b[0mVars\u001b[0m\u001b[0;34m.\u001b[0m\u001b[0mT\u001b[0m\u001b[0;34m,\u001b[0m \u001b[0mVars\u001b[0m\u001b[0;34m.\u001b[0m\u001b[0mT_global\u001b[0m \u001b[0;34m=\u001b[0m \u001b[0mZMT\u001b[0m\u001b[0;34m,\u001b[0m \u001b[0mGMT\u001b[0m\u001b[0;34m\u001b[0m\u001b[0;34m\u001b[0m\u001b[0m\n\u001b[0;32m--> 351\u001b[0;31m         \u001b[0mdata\u001b[0m \u001b[0;34m=\u001b[0m \u001b[0mrk4alg\u001b[0m\u001b[0;34m(\u001b[0m\u001b[0mconfig\u001b[0m\u001b[0;34m,\u001b[0m \u001b[0mprogressbar\u001b[0m\u001b[0;34m=\u001b[0m\u001b[0;32mTrue\u001b[0m\u001b[0;34m,\u001b[0m \u001b[0mmonthly\u001b[0m\u001b[0;34m=\u001b[0m\u001b[0mself\u001b[0m\u001b[0;34m.\u001b[0m\u001b[0mmonthly\u001b[0m\u001b[0;34m)\u001b[0m\u001b[0;34m\u001b[0m\u001b[0;34m\u001b[0m\u001b[0m\n\u001b[0m\u001b[1;32m    352\u001b[0m         \u001b[0mdata_out\u001b[0m \u001b[0;34m=\u001b[0m \u001b[0;34m[\u001b[0m\u001b[0mdata\u001b[0m\u001b[0;34m[\u001b[0m\u001b[0;36m1\u001b[0m\u001b[0;34m]\u001b[0m \u001b[0;34m+\u001b[0m \u001b[0mself\u001b[0m\u001b[0;34m.\u001b[0m\u001b[0melevation\u001b[0m\u001b[0;34m,\u001b[0m \u001b[0mdata\u001b[0m\u001b[0;34m[\u001b[0m\u001b[0;36m2\u001b[0m\u001b[0;34m]\u001b[0m\u001b[0;34m]\u001b[0m\u001b[0;34m\u001b[0m\u001b[0;34m\u001b[0m\u001b[0m\n\u001b[1;32m    353\u001b[0m \u001b[0;34m\u001b[0m\u001b[0m\n",
      "\u001b[0;32m~/University/GMD_Paper/ZOEE_Package/ZOEE/modules/rk4.py\u001b[0m in \u001b[0;36mrk4alg\u001b[0;34m(config, progressbar, monthly)\u001b[0m\n\u001b[1;32m    205\u001b[0m         \u001b[0mBase\u001b[0m\u001b[0;34m.\u001b[0m\u001b[0mRuntime_Tracker\u001b[0m \u001b[0;34m+=\u001b[0m \u001b[0;36m1\u001b[0m\u001b[0;34m\u001b[0m\u001b[0;34m\u001b[0m\u001b[0m\n\u001b[1;32m    206\u001b[0m         \u001b[0mVars\u001b[0m\u001b[0;34m.\u001b[0m\u001b[0mT\u001b[0m \u001b[0;34m=\u001b[0m \u001b[0mT0\u001b[0m \u001b[0;34m+\u001b[0m \u001b[0mk3\u001b[0m\u001b[0;34m\u001b[0m\u001b[0;34m\u001b[0m\u001b[0m\n\u001b[0;32m--> 207\u001b[0;31m         \u001b[0mk4\u001b[0m \u001b[0;34m=\u001b[0m \u001b[0mh\u001b[0m \u001b[0;34m*\u001b[0m \u001b[0mmodel_equation\u001b[0m\u001b[0;34m(\u001b[0m\u001b[0meqparam\u001b[0m\u001b[0;34m,\u001b[0m \u001b[0mfunccomp\u001b[0m\u001b[0;34m)\u001b[0m\u001b[0;34m\u001b[0m\u001b[0;34m\u001b[0m\u001b[0m\n\u001b[0m\u001b[1;32m    208\u001b[0m         \u001b[0mBase\u001b[0m\u001b[0;34m.\u001b[0m\u001b[0mRuntime_Tracker\u001b[0m \u001b[0;34m+=\u001b[0m \u001b[0;36m1\u001b[0m\u001b[0;34m\u001b[0m\u001b[0;34m\u001b[0m\u001b[0m\n\u001b[1;32m    209\u001b[0m \u001b[0;34m\u001b[0m\u001b[0m\n",
      "\u001b[0;32m~/University/GMD_Paper/ZOEE_Package/ZOEE/modules/model.py\u001b[0m in \u001b[0;36mmodel_equation\u001b[0;34m(eqparam, funccomp)\u001b[0m\n\u001b[1;32m     54\u001b[0m                 \u001b[0;32mpass\u001b[0m\u001b[0;34m\u001b[0m\u001b[0;34m\u001b[0m\u001b[0m\n\u001b[1;32m     55\u001b[0m             \u001b[0;32melse\u001b[0m\u001b[0;34m:\u001b[0m\u001b[0;34m\u001b[0m\u001b[0;34m\u001b[0m\u001b[0m\n\u001b[0;32m---> 56\u001b[0;31m                 \u001b[0my\u001b[0m \u001b[0;34m+=\u001b[0m \u001b[0mfunclist\u001b[0m\u001b[0;34m[\u001b[0m\u001b[0mfuncnum\u001b[0m\u001b[0;34m]\u001b[0m\u001b[0;34m(\u001b[0m\u001b[0mfuncparam\u001b[0m\u001b[0;34m[\u001b[0m\u001b[0mfuncnum\u001b[0m\u001b[0;34m]\u001b[0m\u001b[0;34m)\u001b[0m    \u001b[0;31m#Calling the selected function and sum them up\u001b[0m\u001b[0;34m\u001b[0m\u001b[0;34m\u001b[0m\u001b[0m\n\u001b[0m\u001b[1;32m     57\u001b[0m         \u001b[0;32melse\u001b[0m\u001b[0;34m:\u001b[0m\u001b[0;34m\u001b[0m\u001b[0;34m\u001b[0m\u001b[0m\n\u001b[1;32m     58\u001b[0m             \u001b[0my\u001b[0m \u001b[0;34m+=\u001b[0m \u001b[0mfunclist\u001b[0m\u001b[0;34m[\u001b[0m\u001b[0mfuncnum\u001b[0m\u001b[0;34m]\u001b[0m\u001b[0;34m(\u001b[0m\u001b[0mfuncparam\u001b[0m\u001b[0;34m[\u001b[0m\u001b[0mfuncnum\u001b[0m\u001b[0;34m]\u001b[0m\u001b[0;34m)\u001b[0m    \u001b[0;31m#Calling the selected function and sum them up\u001b[0m\u001b[0;34m\u001b[0m\u001b[0;34m\u001b[0m\u001b[0m\n",
      "\u001b[0;32m~/University/GMD_Paper/ZOEE_Package/ZOEE/modules/functions.py\u001b[0m in \u001b[0;36minsolation\u001b[0;34m(self, funcparam)\u001b[0m\n\u001b[1;32m    250\u001b[0m \u001b[0;34m\u001b[0m\u001b[0m\n\u001b[1;32m    251\u001b[0m             \u001b[0;31m# Calculating albedo from given albedofunction\u001b[0m\u001b[0;34m\u001b[0m\u001b[0;34m\u001b[0m\u001b[0;34m\u001b[0m\u001b[0m\n\u001b[0;32m--> 252\u001b[0;31m         \u001b[0malpha\u001b[0m \u001b[0;34m=\u001b[0m \u001b[0malbedofunc\u001b[0m\u001b[0;34m(\u001b[0m\u001b[0;34m*\u001b[0m\u001b[0malbedofuncparam\u001b[0m\u001b[0;34m)\u001b[0m\u001b[0;34m\u001b[0m\u001b[0;34m\u001b[0m\u001b[0m\n\u001b[0m\u001b[1;32m    253\u001b[0m         \u001b[0;31m# Readout to give albedo as output\u001b[0m\u001b[0;34m\u001b[0m\u001b[0;34m\u001b[0m\u001b[0;34m\u001b[0m\u001b[0m\n\u001b[1;32m    254\u001b[0m         \u001b[0;32mif\u001b[0m \u001b[0malbedoread\u001b[0m \u001b[0;34m==\u001b[0m \u001b[0;32mTrue\u001b[0m\u001b[0;34m:\u001b[0m\u001b[0;34m\u001b[0m\u001b[0;34m\u001b[0m\u001b[0m\n",
      "\u001b[0;32m~/University/GMD_Paper/ZOEE_Package/ZOEE/modules/functions.py\u001b[0m in \u001b[0;36mdynamic_sel\u001b[0;34m(self, Z, b)\u001b[0m\n\u001b[1;32m    545\u001b[0m             \u001b[0;32melse\u001b[0m\u001b[0;34m:\u001b[0m\u001b[0;34m\u001b[0m\u001b[0;34m\u001b[0m\u001b[0m\n\u001b[1;32m    546\u001b[0m                 \u001b[0;32mfor\u001b[0m \u001b[0mi\u001b[0m \u001b[0;32min\u001b[0m \u001b[0mrange\u001b[0m\u001b[0;34m(\u001b[0m\u001b[0mBase\u001b[0m\u001b[0;34m.\u001b[0m\u001b[0mnumber_of_parallels\u001b[0m\u001b[0;34m)\u001b[0m\u001b[0;34m:\u001b[0m\u001b[0;34m\u001b[0m\u001b[0;34m\u001b[0m\u001b[0m\n\u001b[0;32m--> 547\u001b[0;31m                     \u001b[0;32mfor\u001b[0m \u001b[0mj\u001b[0m \u001b[0;32min\u001b[0m \u001b[0mrange\u001b[0m\u001b[0;34m(\u001b[0m\u001b[0mlen\u001b[0m\u001b[0;34m(\u001b[0m\u001b[0mVars\u001b[0m\u001b[0;34m.\u001b[0m\u001b[0mLat\u001b[0m\u001b[0;34m)\u001b[0m\u001b[0;34m)\u001b[0m\u001b[0;34m:\u001b[0m\u001b[0;34m\u001b[0m\u001b[0;34m\u001b[0m\u001b[0m\n\u001b[0m\u001b[1;32m    548\u001b[0m                         \u001b[0;32mif\u001b[0m \u001b[0mTg\u001b[0m\u001b[0;34m[\u001b[0m\u001b[0mi\u001b[0m\u001b[0;34m,\u001b[0m \u001b[0mj\u001b[0m\u001b[0;34m]\u001b[0m \u001b[0;34m<\u001b[0m \u001b[0;36m283.16\u001b[0m\u001b[0;34m:\u001b[0m\u001b[0;34m\u001b[0m\u001b[0;34m\u001b[0m\u001b[0m\n\u001b[1;32m    549\u001b[0m                             \u001b[0malbedo\u001b[0m\u001b[0;34m[\u001b[0m\u001b[0mi\u001b[0m\u001b[0;34m,\u001b[0m \u001b[0mj\u001b[0m\u001b[0;34m]\u001b[0m \u001b[0;34m=\u001b[0m \u001b[0mb\u001b[0m\u001b[0;34m[\u001b[0m\u001b[0mj\u001b[0m\u001b[0;34m]\u001b[0m \u001b[0;34m-\u001b[0m \u001b[0;36m0.009\u001b[0m \u001b[0;34m*\u001b[0m \u001b[0mTg\u001b[0m\u001b[0;34m[\u001b[0m\u001b[0mi\u001b[0m\u001b[0;34m,\u001b[0m \u001b[0mj\u001b[0m\u001b[0;34m]\u001b[0m\u001b[0;34m\u001b[0m\u001b[0;34m\u001b[0m\u001b[0m\n",
      "\u001b[0;31mKeyboardInterrupt\u001b[0m: "
     ]
    }
   ],
   "source": [
    "\"\"\"Import the configuration that is required to run your specific model\"\"\"\n",
    "\n",
    "config_HadCM3=importer('Experiments/HadCM3/Config_HadCM3.ini')\n",
    "parallel_config = {'number_of_parameters': 6, 'number_of_cycles': 1,'number_of_parallels': 13}\n",
    "variable_importer(config_HadCM3,initialZMT=False,parallel=True,parallel_config=parallel_config)\n",
    "config_HadCM3,Sellers=add_sellersparameters(config_HadCM3, parameterinterpolatorstepwise,\\\n",
    "                                            'ZOEE_transition/Data/SellersParameterization.ini',4,2,True,True)\n",
    "\n",
    "\n",
    "\"\"\"Import the class of your model that has to be defined in ZOEE.modules.optimization. And give it whatever \n",
    "configuration it requires\"\"\"\n",
    "\n",
    "parameter_labels=[['eqparam','c_ao'],['func3','a'],['func3','b'],['func4','factor_oc'],['func4','factor_kwv'],['func4','factor_kair']]\n",
    "parameter_levels=np.array([None,None,None,None,None,None])\n",
    "elevation=-0.0065*np.array(Sellers[1][1])\n",
    "ZOEE_HadCM3 = ZOEE_optimization(6,'Coupled',parameter_labels,parameter_levels,elevation,monthly=True)\n",
    "#model_setup=[2,'ZMT',parameter_labels,parameter_levels,elevation,True]\n",
    "\n",
    "\"\"\"Execture optimize to start the optimization, giving it your model imported in the step before and configuration\n",
    "required to run your model\"\"\"\n",
    "\n",
    "F_HadCM3, dF_HadCM3, P_HadCM3, Ptrans_HadCM3, gamma_HadCM3, data_HadCM3=optimization_setup.optimize(ZOEE_HadCM3,config_HadCM3)"
   ]
  },
  {
   "cell_type": "markdown",
   "metadata": {},
   "source": [
    "# CESM"
   ]
  },
  {
   "cell_type": "code",
   "execution_count": null,
   "metadata": {},
   "outputs": [],
   "source": [
    "\"\"\"Import the configuration that is required to run your specific model\"\"\"\n",
    "\n",
    "config_CESM=importer('Experiments/CESM/Config_CESM.ini')\n",
    "parallel_config = {'number_of_parameters': 6, 'number_of_cycles': 1,'number_of_parallels': 13}\n",
    "variable_importer(config_CESM,initialZMT=False,parallel=True,parallel_config=parallel_config)\n",
    "config_CESM,Sellers=add_sellersparameters(config_CESM, parameterinterpolatorstepwise,\\\n",
    "                                            'ZOEE_transition/Data/SellersParameterization.ini',4,2,True,True)\n",
    "\n",
    "\n",
    "\"\"\"Import the class of your model that has to be defined in ZOEE.modules.optimization. And give it whatever \n",
    "configuration it requires\"\"\"\n",
    "\n",
    "parameter_labels=[['eqparam','c_ao'],['func3','a'],['func3','b'],['func4','factor_oc'],['func4','factor_kwv'],['func4','factor_kair']]\n",
    "parameter_levels=np.array([None,None,None,None,None,None])\n",
    "elevation=-0.0065*np.array(Sellers[1][1])\n",
    "ZOEE_CESM = ZOEE_optimization(6,'Coupled',parameter_labels,parameter_levels,elevation,monthly=False)\n",
    "#model_setup=[2,'ZMT',parameter_labels,parameter_levels,elevation,True]\n",
    "\n",
    "\"\"\"Execture optimize to start the optimization, giving it your model imported in the step before and configuration\n",
    "required to run your model\"\"\"\n",
    "\n",
    "F_CESM, dF_CESM, P_CESM, Ptrans_CESM, gamma_CESM, data_CESM=optimization_setup.optimize(ZOEE_CESM,config_CESM)"
   ]
  },
  {
   "cell_type": "markdown",
   "metadata": {},
   "source": [
    "# Pages2k"
   ]
  },
  {
   "cell_type": "code",
   "execution_count": null,
   "metadata": {},
   "outputs": [],
   "source": [
    "\"\"\"Import the configuration that is required to run your specific model\"\"\"\n",
    "\n",
    "config_Pages=importer('Experiments/Pages2k/Config_Pages.ini')\n",
    "parallel_config = {'number_of_parameters': 6, 'number_of_cycles': 1,'number_of_parallels': 13}\n",
    "variable_importer(config_Pages,initialZMT=False,parallel=True,parallel_config=parallel_config)\n",
    "config_Pages,Sellers=add_sellersparameters(config_Pages, parameterinterpolatorstepwise,\\\n",
    "                                            'ZOEE_transition/Data/SellersParameterization.ini',4,2,True,True)\n",
    "\n",
    "\n",
    "\"\"\"Import the class of your model that has to be defined in ZOEE.modules.optimization. And give it whatever \n",
    "configuration it requires\"\"\"\n",
    "\n",
    "parameter_labels=[['eqparam','c_ao'],['func3','a'],['func3','b'],['func4','factor_oc'],['func4','factor_kwv'],['func4','factor_kair']]\n",
    "parameter_levels=np.array([None,None,None,None,None,None])\n",
    "elevation=-0.0065*np.array(Sellers[1][1])\n",
    "ZOEE_Pages = ZOEE_optimization(6,'Coupled',parameter_labels,parameter_levels,elevation,monthly=False)\n",
    "#model_setup=[2,'ZMT',parameter_labels,parameter_levels,elevation,True]\n",
    "\n",
    "\"\"\"Execture optimize to start the optimization, giving it your model imported in the step before and configuration\n",
    "required to run your model\"\"\"\n",
    "\n",
    "F_Pages, dF_Pages, P_Pages, Ptrans_Pages, gamma_Pages, data_Pages=optimization_setup.optimize(ZOEE_Pages,config_Pages)"
   ]
  }
 ],
 "metadata": {
  "kernelspec": {
   "display_name": "Python 3",
   "language": "python",
   "name": "python3"
  },
  "language_info": {
   "codemirror_mode": {
    "name": "ipython",
    "version": 3
   },
   "file_extension": ".py",
   "mimetype": "text/x-python",
   "name": "python",
   "nbconvert_exporter": "python",
   "pygments_lexer": "ipython3",
   "version": "3.7.5"
  }
 },
 "nbformat": 4,
 "nbformat_minor": 4
}
