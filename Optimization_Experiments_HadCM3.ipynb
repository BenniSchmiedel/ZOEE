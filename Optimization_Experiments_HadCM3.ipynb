{
 "cells": [
  {
   "cell_type": "markdown",
   "metadata": {},
   "source": [
    "# Optimizations of ZOEE to HadCM3 Data"
   ]
  },
  {
   "cell_type": "code",
   "execution_count": null,
   "metadata": {},
   "outputs": [],
   "source": [
    "import matplotlib.pyplot as plt\n",
    "import numpy as np\n",
    "\n",
    "from ZOEE.modules.configuration import importer, add_sellersparameters, parameterinterpolatorstepwise\n",
    "from ZOEE.modules.variables import variable_importer, Vars, Base\n",
    "from ZOEE.modules.optimization import optimization, ZOEE_optimization\n",
    "#from ZOEE import update_plotstyle, moving_average\n",
    "from ZOEE.modules.rk4 import rk4alg\n",
    "import pandas as pd\n",
    "#import matplotlib\n",
    "#update_plotstyle()\n",
    "#matplotlib.rcParams['lines.linewidth']=1.1"
   ]
  },
  {
   "cell_type": "markdown",
   "metadata": {},
   "source": [
    "## Target Data"
   ]
  },
  {
   "cell_type": "code",
   "execution_count": null,
   "metadata": {},
   "outputs": [],
   "source": [
    "HadCM3_ZMT=pd.read_csv('Experiments/HadCM3/HadCM3_ZMT_10deg.csv')\n",
    "HadCM3_ZMT_anomaly=pd.read_csv('Experiments/HadCM3/HadCM3_ZMT_10deg.csv')\n",
    "HadCM3_GMT=pd.read_csv('Experiments/HadCM3/HadCM3_850.csv')\n",
    "HadCM3_GMT_anomaly=pd.read_csv('Experiments/HadCM3/HadCM3_850_anomaly.csv')"
   ]
  },
  {
   "cell_type": "code",
   "execution_count": null,
   "metadata": {},
   "outputs": [],
   "source": [
    "HadCM3_ZMT.columns"
   ]
  },
  {
   "cell_type": "code",
   "execution_count": null,
   "metadata": {},
   "outputs": [],
   "source": [
    "Config_data={'xnagd':'Config_HadCM3_fixed.ini', 'xnagf':'Config_HadCM3_fixed.ini', 'xnagg':'Config_HadCM3_fixed.ini',\n",
    "             'pi_forc':'Config_HadCM3_fixed.ini',\n",
    "             'xmzke':'Config_HadCM3_LGM_fixed.ini', 'xmzkg':'Config_HadCM3_LGM_fixed.ini','xmzkh':'Config_HadCM3_LGM_fixed.ini',\n",
    "             'LGM_forc':'Config_HadCM3_LGM_fixed.ini',\n",
    "             'xmzkb':'Config_HadCM3_LGM_fixed_m.ini', 'xmzkc':'Config_HadCM3_LGM_fixed_p.ini'}"
   ]
  },
  {
   "cell_type": "markdown",
   "metadata": {},
   "source": [
    "## General optimization setup"
   ]
  },
  {
   "cell_type": "code",
   "execution_count": null,
   "metadata": {},
   "outputs": [],
   "source": [
    "P0=np.array([70*4.2e6,200,1.9,1,1,1])\n",
    "#P0=Get_PGamma[0]\n",
    "Pmin=np.array([1*4.2e6,170,1.3,0.8,0.8,0.8])\n",
    "Pmax=np.array([100*4.2e6,240,2.5,1.2,1.2,1.2])\n",
    "P_pert_ratio=1/10000\n",
    "\n",
    "parameter_labels=[['eqparam','c_ao'],['func3','a'],['func3','b'],['func4','factor_oc'],['func4','factor_kwv'],['func4','factor_kair']]\n",
    "parameter_levels=np.array([None,None,None,None,None,None])"
   ]
  },
  {
   "cell_type": "code",
   "execution_count": null,
   "metadata": {},
   "outputs": [],
   "source": [
    "\"\"\"Decleration of optimization configuration\"\"\"\n",
    "optimization_setup = optimization(mode='Coupled',\n",
    "                            target=None,\n",
    "                            ZMT_response=False, \n",
    "                            GMT_response=True,\n",
    "                            response_average_length=30*12,\n",
    "                            num_steps=20,\n",
    "                            num_data=12000,\n",
    "                            gamma0=1e-8,\n",
    "                            cost_function_type='LeastSquare',\n",
    "                            cost_weight='cross_weight',\n",
    "                            cost_ratio=None,\n",
    "                            ZMT=HadCM3_ZMT['pi_forc']+288.15,\n",
    "                            GMT=288.15,\n",
    "                            precision=0,\n",
    "                            grid = HadCM3_ZMT['lat'].values)\n",
    "\n",
    "\"\"\"Declaration of parameter setup, with initial parameters, parameter boundaries and \n",
    "the parameter pertubation to estimate the cost function gradient\"\"\"\n",
    "\n",
    "optimization_setup.give_parameters(P0,Pmin,Pmax,P_pert_ratio)\n",
    "        \n",
    "\"\"\"Decleration of optimization configuration\"\"\"\n",
    "optimization_setup_an = optimization(mode='Coupled',\n",
    "                            target=None,\n",
    "                            ZMT_response=True, \n",
    "                            GMT_response=True,\n",
    "                            response_average_length=30*12,\n",
    "                            num_steps=20,\n",
    "                            num_data=12000,\n",
    "                            gamma0=1e-8,\n",
    "                            cost_function_type='LeastSquare',\n",
    "                            cost_weight='cross_weight',\n",
    "                            cost_ratio=None,\n",
    "                            ZMT=HadCM3_ZMT['pi_forc']+288.15,\n",
    "                            GMT=288.15,\n",
    "                            precision=0,\n",
    "                            grid = HadCM3_ZMT['lat'].values)\n",
    "\n",
    "\"\"\"Declaration of parameter setup, with initial parameters, parameter boundaries and \n",
    "the parameter pertubation to estimate the cost function gradient\"\"\"\n",
    "\n",
    "optimization_setup_an.give_parameters(P0,Pmin,Pmax,P_pert_ratio)\n",
    "        \n",
    "## ZMT anomaly\n",
    "\n",
    "\"\"\"Decleration of optimization configuration\"\"\"\n",
    "optimization_setup_LGM_an = optimization(mode='Coupled',\n",
    "                            target=None,\n",
    "                            ZMT_response=True, \n",
    "                            GMT_response=True,\n",
    "                            response_average_length=30*12,\n",
    "                            num_steps=20,\n",
    "                            num_data=12000,\n",
    "                            gamma0=1e-8,\n",
    "                            cost_function_type='LeastSquare',\n",
    "                            cost_weight='cross_weight',\n",
    "                            cost_ratio=None,\n",
    "                            ZMT=HadCM3_ZMT['LGM_forc'],\n",
    "                            GMT=283.15,\n",
    "                            precision=0,\n",
    "                            grid = HadCM3_ZMT['lat'].values)\n",
    "\n",
    "\"\"\"Declaration of parameter setup, with initial parameters, parameter boundaries and \n",
    "the parameter pertubation to estimate the cost function gradient\"\"\"\n",
    "\n",
    "optimization_setup_LGM_an.give_parameters(P0,Pmin,Pmax,P_pert_ratio)\n",
    "        \n",
    "    \n",
    "optimization_setup_LGM   = optimization(mode='Coupled',\n",
    "                            target=None,\n",
    "                            ZMT_response=False, \n",
    "                            GMT_response=True,\n",
    "                            response_average_length=30*12,\n",
    "                            num_steps=20,\n",
    "                            num_data=12000,\n",
    "                            gamma0=1e-8,\n",
    "                            cost_function_type='LeastSquare',\n",
    "                            cost_weight='cross_weight',\n",
    "                            cost_ratio=None,\n",
    "                            ZMT=HadCM3_ZMT['LGM_forc'],\n",
    "                            GMT=283.15,\n",
    "                            precision=0,\n",
    "                            grid = HadCM3_ZMT['lat'].values)\n",
    "\n",
    "\"\"\"Declaration of parameter setup, with initial parameters, parameter boundaries and \n",
    "the parameter pertubation to estimate the cost function gradient\"\"\"\n",
    "\n",
    "optimization_setup_LGM.give_parameters(P0,Pmin,Pmax,P_pert_ratio)"
   ]
  },
  {
   "cell_type": "markdown",
   "metadata": {},
   "source": [
    "## PI runs"
   ]
  },
  {
   "cell_type": "markdown",
   "metadata": {},
   "source": [
    "### ZMT absolute, GMT anomaly"
   ]
  },
  {
   "cell_type": "code",
   "execution_count": null,
   "metadata": {},
   "outputs": [],
   "source": [
    "for run in ['xnagd', 'xnagf', 'xnagg','pi_forc']: \n",
    "\n",
    "    \"\"\"Import the configuration that is required to run your specific model\"\"\"\n",
    "\n",
    "    config_HadCM3=importer('Experiments/HadCM3/'+Config_data[run])\n",
    "    parallel_config = {'number_of_parameters': 6, 'number_of_cycles': 1,'number_of_parallels': 13}\n",
    "    variable_importer(config_HadCM3,initialZMT=False,parallel=True,parallel_config=parallel_config)\n",
    "    config_HadCM3,Sellers=add_sellersparameters(config_HadCM3, parameterinterpolatorstepwise,\\\n",
    "                                                'ZOEE/config/SellersParameterization.ini',4,2,True,False)\n",
    "    elevation=-0.0065*np.array(Sellers[1][1])\n",
    "\n",
    "    \"\"\"Import the class of your model that has to be defined in ZOEE.modules.optimization. And give it whatever \n",
    "    configuration it requires\"\"\"\n",
    "    ZOEE_HadCM3 = ZOEE_optimization(6,parameter_labels,parameter_levels,True,elevation,'Coupled',12000,monthly=True)\n",
    "\n",
    "    #model_setup=[2,'ZMT',parameter_labels,parameter_levels,elevation,True]\n",
    "\n",
    "    \"\"\"Execture optimize to start the optimization, giving it your model imported in the step before and configuration\n",
    "    required to run your model\"\"\"\n",
    "    optimization_setup.target={'ZMT':HadCM3_ZMT[run],'GMT':HadCM3_GMT_anomaly[run]}\n",
    "    optimization_setup.num_data=12000\n",
    "    #optimization_setup.response=False\n",
    "    print(\"Optimization >>> {}\".format(run))\n",
    "    F_HadCM3, dF_HadCM3, P_HadCM3, Ptrans_HadCM3, gamma_HadCM3, ZMT_HadCM3, GMT_HadCM3=\\\n",
    "    optimization_setup.optimize(ZOEE_HadCM3,config_HadCM3)\n",
    "    \n",
    "    df = pd.DataFrame()\n",
    "    df['F'] = F_HadCM3\n",
    "    df['dF'] = dF_HadCM3\n",
    "    df['P'] = P_HadCM3\n",
    "    df['Ptrans'] = Ptrans_HadCM3\n",
    "    df['Gamma'] = gamma_HadCM3\n",
    "    df['ZMT'] = ZMT_HadCM3\n",
    "    df['GMT'] = GMT_HadCM3\n",
    "    df.to_csv('Experiments/Output/'+run+'_20abs.csv')"
   ]
  },
  {
   "cell_type": "markdown",
   "metadata": {},
   "source": [
    "### ZMT anomaly, GMT anomaly"
   ]
  },
  {
   "cell_type": "code",
   "execution_count": null,
   "metadata": {},
   "outputs": [],
   "source": [
    "for run in ['xnagd', 'xnagf', 'xnagg','pi_forc']: \n",
    "\n",
    "    \"\"\"Import the configuration that is required to run your specific model\"\"\"\n",
    "\n",
    "    config_HadCM3=importer('Experiments/HadCM3/'+Config_data[run])\n",
    "    parallel_config = {'number_of_parameters': 6, 'number_of_cycles': 1,'number_of_parallels': 13}\n",
    "    variable_importer(config_HadCM3,initialZMT=False,parallel=True,parallel_config=parallel_config)\n",
    "    config_HadCM3,Sellers=add_sellersparameters(config_HadCM3, parameterinterpolatorstepwise,\\\n",
    "                                                'ZOEE/config/SellersParameterization.ini',4,2,True,False)\n",
    "    elevation=-0.0065*np.array(Sellers[1][1])\n",
    "\n",
    "    \"\"\"Import the class of your model that has to be defined in ZOEE.modules.optimization. And give it whatever \n",
    "    configuration it requires\"\"\"\n",
    "    ZOEE_HadCM3 = ZOEE_optimization(6,parameter_labels,parameter_levels,True,elevation,'Coupled',12000,monthly=True)\n",
    "\n",
    "    #model_setup=[2,'ZMT',parameter_labels,parameter_levels,elevation,True]\n",
    "\n",
    "    \"\"\"Execture optimize to start the optimization, giving it your model imported in the step before and configuration\n",
    "    required to run your model\"\"\"\n",
    "    optimization_setup.target={'ZMT':HadCM3_ZMT_anomaly[run],'GMT':HadCM3_GMT_anomaly[run]}\n",
    "    optimization_setup.num_data=12000\n",
    "    #optimization_setup.response=False\n",
    "    print(\"Optimization >>> {}\".format(run))\n",
    "    F_HadCM3, dF_HadCM3, P_HadCM3, Ptrans_HadCM3, gamma_HadCM3, ZMT_HadCM3, GMT_HadCM3=\\\n",
    "    optimization_setup_an.optimize(ZOEE_HadCM3,config_HadCM3)\n",
    "    \n",
    "    df = pd.DataFrame()\n",
    "    df['F'] = F_HadCM3\n",
    "    df['dF'] = dF_HadCM3\n",
    "    df['P'] = P_HadCM3\n",
    "    df['Ptrans'] = Ptrans_HadCM3\n",
    "    df['Gamma'] = gamma_HadCM3\n",
    "    df['ZMT'] = ZMT_HadCM3\n",
    "    df['GMT'] = GMT_HadCM3\n",
    "    df.to_csv('Experiments/Output/'+run+'_20an.csv')"
   ]
  },
  {
   "cell_type": "markdown",
   "metadata": {},
   "source": [
    "## LGM runs"
   ]
  },
  {
   "cell_type": "markdown",
   "metadata": {},
   "source": [
    "### LGM - ZMT absolute, GMT anomaly -  4x 185ppm, 1x 150ppm, 1x 210ppm"
   ]
  },
  {
   "cell_type": "code",
   "execution_count": null,
   "metadata": {},
   "outputs": [],
   "source": [
    "for run in ['xmzke', 'xmzkg', 'xmzkh','LGM_forc', 'xmzkb', 'xmzkc']: \n",
    "\n",
    "    \"\"\"Import the configuration that is required to run your specific model\"\"\"\n",
    "\n",
    "    config_HadCM3=importer('Experiments/HadCM3/'+Config_data[run])\n",
    "    parallel_config = {'number_of_parameters': 6, 'number_of_cycles': 1,'number_of_parallels': 13}\n",
    "    variable_importer(config_HadCM3,initialZMT=False,parallel=True,parallel_config=parallel_config)\n",
    "    config_HadCM3,Sellers=add_sellersparameters(config_HadCM3, parameterinterpolatorstepwise,\\\n",
    "                                                'ZOEE/config/SellersParameterization.ini',4,2,True,False)\n",
    "    elevation=-0.0065*(np.array(Sellers[1][1])+125)\n",
    "\n",
    "    \"\"\"Import the class of your model that has to be defined in ZOEE.modules.optimization. And give it whatever \n",
    "    configuration it requires\"\"\"\n",
    "    ZOEE_HadCM3 = ZOEE_optimization(6,parameter_labels,parameter_levels,True,elevation,'Coupled',12000,monthly=True)\n",
    "\n",
    "    #model_setup=[2,'ZMT',parameter_labels,parameter_levels,elevation,True]\n",
    "\n",
    "    \"\"\"Execture optimize to start the optimization, giving it your model imported in the step before and configuration\n",
    "    required to run your model\"\"\"\n",
    "    optimization_setup_LGM.target={'ZMT':HadCM3_ZMT[run],'GMT':HadCM3_GMT_anomaly[run]}\n",
    "    optimization_setup_LGM.num_data=12000\n",
    "    #optimization_setup.response=False\n",
    "    print(\"Optimization >>> {}\".format(run))\n",
    "    F_HadCM3, dF_HadCM3, P_HadCM3, Ptrans_HadCM3, gamma_HadCM3, ZMT_HadCM3, GMT_HadCM3=\\\n",
    "    optimization_setup_LGM.optimize(ZOEE_HadCM3,config_HadCM3)\n",
    "    \n",
    "    df = pd.DataFrame()\n",
    "    df['F'] = F_HadCM3\n",
    "    df['dF'] = dF_HadCM3\n",
    "    df['P'] = P_HadCM3\n",
    "    df['Ptrans'] = Ptrans_HadCM3\n",
    "    df['Gamma'] = gamma_HadCM3\n",
    "    df['ZMT'] = ZMT_HadCM3\n",
    "    df['GMT'] = GMT_HadCM3\n",
    "    df.to_csv('Experiments/Output/'+run+'_20abs.csv')"
   ]
  },
  {
   "cell_type": "markdown",
   "metadata": {},
   "source": [
    "### LGM - ZMT anomaly, GMT anomaly -  4x 185ppm, 1x 150ppm, 1x 210ppm"
   ]
  },
  {
   "cell_type": "code",
   "execution_count": null,
   "metadata": {},
   "outputs": [],
   "source": [
    "for run in ['xmzke', 'xmzkg', 'xmzkh','LGM_forc', 'xmzkb', 'xmzkc']: \n",
    "\n",
    "    \"\"\"Import the configuration that is required to run your specific model\"\"\"\n",
    "\n",
    "    config_HadCM3=importer('Experiments/HadCM3/'+Config_data[run])\n",
    "    parallel_config = {'number_of_parameters': 6, 'number_of_cycles': 1,'number_of_parallels': 13}\n",
    "    variable_importer(config_HadCM3,initialZMT=False,parallel=True,parallel_config=parallel_config)\n",
    "    config_HadCM3,Sellers=add_sellersparameters(config_HadCM3, parameterinterpolatorstepwise,\\\n",
    "                                                'ZOEE/config/SellersParameterization.ini',4,2,True,False)\n",
    "    elevation=-0.0065*(np.array(Sellers[1][1])+125)\n",
    "\n",
    "    \"\"\"Import the class of your model that has to be defined in ZOEE.modules.optimization. And give it whatever \n",
    "    configuration it requires\"\"\"\n",
    "    ZOEE_HadCM3 = ZOEE_optimization(6,parameter_labels,parameter_levels,True,elevation,'Coupled',12000,monthly=True)\n",
    "\n",
    "    #model_setup=[2,'ZMT',parameter_labels,parameter_levels,elevation,True]\n",
    "\n",
    "    \"\"\"Execture optimize to start the optimization, giving it your model imported in the step before and configuration\n",
    "    required to run your model\"\"\"\n",
    "    optimization_setup_LGM_an.target={'ZMT':HadCM3_ZMT_anomaly[run],'GMT':HadCM3_GMT_anomaly[run]}\n",
    "    optimization_setup_LGM_an.num_data=12000\n",
    "    #optimization_setup.response=False\n",
    "    print(\"Optimization >>> {}\".format(run))\n",
    "    F_HadCM3, dF_HadCM3, P_HadCM3, Ptrans_HadCM3, gamma_HadCM3, ZMT_HadCM3, GMT_HadCM3=\\\n",
    "    optimization_setup_LGM_an.optimize(ZOEE_HadCM3,config_HadCM3)\n",
    "    \n",
    "    df = pd.DataFrame()\n",
    "    df['F'] = F_HadCM3\n",
    "    df['dF'] = dF_HadCM3\n",
    "    df['P'] = P_HadCM3\n",
    "    df['Ptrans'] = Ptrans_HadCM3\n",
    "    df['Gamma'] = gamma_HadCM3\n",
    "    df['ZMT'] = ZMT_HadCM3\n",
    "    df['GMT'] = GMT_HadCM3\n",
    "    df.to_csv('Experiments/Output/'+run+'_20an.csv')"
   ]
  }
 ],
 "metadata": {
  "kernelspec": {
   "display_name": "Python 3",
   "language": "python",
   "name": "python3"
  },
  "language_info": {
   "codemirror_mode": {
    "name": "ipython",
    "version": 3
   },
   "file_extension": ".py",
   "mimetype": "text/x-python",
   "name": "python",
   "nbconvert_exporter": "python",
   "pygments_lexer": "ipython3",
   "version": "3.7.5"
  }
 },
 "nbformat": 4,
 "nbformat_minor": 4
}
