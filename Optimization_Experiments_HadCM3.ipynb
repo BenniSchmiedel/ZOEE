{
 "cells": [
  {
   "cell_type": "markdown",
   "metadata": {},
   "source": [
    "# Optimizations of ZOEE to HadCM3 Data"
   ]
  },
  {
   "cell_type": "code",
   "execution_count": 1,
   "metadata": {},
   "outputs": [],
   "source": [
    "import matplotlib.pyplot as plt\n",
    "import numpy as np\n",
    "\n",
    "from ZOEE.modules.configuration import importer, add_sellersparameters, parameterinterpolatorstepwise\n",
    "from ZOEE.modules.variables import variable_importer, Vars, Base\n",
    "from ZOEE.modules.optimization import optimization, ZOEE_optimization\n",
    "#from ZOEE import update_plotstyle, moving_average\n",
    "from ZOEE.modules.rk4 import rk4alg\n",
    "import pandas as pd\n",
    "#import matplotlib\n",
    "#update_plotstyle()\n",
    "#matplotlib.rcParams['lines.linewidth']=1.1"
   ]
  },
  {
   "cell_type": "markdown",
   "metadata": {},
   "source": [
    "## Target Data"
   ]
  },
  {
   "cell_type": "code",
   "execution_count": 2,
   "metadata": {},
   "outputs": [],
   "source": [
    "HadCM3_ZMT=pd.read_csv('Experiments/HadCM3/HadCM3_ZMT_10deg.csv')\n",
    "HadCM3_ZMT_anomaly=pd.read_csv('Experiments/HadCM3/HadCM3_ZMT_10deg.csv')\n",
    "HadCM3_GMT=pd.read_csv('Experiments/HadCM3/HadCM3_850.csv')\n",
    "HadCM3_GMT_anomaly=pd.read_csv('Experiments/HadCM3/HadCM3_850_anomaly.csv')"
   ]
  },
  {
   "cell_type": "code",
   "execution_count": 3,
   "metadata": {},
   "outputs": [
    {
     "data": {
      "text/plain": [
       "Index(['lat', 'xnagb', 'xnage', 'xnagd', 'xnagf', 'xnagg', 'xmzke', 'xmzkg',\n",
       "       'xmzkh', 'xmzkb', 'xmzkc', 'pi_ctrl', 'pi_forc', 'LGM_forc'],\n",
       "      dtype='object')"
      ]
     },
     "execution_count": 3,
     "metadata": {},
     "output_type": "execute_result"
    }
   ],
   "source": [
    "HadCM3_ZMT.columns"
   ]
  },
  {
   "cell_type": "code",
   "execution_count": 16,
   "metadata": {},
   "outputs": [
    {
     "data": {
      "text/plain": [
       "0   NaN\n",
       "1   NaN\n",
       "2   NaN\n",
       "3   NaN\n",
       "4   NaN\n",
       "5   NaN\n",
       "6   NaN\n",
       "7   NaN\n",
       "8   NaN\n",
       "9   NaN\n",
       "Name: xnagh, dtype: float64"
      ]
     },
     "execution_count": 16,
     "metadata": {},
     "output_type": "execute_result"
    }
   ],
   "source": [
    "HadCM3_GMT_anomaly['xnagh'][:10]"
   ]
  },
  {
   "cell_type": "code",
   "execution_count": 4,
   "metadata": {},
   "outputs": [],
   "source": [
    "Config_data={'xnagd':'Config_HadCM3_fixed.ini', 'xnagf':'Config_HadCM3_fixed.ini', 'xnagg':'Config_HadCM3_fixed.ini',\n",
    "             'pi_forc':'Config_HadCM3_fixed.ini',\n",
    "             'xmzke':'Config_HadCM3_LGM_fixed.ini', 'xmzkg':'Config_HadCM3_LGM_fixed.ini','xmzkh':'Config_HadCM3_LGM_fixed.ini',\n",
    "             'LGM_forc':'Config_HadCM3_LGM_fixed.ini',\n",
    "             'xmzkb':'Config_HadCM3_LGM_fixed_m.ini', 'xmzkc':'Config_HadCM3_LGM_fixed_p.ini'}"
   ]
  },
  {
   "cell_type": "markdown",
   "metadata": {},
   "source": [
    "## General optimization setup"
   ]
  },
  {
   "cell_type": "code",
   "execution_count": 5,
   "metadata": {},
   "outputs": [],
   "source": [
    "P0=np.array([70*4.2e6,200,1.9,1,1,1])\n",
    "#P0=Get_PGamma[0]\n",
    "Pmin=np.array([1*4.2e6,170,1.3,0.8,0.8,0.8])\n",
    "Pmax=np.array([100*4.2e6,240,2.5,1.2,1.2,1.2])\n",
    "P_pert_ratio=1/10000\n",
    "\n",
    "parameter_labels=[['eqparam','c_ao'],['func3','a'],['func3','b'],['func4','factor_oc'],['func4','factor_kwv'],['func4','factor_kair']]\n",
    "parameter_levels=np.array([None,None,None,None,None,None])"
   ]
  },
  {
   "cell_type": "code",
   "execution_count": 6,
   "metadata": {},
   "outputs": [],
   "source": [
    "\"\"\"Decleration of optimization configuration\"\"\"\n",
    "optimization_setup = optimization(mode='Coupled',\n",
    "                            target=None,\n",
    "                            ZMT_response=False, \n",
    "                            GMT_response=True,\n",
    "                            response_average_length=30*12,\n",
    "                            num_steps=20,\n",
    "                            num_data=12000,\n",
    "                            gamma0=1e-8,\n",
    "                            cost_function_type='LeastSquare',\n",
    "                            cost_weight='cross_weight',\n",
    "                            cost_ratio=None,\n",
    "                            ZMT=HadCM3_ZMT['pi_forc']+288.15,\n",
    "                            GMT=288.15,\n",
    "                            precision=0,\n",
    "                            grid = HadCM3_ZMT['lat'].values)\n",
    "\n",
    "\"\"\"Declaration of parameter setup, with initial parameters, parameter boundaries and \n",
    "the parameter pertubation to estimate the cost function gradient\"\"\"\n",
    "\n",
    "optimization_setup.give_parameters(P0,Pmin,Pmax,P_pert_ratio)\n",
    "        \n",
    "\"\"\"Decleration of optimization configuration\"\"\"\n",
    "optimization_setup_an = optimization(mode='Coupled',\n",
    "                            target=None,\n",
    "                            ZMT_response=True, \n",
    "                            GMT_response=True,\n",
    "                            response_average_length=30*12,\n",
    "                            num_steps=20,\n",
    "                            num_data=12000,\n",
    "                            gamma0=1e-8,\n",
    "                            cost_function_type='LeastSquare',\n",
    "                            cost_weight='cross_weight',\n",
    "                            cost_ratio=None,\n",
    "                            ZMT=HadCM3_ZMT['pi_forc']+288.15,\n",
    "                            GMT=288.15,\n",
    "                            precision=0,\n",
    "                            grid = HadCM3_ZMT['lat'].values)\n",
    "\n",
    "\"\"\"Declaration of parameter setup, with initial parameters, parameter boundaries and \n",
    "the parameter pertubation to estimate the cost function gradient\"\"\"\n",
    "\n",
    "optimization_setup_an.give_parameters(P0,Pmin,Pmax,P_pert_ratio)\n",
    "        \n",
    "## ZMT anomaly\n",
    "\n",
    "\"\"\"Decleration of optimization configuration\"\"\"\n",
    "optimization_setup_LGM_an = optimization(mode='Coupled',\n",
    "                            target=None,\n",
    "                            ZMT_response=True, \n",
    "                            GMT_response=True,\n",
    "                            response_average_length=30*12,\n",
    "                            num_steps=20,\n",
    "                            num_data=12000,\n",
    "                            gamma0=1e-8,\n",
    "                            cost_function_type='LeastSquare',\n",
    "                            cost_weight='cross_weight',\n",
    "                            cost_ratio=None,\n",
    "                            ZMT=HadCM3_ZMT['LGM_forc'],\n",
    "                            GMT=283.15,\n",
    "                            precision=0,\n",
    "                            grid = HadCM3_ZMT['lat'].values)\n",
    "\n",
    "\"\"\"Declaration of parameter setup, with initial parameters, parameter boundaries and \n",
    "the parameter pertubation to estimate the cost function gradient\"\"\"\n",
    "\n",
    "optimization_setup_LGM_an.give_parameters(P0,Pmin,Pmax,P_pert_ratio)\n",
    "        \n",
    "    \n",
    "optimization_setup_LGM   = optimization(mode='Coupled',\n",
    "                            target=None,\n",
    "                            ZMT_response=False, \n",
    "                            GMT_response=True,\n",
    "                            response_average_length=30*12,\n",
    "                            num_steps=20,\n",
    "                            num_data=12000,\n",
    "                            gamma0=1e-8,\n",
    "                            cost_function_type='LeastSquare',\n",
    "                            cost_weight='cross_weight',\n",
    "                            cost_ratio=None,\n",
    "                            ZMT=HadCM3_ZMT['LGM_forc'],\n",
    "                            GMT=283.15,\n",
    "                            precision=0,\n",
    "                            grid = HadCM3_ZMT['lat'].values)\n",
    "\n",
    "\"\"\"Declaration of parameter setup, with initial parameters, parameter boundaries and \n",
    "the parameter pertubation to estimate the cost function gradient\"\"\"\n",
    "\n",
    "optimization_setup_LGM.give_parameters(P0,Pmin,Pmax,P_pert_ratio)"
   ]
  },
  {
   "cell_type": "markdown",
   "metadata": {},
   "source": [
    "## PI runs"
   ]
  },
  {
   "cell_type": "markdown",
   "metadata": {},
   "source": [
    "### ZMT absolute, GMT anomaly"
   ]
  },
  {
   "cell_type": "code",
   "execution_count": 7,
   "metadata": {},
   "outputs": [
    {
     "name": "stdout",
     "output_type": "stream",
     "text": [
      "Loading Configuration from: Experiments/HadCM3/Config_HadCM3.ini\n",
      "Loading Parameters from: ZOEE/config/SellersParameterization.ini\n",
      "Optimization >>> xnagd\n",
      "Iteration no.0\n",
      "Starting controlrun with 182500 datapoints and equilibrium condition of std(GMT[-30 years]) < 0.001 \n"
     ]
    },
    {
     "name": "stderr",
     "output_type": "stream",
     "text": [
      "/home/benni/.local/lib/python3.7/site-packages/numpy/core/_methods.py:217: RuntimeWarning: Degrees of freedom <= 0 for slice\n",
      "  keepdims=keepdims)\n"
     ]
    },
    {
     "ename": "KeyboardInterrupt",
     "evalue": "",
     "output_type": "error",
     "traceback": [
      "\u001b[0;31m---------------------------------------------------------------------------\u001b[0m",
      "\u001b[0;31mKeyboardInterrupt\u001b[0m                         Traceback (most recent call last)",
      "\u001b[0;32m<ipython-input-7-f808e558c70e>\u001b[0m in \u001b[0;36m<module>\u001b[0;34m\u001b[0m\n\u001b[1;32m     23\u001b[0m     \u001b[0mprint\u001b[0m\u001b[0;34m(\u001b[0m\u001b[0;34m\"Optimization >>> {}\"\u001b[0m\u001b[0;34m.\u001b[0m\u001b[0mformat\u001b[0m\u001b[0;34m(\u001b[0m\u001b[0mrun\u001b[0m\u001b[0;34m)\u001b[0m\u001b[0;34m)\u001b[0m\u001b[0;34m\u001b[0m\u001b[0;34m\u001b[0m\u001b[0m\n\u001b[1;32m     24\u001b[0m     \u001b[0mF_HadCM3\u001b[0m\u001b[0;34m,\u001b[0m \u001b[0mdF_HadCM3\u001b[0m\u001b[0;34m,\u001b[0m \u001b[0mP_HadCM3\u001b[0m\u001b[0;34m,\u001b[0m \u001b[0mPtrans_HadCM3\u001b[0m\u001b[0;34m,\u001b[0m \u001b[0mgamma_HadCM3\u001b[0m\u001b[0;34m,\u001b[0m \u001b[0mZMT_HadCM3\u001b[0m\u001b[0;34m,\u001b[0m \u001b[0mGMT_HadCM3\u001b[0m\u001b[0;34m=\u001b[0m\u001b[0;31m\\\u001b[0m\u001b[0;34m\u001b[0m\u001b[0;34m\u001b[0m\u001b[0m\n\u001b[0;32m---> 25\u001b[0;31m     \u001b[0moptimization_setup\u001b[0m\u001b[0;34m.\u001b[0m\u001b[0moptimize\u001b[0m\u001b[0;34m(\u001b[0m\u001b[0mZOEE_HadCM3\u001b[0m\u001b[0;34m,\u001b[0m\u001b[0mconfig_HadCM3\u001b[0m\u001b[0;34m)\u001b[0m\u001b[0;34m\u001b[0m\u001b[0;34m\u001b[0m\u001b[0m\n\u001b[0m\u001b[1;32m     26\u001b[0m \u001b[0;34m\u001b[0m\u001b[0m\n\u001b[1;32m     27\u001b[0m     \u001b[0mdf\u001b[0m \u001b[0;34m=\u001b[0m \u001b[0mpd\u001b[0m\u001b[0;34m.\u001b[0m\u001b[0mDataFrame\u001b[0m\u001b[0;34m(\u001b[0m\u001b[0;34m)\u001b[0m\u001b[0;34m\u001b[0m\u001b[0;34m\u001b[0m\u001b[0m\n",
      "\u001b[0;32m~/University/GMD_Paper/ZOEE_Package/ZOEE/modules/optimization.py\u001b[0m in \u001b[0;36moptimize\u001b[0;34m(self, model, model_config)\u001b[0m\n\u001b[1;32m    126\u001b[0m             \u001b[0;31m# ********************* Interface function for the model used to simulate******************\u001b[0m\u001b[0;34m\u001b[0m\u001b[0;34m\u001b[0m\u001b[0;34m\u001b[0m\u001b[0m\n\u001b[1;32m    127\u001b[0m             \u001b[0;31m# run the model to create the simulation data which is compared with the target.\u001b[0m\u001b[0;34m\u001b[0m\u001b[0;34m\u001b[0m\u001b[0;34m\u001b[0m\u001b[0m\n\u001b[0;32m--> 128\u001b[0;31m             \u001b[0mdata\u001b[0m \u001b[0;34m=\u001b[0m \u001b[0mself\u001b[0m\u001b[0;34m.\u001b[0m\u001b[0mrun_model\u001b[0m\u001b[0;34m(\u001b[0m\u001b[0mmodel\u001b[0m\u001b[0;34m,\u001b[0m \u001b[0mmodel_config\u001b[0m\u001b[0;34m,\u001b[0m \u001b[0mP\u001b[0m\u001b[0;34m[\u001b[0m\u001b[0mi\u001b[0m\u001b[0;34m]\u001b[0m\u001b[0;34m)\u001b[0m\u001b[0;34m\u001b[0m\u001b[0;34m\u001b[0m\u001b[0m\n\u001b[0m\u001b[1;32m    129\u001b[0m             \u001b[0;31m# ********************************************************************************\u001b[0m\u001b[0;34m\u001b[0m\u001b[0;34m\u001b[0m\u001b[0;34m\u001b[0m\u001b[0m\n\u001b[1;32m    130\u001b[0m \u001b[0;34m\u001b[0m\u001b[0m\n",
      "\u001b[0;32m~/University/GMD_Paper/ZOEE_Package/ZOEE/modules/optimization.py\u001b[0m in \u001b[0;36mrun_model\u001b[0;34m(self, model, model_config, P)\u001b[0m\n\u001b[1;32m    280\u001b[0m         \u001b[0;31m# Class is called here. Output of run() should be [ ZMT_final_step + elevation, GMT ]\u001b[0m\u001b[0;34m\u001b[0m\u001b[0;34m\u001b[0m\u001b[0;34m\u001b[0m\u001b[0m\n\u001b[1;32m    281\u001b[0m         \u001b[0;31m# The Dimensions of the Data should be: ZMT = (parallel, grid)    GMT = (datapoints, parallel)\u001b[0m\u001b[0;34m\u001b[0m\u001b[0;34m\u001b[0m\u001b[0;34m\u001b[0m\u001b[0m\n\u001b[0;32m--> 282\u001b[0;31m         \u001b[0mZMT_out\u001b[0m\u001b[0;34m,\u001b[0m \u001b[0mGMT_out\u001b[0m \u001b[0;34m=\u001b[0m \u001b[0mmodel\u001b[0m\u001b[0;34m.\u001b[0m\u001b[0mrun\u001b[0m\u001b[0;34m(\u001b[0m\u001b[0mmodel_config\u001b[0m\u001b[0;34m,\u001b[0m \u001b[0mP_config\u001b[0m\u001b[0;34m,\u001b[0m \u001b[0mself\u001b[0m\u001b[0;34m.\u001b[0m\u001b[0mZMT_initial\u001b[0m\u001b[0;34m,\u001b[0m \u001b[0mself\u001b[0m\u001b[0;34m.\u001b[0m\u001b[0mGMT_initial\u001b[0m\u001b[0;34m)\u001b[0m\u001b[0;34m\u001b[0m\u001b[0;34m\u001b[0m\u001b[0m\n\u001b[0m\u001b[1;32m    283\u001b[0m         \u001b[0;31m# ****************\u001b[0m\u001b[0;34m\u001b[0m\u001b[0;34m\u001b[0m\u001b[0;34m\u001b[0m\u001b[0m\n\u001b[1;32m    284\u001b[0m \u001b[0;34m\u001b[0m\u001b[0m\n",
      "\u001b[0;32m~/University/GMD_Paper/ZOEE_Package/ZOEE/modules/optimization.py\u001b[0m in \u001b[0;36mrun\u001b[0;34m(self, config, P_config, ZMT, GMT)\u001b[0m\n\u001b[1;32m    369\u001b[0m         \u001b[0mVars\u001b[0m\u001b[0;34m.\u001b[0m\u001b[0mT\u001b[0m\u001b[0;34m,\u001b[0m \u001b[0mVars\u001b[0m\u001b[0;34m.\u001b[0m\u001b[0mT_global\u001b[0m \u001b[0;34m=\u001b[0m \u001b[0mZMT\u001b[0m\u001b[0;34m,\u001b[0m \u001b[0mGMT\u001b[0m\u001b[0;34m\u001b[0m\u001b[0;34m\u001b[0m\u001b[0m\n\u001b[1;32m    370\u001b[0m \u001b[0;34m\u001b[0m\u001b[0m\n\u001b[0;32m--> 371\u001b[0;31m         \u001b[0mdata\u001b[0m \u001b[0;34m=\u001b[0m \u001b[0mrk4alg\u001b[0m\u001b[0;34m(\u001b[0m\u001b[0mconfig\u001b[0m\u001b[0;34m,\u001b[0m \u001b[0mprogressbar\u001b[0m\u001b[0;34m=\u001b[0m\u001b[0mself\u001b[0m\u001b[0;34m.\u001b[0m\u001b[0mprogressbar\u001b[0m\u001b[0;34m,\u001b[0m \u001b[0mmonthly\u001b[0m\u001b[0;34m=\u001b[0m\u001b[0mself\u001b[0m\u001b[0;34m.\u001b[0m\u001b[0mmonthly\u001b[0m\u001b[0;34m)\u001b[0m\u001b[0;34m\u001b[0m\u001b[0;34m\u001b[0m\u001b[0m\n\u001b[0m\u001b[1;32m    372\u001b[0m \u001b[0;34m\u001b[0m\u001b[0m\n\u001b[1;32m    373\u001b[0m         \u001b[0;32mif\u001b[0m \u001b[0mself\u001b[0m\u001b[0;34m.\u001b[0m\u001b[0melevation\u001b[0m\u001b[0;34m:\u001b[0m\u001b[0;34m\u001b[0m\u001b[0;34m\u001b[0m\u001b[0m\n",
      "\u001b[0;32m~/University/GMD_Paper/ZOEE_Package/ZOEE/modules/rk4.py\u001b[0m in \u001b[0;36mrk4alg\u001b[0;34m(config, progressbar, monthly)\u001b[0m\n\u001b[1;32m    211\u001b[0m         \u001b[0mBase\u001b[0m\u001b[0;34m.\u001b[0m\u001b[0mRuntime_Tracker\u001b[0m \u001b[0;34m+=\u001b[0m \u001b[0;36m1\u001b[0m\u001b[0;34m\u001b[0m\u001b[0;34m\u001b[0m\u001b[0m\n\u001b[1;32m    212\u001b[0m         \u001b[0mVars\u001b[0m\u001b[0;34m.\u001b[0m\u001b[0mT\u001b[0m \u001b[0;34m=\u001b[0m \u001b[0mT0\u001b[0m \u001b[0;34m+\u001b[0m \u001b[0mk3\u001b[0m\u001b[0;34m\u001b[0m\u001b[0;34m\u001b[0m\u001b[0m\n\u001b[0;32m--> 213\u001b[0;31m         \u001b[0mk4\u001b[0m \u001b[0;34m=\u001b[0m \u001b[0mh\u001b[0m \u001b[0;34m*\u001b[0m \u001b[0mmodel_equation\u001b[0m\u001b[0;34m(\u001b[0m\u001b[0meqparam\u001b[0m\u001b[0;34m,\u001b[0m \u001b[0mfunccomp\u001b[0m\u001b[0;34m)\u001b[0m\u001b[0;34m\u001b[0m\u001b[0;34m\u001b[0m\u001b[0m\n\u001b[0m\u001b[1;32m    214\u001b[0m         \u001b[0mBase\u001b[0m\u001b[0;34m.\u001b[0m\u001b[0mRuntime_Tracker\u001b[0m \u001b[0;34m+=\u001b[0m \u001b[0;36m1\u001b[0m\u001b[0;34m\u001b[0m\u001b[0;34m\u001b[0m\u001b[0m\n\u001b[1;32m    215\u001b[0m \u001b[0;34m\u001b[0m\u001b[0m\n",
      "\u001b[0;32m~/University/GMD_Paper/ZOEE_Package/ZOEE/modules/model.py\u001b[0m in \u001b[0;36mmodel_equation\u001b[0;34m(eqparam, funccomp)\u001b[0m\n\u001b[1;32m     60\u001b[0m                 \u001b[0;32mpass\u001b[0m\u001b[0;34m\u001b[0m\u001b[0;34m\u001b[0m\u001b[0m\n\u001b[1;32m     61\u001b[0m             \u001b[0;32melse\u001b[0m\u001b[0;34m:\u001b[0m\u001b[0;34m\u001b[0m\u001b[0;34m\u001b[0m\u001b[0m\n\u001b[0;32m---> 62\u001b[0;31m                 \u001b[0my\u001b[0m \u001b[0;34m+=\u001b[0m \u001b[0mfunclist\u001b[0m\u001b[0;34m[\u001b[0m\u001b[0mfuncnum\u001b[0m\u001b[0;34m]\u001b[0m\u001b[0;34m(\u001b[0m\u001b[0mfuncparam\u001b[0m\u001b[0;34m[\u001b[0m\u001b[0mfuncnum\u001b[0m\u001b[0;34m]\u001b[0m\u001b[0;34m)\u001b[0m  \u001b[0;31m# Calling the selected function and sum them up\u001b[0m\u001b[0;34m\u001b[0m\u001b[0;34m\u001b[0m\u001b[0m\n\u001b[0m\u001b[1;32m     63\u001b[0m         \u001b[0;32melse\u001b[0m\u001b[0;34m:\u001b[0m\u001b[0;34m\u001b[0m\u001b[0;34m\u001b[0m\u001b[0m\n\u001b[1;32m     64\u001b[0m             \u001b[0my\u001b[0m \u001b[0;34m+=\u001b[0m \u001b[0mfunclist\u001b[0m\u001b[0;34m[\u001b[0m\u001b[0mfuncnum\u001b[0m\u001b[0;34m]\u001b[0m\u001b[0;34m(\u001b[0m\u001b[0mfuncparam\u001b[0m\u001b[0;34m[\u001b[0m\u001b[0mfuncnum\u001b[0m\u001b[0;34m]\u001b[0m\u001b[0;34m)\u001b[0m  \u001b[0;31m# Calling the selected function and sum them up\u001b[0m\u001b[0;34m\u001b[0m\u001b[0;34m\u001b[0m\u001b[0m\n",
      "\u001b[0;32m~/University/GMD_Paper/ZOEE_Package/ZOEE/modules/functions.py\u001b[0m in \u001b[0;36minsolation\u001b[0;34m(self, funcparam)\u001b[0m\n\u001b[1;32m    254\u001b[0m \u001b[0;34m\u001b[0m\u001b[0m\n\u001b[1;32m    255\u001b[0m             \u001b[0;31m# Calculating albedo from given albedofunction\u001b[0m\u001b[0;34m\u001b[0m\u001b[0;34m\u001b[0m\u001b[0;34m\u001b[0m\u001b[0m\n\u001b[0;32m--> 256\u001b[0;31m         \u001b[0malpha\u001b[0m \u001b[0;34m=\u001b[0m \u001b[0malbedofunc\u001b[0m\u001b[0;34m(\u001b[0m\u001b[0;34m*\u001b[0m\u001b[0malbedofuncparam\u001b[0m\u001b[0;34m)\u001b[0m\u001b[0;34m\u001b[0m\u001b[0;34m\u001b[0m\u001b[0m\n\u001b[0m\u001b[1;32m    257\u001b[0m         \u001b[0;31m# Readout to give albedo as output\u001b[0m\u001b[0;34m\u001b[0m\u001b[0;34m\u001b[0m\u001b[0;34m\u001b[0m\u001b[0m\n\u001b[1;32m    258\u001b[0m         \u001b[0;32mif\u001b[0m \u001b[0malbedoread\u001b[0m \u001b[0;34m==\u001b[0m \u001b[0;32mTrue\u001b[0m\u001b[0;34m:\u001b[0m\u001b[0;34m\u001b[0m\u001b[0;34m\u001b[0m\u001b[0m\n",
      "\u001b[0;32m~/University/GMD_Paper/ZOEE_Package/ZOEE/modules/functions.py\u001b[0m in \u001b[0;36mdynamic_sel\u001b[0;34m(self, Z, b)\u001b[0m\n\u001b[1;32m    554\u001b[0m                 \u001b[0;32mfor\u001b[0m \u001b[0mi\u001b[0m \u001b[0;32min\u001b[0m \u001b[0mrange\u001b[0m\u001b[0;34m(\u001b[0m\u001b[0mBase\u001b[0m\u001b[0;34m.\u001b[0m\u001b[0mnumber_of_parallels\u001b[0m\u001b[0;34m)\u001b[0m\u001b[0;34m:\u001b[0m\u001b[0;34m\u001b[0m\u001b[0;34m\u001b[0m\u001b[0m\n\u001b[1;32m    555\u001b[0m                     \u001b[0;32mfor\u001b[0m \u001b[0mj\u001b[0m \u001b[0;32min\u001b[0m \u001b[0mrange\u001b[0m\u001b[0;34m(\u001b[0m\u001b[0mlen\u001b[0m\u001b[0;34m(\u001b[0m\u001b[0mVars\u001b[0m\u001b[0;34m.\u001b[0m\u001b[0mLat\u001b[0m\u001b[0;34m)\u001b[0m\u001b[0;34m)\u001b[0m\u001b[0;34m:\u001b[0m\u001b[0;34m\u001b[0m\u001b[0;34m\u001b[0m\u001b[0m\n\u001b[0;32m--> 556\u001b[0;31m                         \u001b[0;32mif\u001b[0m \u001b[0mTg\u001b[0m\u001b[0;34m[\u001b[0m\u001b[0mi\u001b[0m\u001b[0;34m,\u001b[0m \u001b[0mj\u001b[0m\u001b[0;34m]\u001b[0m \u001b[0;34m<\u001b[0m \u001b[0;36m283.16\u001b[0m\u001b[0;34m:\u001b[0m\u001b[0;34m\u001b[0m\u001b[0;34m\u001b[0m\u001b[0m\n\u001b[0m\u001b[1;32m    557\u001b[0m                             \u001b[0malbedo\u001b[0m\u001b[0;34m[\u001b[0m\u001b[0mi\u001b[0m\u001b[0;34m,\u001b[0m \u001b[0mj\u001b[0m\u001b[0;34m]\u001b[0m \u001b[0;34m=\u001b[0m \u001b[0mb\u001b[0m\u001b[0;34m[\u001b[0m\u001b[0mj\u001b[0m\u001b[0;34m]\u001b[0m \u001b[0;34m-\u001b[0m \u001b[0;36m0.009\u001b[0m \u001b[0;34m*\u001b[0m \u001b[0mTg\u001b[0m\u001b[0;34m[\u001b[0m\u001b[0mi\u001b[0m\u001b[0;34m,\u001b[0m \u001b[0mj\u001b[0m\u001b[0;34m]\u001b[0m\u001b[0;34m\u001b[0m\u001b[0;34m\u001b[0m\u001b[0m\n\u001b[1;32m    558\u001b[0m                         \u001b[0;32melse\u001b[0m\u001b[0;34m:\u001b[0m\u001b[0;34m\u001b[0m\u001b[0;34m\u001b[0m\u001b[0m\n",
      "\u001b[0;31mKeyboardInterrupt\u001b[0m: "
     ]
    }
   ],
   "source": [
    "for run in ['xnagd', 'xnagf', 'xnagg','pi_forc']: \n",
    "\n",
    "    \"\"\"Import the configuration that is required to run your specific model\"\"\"\n",
    "\n",
    "    config_HadCM3=importer('Experiments/HadCM3/'+Config_data[run])\n",
    "    parallel_config = {'number_of_parameters': 6, 'number_of_cycles': 1,'number_of_parallels': 13}\n",
    "    variable_importer(config_HadCM3,initialZMT=False,parallel=True,parallel_config=parallel_config)\n",
    "    config_HadCM3,Sellers=add_sellersparameters(config_HadCM3, parameterinterpolatorstepwise,\\\n",
    "                                                'ZOEE/config/SellersParameterization.ini',4,2,True,True)\n",
    "    elevation=-0.0065*np.array(Sellers[1][1])\n",
    "\n",
    "    \"\"\"Import the class of your model that has to be defined in ZOEE.modules.optimization. And give it whatever \n",
    "    configuration it requires\"\"\"\n",
    "    ZOEE_HadCM3 = ZOEE_optimization(6,parameter_labels,parameter_levels,True,elevation,'Coupled',12000,monthly=True)\n",
    "\n",
    "    #model_setup=[2,'ZMT',parameter_labels,parameter_levels,elevation,True]\n",
    "\n",
    "    \"\"\"Execture optimize to start the optimization, giving it your model imported in the step before and configuration\n",
    "    required to run your model\"\"\"\n",
    "    optimization_setup.target={'ZMT':HadCM3_ZMT[run],'GMT':HadCM3_GMT_anomaly[run]}\n",
    "    optimization_setup.num_data=12000\n",
    "    #optimization_setup.response=False\n",
    "    print(\"Optimization >>> {}\".format(run))\n",
    "    F_HadCM3, dF_HadCM3, P_HadCM3, Ptrans_HadCM3, gamma_HadCM3, ZMT_HadCM3, GMT_HadCM3=\\\n",
    "    optimization_setup.optimize(ZOEE_HadCM3,config_HadCM3)\n",
    "    \n",
    "    df = pd.DataFrame()\n",
    "    df['F'] = F_HadCM3\n",
    "    df['dF'] = dF_HadCM3\n",
    "    df['P'] = P_HadCM3\n",
    "    df['Ptrans'] = Ptrans_HadCM3\n",
    "    df['Gamma'] = gamma_HadCM3\n",
    "    df['ZMT'] = ZMT_HadCM3\n",
    "    df['GMT'] = GMT_HadCM3\n",
    "    df.to_csv('Experiments/Output/'+run+'_20abs.csv')"
   ]
  },
  {
   "cell_type": "markdown",
   "metadata": {},
   "source": [
    "### ZMT anomaly, GMT anomaly"
   ]
  },
  {
   "cell_type": "code",
   "execution_count": null,
   "metadata": {},
   "outputs": [],
   "source": [
    "for run in ['xnagd', 'xnagf', 'xnagg','pi_forc']: \n",
    "\n",
    "    \"\"\"Import the configuration that is required to run your specific model\"\"\"\n",
    "\n",
    "    config_HadCM3=importer('Experiments/HadCM3/'+Config_data[run])\n",
    "    parallel_config = {'number_of_parameters': 6, 'number_of_cycles': 1,'number_of_parallels': 13}\n",
    "    variable_importer(config_HadCM3,initialZMT=False,parallel=True,parallel_config=parallel_config)\n",
    "    config_HadCM3,Sellers=add_sellersparameters(config_HadCM3, parameterinterpolatorstepwise,\\\n",
    "                                                'ZOEE/config/SellersParameterization.ini',4,2,True,True)\n",
    "    elevation=-0.0065*np.array(Sellers[1][1])\n",
    "\n",
    "    \"\"\"Import the class of your model that has to be defined in ZOEE.modules.optimization. And give it whatever \n",
    "    configuration it requires\"\"\"\n",
    "    ZOEE_HadCM3 = ZOEE_optimization(6,parameter_labels,parameter_levels,True,elevation,'Coupled',12000,monthly=True)\n",
    "\n",
    "    #model_setup=[2,'ZMT',parameter_labels,parameter_levels,elevation,True]\n",
    "\n",
    "    \"\"\"Execture optimize to start the optimization, giving it your model imported in the step before and configuration\n",
    "    required to run your model\"\"\"\n",
    "    optimization_setup.target={'ZMT':HadCM3_ZMT_anomaly[run],'GMT':HadCM3_GMT_anomaly[run]}\n",
    "    optimization_setup.num_data=12000\n",
    "    #optimization_setup.response=False\n",
    "    print(\"Optimization >>> {}\".format(run))\n",
    "    F_HadCM3, dF_HadCM3, P_HadCM3, Ptrans_HadCM3, gamma_HadCM3, ZMT_HadCM3, GMT_HadCM3=\\\n",
    "    optimization_setup_an.optimize(ZOEE_HadCM3,config_HadCM3)\n",
    "    \n",
    "    df = pd.DataFrame()\n",
    "    df['F'] = F_HadCM3\n",
    "    df['dF'] = dF_HadCM3\n",
    "    df['P'] = P_HadCM3\n",
    "    df['Ptrans'] = Ptrans_HadCM3\n",
    "    df['Gamma'] = gamma_HadCM3\n",
    "    df['ZMT'] = ZMT_HadCM3\n",
    "    df['GMT'] = GMT_HadCM3\n",
    "    df.to_csv('Experiments/Output/'+run+'_20an.csv')"
   ]
  },
  {
   "cell_type": "markdown",
   "metadata": {},
   "source": [
    "## LGM runs"
   ]
  },
  {
   "cell_type": "markdown",
   "metadata": {},
   "source": [
    "### LGM - ZMT absolute, GMT anomaly -  4x 185ppm, 1x 150ppm, 1x 210ppm"
   ]
  },
  {
   "cell_type": "code",
   "execution_count": null,
   "metadata": {},
   "outputs": [],
   "source": [
    "for run in ['xmzke', 'xmzkg', 'xmzkh','LGM_forc', 'xmzkb', 'xmzkc']: \n",
    "\n",
    "    \"\"\"Import the configuration that is required to run your specific model\"\"\"\n",
    "\n",
    "    config_HadCM3=importer('Experiments/HadCM3/'+Config_data[run])\n",
    "    parallel_config = {'number_of_parameters': 6, 'number_of_cycles': 1,'number_of_parallels': 13}\n",
    "    variable_importer(config_HadCM3,initialZMT=False,parallel=True,parallel_config=parallel_config)\n",
    "    config_HadCM3,Sellers=add_sellersparameters(config_HadCM3, parameterinterpolatorstepwise,\\\n",
    "                                                'ZOEE/config/SellersParameterization.ini',4,2,True,True)\n",
    "    elevation=-0.0065*(np.array(Sellers[1][1])+125)\n",
    "\n",
    "    \"\"\"Import the class of your model that has to be defined in ZOEE.modules.optimization. And give it whatever \n",
    "    configuration it requires\"\"\"\n",
    "    ZOEE_HadCM3 = ZOEE_optimization(6,parameter_labels,parameter_levels,True,elevation,'Coupled',12000,monthly=True)\n",
    "\n",
    "    #model_setup=[2,'ZMT',parameter_labels,parameter_levels,elevation,True]\n",
    "\n",
    "    \"\"\"Execture optimize to start the optimization, giving it your model imported in the step before and configuration\n",
    "    required to run your model\"\"\"\n",
    "    optimization_setup_LGM.target={'ZMT':HadCM3_ZMT[run],'GMT':HadCM3_GMT_anomaly[run]}\n",
    "    optimization_setup_LGM.num_data=12000\n",
    "    #optimization_setup.response=False\n",
    "    print(\"Optimization >>> {}\".format(run))\n",
    "    F_HadCM3, dF_HadCM3, P_HadCM3, Ptrans_HadCM3, gamma_HadCM3, ZMT_HadCM3, GMT_HadCM3=\\\n",
    "    optimization_setup_LGM.optimize(ZOEE_HadCM3,config_HadCM3)\n",
    "    \n",
    "    df = pd.DataFrame()\n",
    "    df['F'] = F_HadCM3\n",
    "    df['dF'] = dF_HadCM3\n",
    "    df['P'] = P_HadCM3\n",
    "    df['Ptrans'] = Ptrans_HadCM3\n",
    "    df['Gamma'] = gamma_HadCM3\n",
    "    df['ZMT'] = ZMT_HadCM3\n",
    "    df['GMT'] = GMT_HadCM3\n",
    "    df.to_csv('Experiments/Output/'+run+'_20abs.csv')"
   ]
  },
  {
   "cell_type": "markdown",
   "metadata": {},
   "source": [
    "### LGM - ZMT anomaly, GMT anomaly -  4x 185ppm, 1x 150ppm, 1x 210ppm"
   ]
  },
  {
   "cell_type": "code",
   "execution_count": null,
   "metadata": {},
   "outputs": [],
   "source": [
    "for run in ['xmzke', 'xmzkg', 'xmzkh','LGM_forc', 'xmzkb', 'xmzkc']: \n",
    "\n",
    "    \"\"\"Import the configuration that is required to run your specific model\"\"\"\n",
    "\n",
    "    config_HadCM3=importer('Experiments/HadCM3/'+Config_data[run])\n",
    "    parallel_config = {'number_of_parameters': 6, 'number_of_cycles': 1,'number_of_parallels': 13}\n",
    "    variable_importer(config_HadCM3,initialZMT=False,parallel=True,parallel_config=parallel_config)\n",
    "    config_HadCM3,Sellers=add_sellersparameters(config_HadCM3, parameterinterpolatorstepwise,\\\n",
    "                                                'ZOEE/config/SellersParameterization.ini',4,2,True,True)\n",
    "    elevation=-0.0065*(np.array(Sellers[1][1])+125)\n",
    "\n",
    "    \"\"\"Import the class of your model that has to be defined in ZOEE.modules.optimization. And give it whatever \n",
    "    configuration it requires\"\"\"\n",
    "    ZOEE_HadCM3 = ZOEE_optimization(6,parameter_labels,parameter_levels,True,elevation,'Coupled',12000,monthly=True)\n",
    "\n",
    "    #model_setup=[2,'ZMT',parameter_labels,parameter_levels,elevation,True]\n",
    "\n",
    "    \"\"\"Execture optimize to start the optimization, giving it your model imported in the step before and configuration\n",
    "    required to run your model\"\"\"\n",
    "    optimization_setup_LGM_an.target={'ZMT':HadCM3_ZMT_anomaly[run],'GMT':HadCM3_GMT_anomaly[run]}\n",
    "    optimization_setup_LGM_an.num_data=12000\n",
    "    #optimization_setup.response=False\n",
    "    print(\"Optimization >>> {}\".format(run))\n",
    "    F_HadCM3, dF_HadCM3, P_HadCM3, Ptrans_HadCM3, gamma_HadCM3, ZMT_HadCM3, GMT_HadCM3=\\\n",
    "    optimization_setup_LGM_an.optimize(ZOEE_HadCM3,config_HadCM3)\n",
    "    \n",
    "    df = pd.DataFrame()\n",
    "    df['F'] = F_HadCM3\n",
    "    df['dF'] = dF_HadCM3\n",
    "    df['P'] = P_HadCM3\n",
    "    df['Ptrans'] = Ptrans_HadCM3\n",
    "    df['Gamma'] = gamma_HadCM3\n",
    "    df['ZMT'] = ZMT_HadCM3\n",
    "    df['GMT'] = GMT_HadCM3\n",
    "    df.to_csv('Experiments/Output/'+run+'_20an.csv')"
   ]
  }
 ],
 "metadata": {
  "kernelspec": {
   "display_name": "Python 3",
   "language": "python",
   "name": "python3"
  },
  "language_info": {
   "codemirror_mode": {
    "name": "ipython",
    "version": 3
   },
   "file_extension": ".py",
   "mimetype": "text/x-python",
   "name": "python",
   "nbconvert_exporter": "python",
   "pygments_lexer": "ipython3",
   "version": "3.7.5"
  }
 },
 "nbformat": 4,
 "nbformat_minor": 4
}
