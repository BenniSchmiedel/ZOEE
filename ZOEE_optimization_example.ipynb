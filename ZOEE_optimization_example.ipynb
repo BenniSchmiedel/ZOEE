{
 "cells": [
  {
   "cell_type": "markdown",
   "metadata": {},
   "source": [
    "# Example how to run the ZOEE-Optimization\n",
    "\n",
    "This example uses the ZOEE EBM. Other models may be used but have to be inbound in ZOEE.modules.optimization first. The minimum requirements are described in this file, an the procedure how to execute it should follow the one shown here."
   ]
  },
  {
   "cell_type": "code",
   "execution_count": 9,
   "metadata": {},
   "outputs": [],
   "source": [
    "import matplotlib.pyplot as plt\n",
    "import numpy as np\n",
    "\n",
    "from ZOEE.modules.configuration import importer, add_sellersparameters, parameterinterpolatorstepwise\n",
    "from ZOEE.modules.variables import variable_importer, Vars, Base\n",
    "from ZOEE.modules.optimization import optimization, ZOEE_optimization\n",
    "#from ZOEE import update_plotstyle, moving_average\n",
    "\n",
    "#import matplotlib\n",
    "#update_plotstyle()\n",
    "#matplotlib.rcParams['lines.linewidth']=1.1"
   ]
  },
  {
   "cell_type": "code",
   "execution_count": 2,
   "metadata": {},
   "outputs": [],
   "source": [
    "\"\"\"Import the target data\"\"\"\n",
    "Lat_10,ZMT_10=np.loadtxt('ZOEE_transition/Data/ERA_ZMT_Mean_10deginterpolated.txt')\n",
    "#Lat_2,ZMT_2=np.loadtxt('Data/ERA_1950_2deg.txt',delimiter=',')"
   ]
  },
  {
   "cell_type": "code",
   "execution_count": 4,
   "metadata": {},
   "outputs": [
    {
     "name": "stdout",
     "output_type": "stream",
     "text": [
      "[235.81475255 242.94444048 264.73113716 275.31143981 281.91314779\n",
      " 289.09816102 293.76296837 296.39990492 297.81458706 298.01200483\n",
      " 298.15081337 295.1063719  287.63016463 281.43533073 274.61615838\n",
      " 266.03887047 259.56419747 257.26681506]\n"
     ]
    }
   ],
   "source": [
    "print(ZMT_10)"
   ]
  },
  {
   "cell_type": "code",
   "execution_count": 7,
   "metadata": {},
   "outputs": [
    {
     "name": "stdout",
     "output_type": "stream",
     "text": [
      "Loading Configuration from: ZOEE_transition/Data/Sellers.ini\n",
      "Starting controlrun with a temperature accuracy of 0.001 K on the GMT over 1000 datapoints.\n",
      "Loading Parameters from: ZOEE_transition/Data/SellersParameterization.ini\n"
     ]
    },
    {
     "ename": "NameError",
     "evalue": "name 'ZMT_10' is not defined",
     "output_type": "error",
     "traceback": [
      "\u001b[0;31m---------------------------------------------------------------------------\u001b[0m",
      "\u001b[0;31mNameError\u001b[0m                                 Traceback (most recent call last)",
      "\u001b[0;32m<ipython-input-7-8d37cf1bb566>\u001b[0m in \u001b[0;36m<module>\u001b[0;34m\u001b[0m\n\u001b[1;32m     11\u001b[0m \u001b[0mgrid\u001b[0m\u001b[0;34m=\u001b[0m\u001b[0mVars\u001b[0m\u001b[0;34m.\u001b[0m\u001b[0mLat\u001b[0m \u001b[0;31m# grid specifies the distribution of cells over latitudes, provide in ONLY 1D\u001b[0m\u001b[0;34m\u001b[0m\u001b[0;34m\u001b[0m\u001b[0m\n\u001b[1;32m     12\u001b[0m optimization_setup = optimization(mode='ZMT',\n\u001b[0;32m---> 13\u001b[0;31m                             \u001b[0mtarget\u001b[0m\u001b[0;34m=\u001b[0m\u001b[0mZMT_10\u001b[0m\u001b[0;34m,\u001b[0m\u001b[0;34m\u001b[0m\u001b[0;34m\u001b[0m\u001b[0m\n\u001b[0m\u001b[1;32m     14\u001b[0m                             \u001b[0mresponse\u001b[0m\u001b[0;34m=\u001b[0m\u001b[0;32mTrue\u001b[0m\u001b[0;34m,\u001b[0m\u001b[0;34m\u001b[0m\u001b[0;34m\u001b[0m\u001b[0m\n\u001b[1;32m     15\u001b[0m                             \u001b[0mnum_steps\u001b[0m\u001b[0;34m=\u001b[0m\u001b[0;36m10\u001b[0m\u001b[0;34m,\u001b[0m\u001b[0;34m\u001b[0m\u001b[0;34m\u001b[0m\u001b[0m\n",
      "\u001b[0;31mNameError\u001b[0m: name 'ZMT_10' is not defined"
     ]
    }
   ],
   "source": [
    "\"\"\"Import the configuration that is required to run your specific model\"\"\"\n",
    "config_base=importer('ZOEE_transition/Data/Sellers.ini')\n",
    "parallel_config = {'number_of_parameters': 2, 'number_of_cycles': 1,\n",
    "                                   'number_of_parallels': int(2 * 2 + 1)}\n",
    "variable_importer(config_base,initialZMT=False,parallel=True,parallel_config=parallel_config,control=True)\n",
    "config_base,ParasCTRL=add_sellersparameters(config_base,\\\n",
    "                                        parameterinterpolatorstepwise,'ZOEE_transition/Data/SellersParameterization.ini',2,0,True,True)\n",
    "\n",
    "\n",
    "\"\"\"Decleration of optimization configuration\"\"\"\n",
    "grid=Vars.Lat # grid specifies the distribution of cells over latitudes, provide in ONLY 1D\n",
    "optimization_setup = optimization(mode='ZMT',\n",
    "                            target=ZMT_10,\n",
    "                            response=True, \n",
    "                            num_steps=10,\n",
    "                            num_data=365*1000+1,\n",
    "                            gamma0=1e-8,\n",
    "                            cost_function_type='LeastSquare',\n",
    "                            cost_ratio=1,\n",
    "                            ZMT=ZMT_10,\n",
    "                            GMT=288.15,\n",
    "                            precision=0,\n",
    "                            grid=grid)\n",
    "\n",
    "\"\"\"Declaration of parameter setup, with initial parameters, parameter boundaries and \n",
    "the parameter pertubation to estimate the cost function gradient\"\"\"\n",
    "P0=np.array([0.5,1.9e-15])\n",
    "Pmin=np.array([0.45,1.425e-15])\n",
    "Pmax=np.array([0.65,2.375e-15])\n",
    "P_pert_ratio=1/10000\n",
    "optimization_setup.give_parameters(P0,Pmin,Pmax,P_pert_ratio)\n",
    "        \n",
    "    \n",
    "\"\"\"Import the class of your model that has to be defined in ZOEE.modules.optimization. And give it whatever \n",
    "configuration it requires\"\"\"\n",
    "parameter_labels=[['func1','m'],['func1','gamma']]\n",
    "parameter_levels=np.array([None,None])\n",
    "elevation=-0.0065*np.array(ParasCTRL[1][1])\n",
    "model = ZOEE_optimization(2,'ZMT',parameter_labels,parameter_levels,elevation,monthly=True)\n",
    "#model_setup=[2,'ZMT',parameter_labels,parameter_levels,elevation,True]\n",
    "\n",
    "\"\"\"Execture optimize to start the optimization, giving it your model imported in the step before and configuration\n",
    "required to run your model\"\"\"\n",
    "#F, dF, P, Ptrans , gamma, data=optimization_setup.optimize(model,config_base)"
   ]
  },
  {
   "cell_type": "code",
   "execution_count": null,
   "metadata": {},
   "outputs": [],
   "source": []
  }
 ],
 "metadata": {
  "kernelspec": {
   "display_name": "Python 3",
   "language": "python",
   "name": "python3"
  },
  "language_info": {
   "codemirror_mode": {
    "name": "ipython",
    "version": 3
   },
   "file_extension": ".py",
   "mimetype": "text/x-python",
   "name": "python",
   "nbconvert_exporter": "python",
   "pygments_lexer": "ipython3",
   "version": "3.7.5"
  }
 },
 "nbformat": 4,
 "nbformat_minor": 4
}
