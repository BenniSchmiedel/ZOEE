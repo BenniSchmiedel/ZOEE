{
 "cells": [
  {
   "cell_type": "code",
   "execution_count": 3,
   "metadata": {},
   "outputs": [],
   "source": [
    "import matplotlib.pyplot as plt\n",
    "import numpy as np\n",
    "from ZOEE.modules.configuration import importer, add_sellersparameters, parameterinterpolatorstepwise, overwrite_parameters\n",
    "from ZOEE.modules.variables import variable_importer, Vars, Base\n",
    "from ZOEE.modules.rk4 import rk4alg"
   ]
  },
  {
   "cell_type": "code",
   "execution_count": 8,
   "metadata": {},
   "outputs": [],
   "source": [
    "Pmin=np.array([1*4.2e6,170,1.3,0.9,0.9,0.9])\n",
    "Pmax=np.array([200*4.2e6,240,2.5,1.3,1.3,1.3])\n",
    "parameter_labels=[['eqparam','c_ao'],['func3','a'],['func3','b'],['func4','factor_oc'],['func4','factor_kwv'],['func4','factor_kair']]\n",
    "parameter_levels=np.array([None,None,None,None,None,None])\n",
    "num_params = 1\n",
    "num_parallels = 100\n",
    "\n",
    "Parameters=[]\n",
    "for i in range(6):\n",
    "    Parameters.append({'name':parameter_labels[i],\n",
    "                       'level':parameter_levels[i],\n",
    "                       'range': np.linspace(Pmin[i],Pmax[i],50)})"
   ]
  },
  {
   "cell_type": "markdown",
   "metadata": {},
   "source": [
    "# Parameter experiments - HadCM3 config"
   ]
  },
  {
   "cell_type": "code",
   "execution_count": 6,
   "metadata": {},
   "outputs": [
    {
     "name": "stdout",
     "output_type": "stream",
     "text": [
      "['', 'config/', '../config/', '../../config/', 'ZOEE/config/', '/home/benni/University/GMD_Paper/ZOEE_Package/ZOEE/tutorials/config/', '/home/benni/University/GMD_Paper/ZOEE_Package/ZOEE/config/', '/usr/lib/python37.zip/ZOEE/tutorials/config/', '/usr/lib/python37.zip/ZOEE/config/', '/usr/lib/python3.7/ZOEE/tutorials/config/', '/usr/lib/python3.7/ZOEE/config/', '/usr/lib/python3.7/lib-dynload/ZOEE/tutorials/config/', '/usr/lib/python3.7/lib-dynload/ZOEE/config/', '/ZOEE/tutorials/config/', '/ZOEE/config/', '/home/benni/.local/lib/python3.7/site-packages/ZOEE/tutorials/config/', '/home/benni/.local/lib/python3.7/site-packages/ZOEE/config/', '/usr/local/lib/python3.7/dist-packages/ZOEE/tutorials/config/', '/usr/local/lib/python3.7/dist-packages/ZOEE/config/', '/usr/local/lib/python3.7/dist-packages/xgcm-0.3.0-py3.7.egg/ZOEE/tutorials/config/', '/usr/local/lib/python3.7/dist-packages/xgcm-0.3.0-py3.7.egg/ZOEE/config/', '/usr/local/lib/python3.7/dist-packages/dask-2.14.0-py3.7.egg/ZOEE/tutorials/config/', '/usr/local/lib/python3.7/dist-packages/dask-2.14.0-py3.7.egg/ZOEE/config/', '/usr/local/lib/python3.7/dist-packages/future-0.18.2-py3.7.egg/ZOEE/tutorials/config/', '/usr/local/lib/python3.7/dist-packages/future-0.18.2-py3.7.egg/ZOEE/config/', '/usr/local/lib/python3.7/dist-packages/docrep-0.2.7-py3.7.egg/ZOEE/tutorials/config/', '/usr/local/lib/python3.7/dist-packages/docrep-0.2.7-py3.7.egg/ZOEE/config/', '/usr/local/lib/python3.7/dist-packages/setuptools-46.1.3-py3.7.egg/ZOEE/tutorials/config/', '/usr/local/lib/python3.7/dist-packages/setuptools-46.1.3-py3.7.egg/ZOEE/config/', '/usr/local/lib/python3.7/dist-packages/pandas-1.0.3-py3.7-linux-x86_64.egg/ZOEE/tutorials/config/', '/usr/local/lib/python3.7/dist-packages/pandas-1.0.3-py3.7-linux-x86_64.egg/ZOEE/config/', '/usr/local/lib/python3.7/dist-packages/python_dateutil-2.8.1-py3.7.egg/ZOEE/tutorials/config/', '/usr/local/lib/python3.7/dist-packages/python_dateutil-2.8.1-py3.7.egg/ZOEE/config/', '/home/benni/University/Master/xbasin_diagnostics/xbasin/ZOEE/tutorials/config/', '/home/benni/University/Master/xbasin_diagnostics/xbasin/ZOEE/config/', '/usr/local/lib/python3.7/dist-packages/qualname-0.1.0-py3.7.egg/ZOEE/tutorials/config/', '/usr/local/lib/python3.7/dist-packages/qualname-0.1.0-py3.7.egg/ZOEE/config/', '/usr/local/lib/python3.7/dist-packages/tqdm-4.50.0-py3.7.egg/ZOEE/tutorials/config/', '/usr/local/lib/python3.7/dist-packages/tqdm-4.50.0-py3.7.egg/ZOEE/config/', '/usr/local/lib/python3.7/dist-packages/netCDF4-1.5.4-py3.7-linux-x86_64.egg/ZOEE/tutorials/config/', '/usr/local/lib/python3.7/dist-packages/netCDF4-1.5.4-py3.7-linux-x86_64.egg/ZOEE/config/', '/usr/local/lib/python3.7/dist-packages/matplotlib-3.3.2-py3.7-linux-x86_64.egg/ZOEE/tutorials/config/', '/usr/local/lib/python3.7/dist-packages/matplotlib-3.3.2-py3.7-linux-x86_64.egg/ZOEE/config/', '/usr/local/lib/python3.7/dist-packages/pyparsing-3.0.0a2-py3.7.egg/ZOEE/tutorials/config/', '/usr/local/lib/python3.7/dist-packages/pyparsing-3.0.0a2-py3.7.egg/ZOEE/config/', '/usr/local/lib/python3.7/dist-packages/Pillow-7.2.0-py3.7-linux-x86_64.egg/ZOEE/tutorials/config/', '/usr/local/lib/python3.7/dist-packages/Pillow-7.2.0-py3.7-linux-x86_64.egg/ZOEE/config/', '/usr/local/lib/python3.7/dist-packages/kiwisolver-1.2.0-py3.7-linux-x86_64.egg/ZOEE/tutorials/config/', '/usr/local/lib/python3.7/dist-packages/kiwisolver-1.2.0-py3.7-linux-x86_64.egg/ZOEE/config/', '/usr/local/lib/python3.7/dist-packages/cycler-0.10.0-py3.7.egg/ZOEE/tutorials/config/', '/usr/local/lib/python3.7/dist-packages/cycler-0.10.0-py3.7.egg/ZOEE/config/', '/usr/local/lib/python3.7/dist-packages/certifi-2020.6.20-py3.7.egg/ZOEE/tutorials/config/', '/usr/local/lib/python3.7/dist-packages/certifi-2020.6.20-py3.7.egg/ZOEE/config/', '/usr/local/lib/python3.7/dist-packages/ZOEE-0.1-py3.7.egg/ZOEE/tutorials/config/', '/usr/local/lib/python3.7/dist-packages/ZOEE-0.1-py3.7.egg/ZOEE/config/', '/usr/lib/python3/dist-packages/ZOEE/tutorials/config/', '/usr/lib/python3/dist-packages/ZOEE/config/', '/home/benni/.local/lib/python3.7/site-packages/IPython/extensions/ZOEE/tutorials/config/', '/home/benni/.local/lib/python3.7/site-packages/IPython/extensions/ZOEE/config/', '/home/benni/.ipython/ZOEE/tutorials/config/', '/home/benni/.ipython/ZOEE/config/']\n",
      "Loading Configuration from: Experiments/HadCM3/Config_HadCM3.ini\n",
      "Loading Parameters from: ZOEE/config/SellersParameterization.ini\n"
     ]
    }
   ],
   "source": [
    "config_HadCM3 = importer('Experiments/HadCM3/Config_HadCM3.ini')\n",
    "parallel_config = {'number_of_parameters': 1, 'number_of_cycles': 1, 'number_of_parallels': 50}\n",
    "variable_importer(config_HadCM3, initialZMT=True, parallel=True, parallel_config=parallel_config)\n",
    "config_HadCM3, Sellers = add_sellersparameters(config_HadCM3, parameterinterpolatorstepwise,\n",
    "                                               'ZOEE/config/SellersParameterization.ini', 4, 2, True, True)\n",
    "elevation = -0.0065 * np.array(Sellers[1][1])"
   ]
  },
  {
   "cell_type": "code",
   "execution_count": 9,
   "metadata": {},
   "outputs": [
    {
     "name": "stdout",
     "output_type": "stream",
     "text": [
      "---------- HadCM3 Parameter 0 -----------\n",
      "Starting controlrun with a temperature accuracy of 0.001 K on the GMT over 1000 datapoints.\n"
     ]
    },
    {
     "ename": "KeyboardInterrupt",
     "evalue": "",
     "output_type": "error",
     "traceback": [
      "\u001b[0;31m---------------------------------------------------------------------------\u001b[0m",
      "\u001b[0;31mAttributeError\u001b[0m                            Traceback (most recent call last)",
      "\u001b[0;32m~/.local/lib/python3.7/site-packages/numpy/core/fromnumeric.py\u001b[0m in \u001b[0;36mshape\u001b[0;34m(a)\u001b[0m\n\u001b[1;32m   1942\u001b[0m     \u001b[0;32mtry\u001b[0m\u001b[0;34m:\u001b[0m\u001b[0;34m\u001b[0m\u001b[0;34m\u001b[0m\u001b[0m\n\u001b[0;32m-> 1943\u001b[0;31m         \u001b[0mresult\u001b[0m \u001b[0;34m=\u001b[0m \u001b[0ma\u001b[0m\u001b[0;34m.\u001b[0m\u001b[0mshape\u001b[0m\u001b[0;34m\u001b[0m\u001b[0;34m\u001b[0m\u001b[0m\n\u001b[0m\u001b[1;32m   1944\u001b[0m     \u001b[0;32mexcept\u001b[0m \u001b[0mAttributeError\u001b[0m\u001b[0;34m:\u001b[0m\u001b[0;34m\u001b[0m\u001b[0;34m\u001b[0m\u001b[0m\n",
      "\u001b[0;31mAttributeError\u001b[0m: 'float' object has no attribute 'shape'",
      "\nDuring handling of the above exception, another exception occurred:\n",
      "\u001b[0;31mKeyboardInterrupt\u001b[0m                         Traceback (most recent call last)",
      "\u001b[0;32m<ipython-input-9-d9e8b785c782>\u001b[0m in \u001b[0;36m<module>\u001b[0;34m\u001b[0m\n\u001b[1;32m     10\u001b[0m \u001b[0;34m\u001b[0m\u001b[0m\n\u001b[1;32m     11\u001b[0m     \u001b[0mvariable_importer\u001b[0m\u001b[0;34m(\u001b[0m\u001b[0mconfig_overwrite\u001b[0m\u001b[0;34m,\u001b[0m \u001b[0minitialZMT\u001b[0m\u001b[0;34m=\u001b[0m\u001b[0;32mTrue\u001b[0m\u001b[0;34m,\u001b[0m \u001b[0mparallel\u001b[0m\u001b[0;34m=\u001b[0m\u001b[0;32mTrue\u001b[0m\u001b[0;34m,\u001b[0m \u001b[0mparallel_config\u001b[0m\u001b[0;34m=\u001b[0m\u001b[0mparallel_config\u001b[0m\u001b[0;34m,\u001b[0m \u001b[0mcontrol\u001b[0m\u001b[0;34m=\u001b[0m\u001b[0;32mTrue\u001b[0m\u001b[0;34m)\u001b[0m\u001b[0;34m\u001b[0m\u001b[0;34m\u001b[0m\u001b[0m\n\u001b[0;32m---> 12\u001b[0;31m     \u001b[0mCTRL\u001b[0m \u001b[0;34m=\u001b[0m \u001b[0mrk4alg\u001b[0m\u001b[0;34m(\u001b[0m\u001b[0mconfig_overwrite\u001b[0m\u001b[0;34m,\u001b[0m \u001b[0mprogressbar\u001b[0m\u001b[0;34m=\u001b[0m\u001b[0;32mFalse\u001b[0m\u001b[0;34m,\u001b[0m \u001b[0mmonthly\u001b[0m\u001b[0;34m=\u001b[0m\u001b[0;32mTrue\u001b[0m\u001b[0;34m)\u001b[0m\u001b[0;34m\u001b[0m\u001b[0;34m\u001b[0m\u001b[0m\n\u001b[0m\u001b[1;32m     13\u001b[0m \u001b[0;34m\u001b[0m\u001b[0m\n\u001b[1;32m     14\u001b[0m     \u001b[0mvariable_importer\u001b[0m\u001b[0;34m(\u001b[0m\u001b[0mconfig_overwrite\u001b[0m\u001b[0;34m,\u001b[0m \u001b[0minitialZMT\u001b[0m\u001b[0;34m=\u001b[0m\u001b[0;32mFalse\u001b[0m\u001b[0;34m,\u001b[0m \u001b[0mparallel\u001b[0m\u001b[0;34m=\u001b[0m\u001b[0;32mTrue\u001b[0m\u001b[0;34m,\u001b[0m \u001b[0mparallel_config\u001b[0m\u001b[0;34m=\u001b[0m\u001b[0mparallel_config\u001b[0m\u001b[0;34m,\u001b[0m \u001b[0mcontrol\u001b[0m\u001b[0;34m=\u001b[0m\u001b[0;32mFalse\u001b[0m\u001b[0;34m)\u001b[0m\u001b[0;34m\u001b[0m\u001b[0;34m\u001b[0m\u001b[0m\n",
      "\u001b[0;32m~/University/GMD_Paper/ZOEE_Package/ZOEE/modules/rk4.py\u001b[0m in \u001b[0;36mrk4alg\u001b[0;34m(config, progressbar, monthly)\u001b[0m\n\u001b[1;32m    199\u001b[0m         \u001b[0mBase\u001b[0m\u001b[0;34m.\u001b[0m\u001b[0mRuntime_Tracker\u001b[0m \u001b[0;34m+=\u001b[0m \u001b[0;36m1\u001b[0m\u001b[0;34m\u001b[0m\u001b[0;34m\u001b[0m\u001b[0m\n\u001b[1;32m    200\u001b[0m         \u001b[0mVars\u001b[0m\u001b[0;34m.\u001b[0m\u001b[0mT\u001b[0m \u001b[0;34m=\u001b[0m \u001b[0mT0\u001b[0m \u001b[0;34m+\u001b[0m \u001b[0;36m0.5\u001b[0m \u001b[0;34m*\u001b[0m \u001b[0mk1\u001b[0m\u001b[0;34m\u001b[0m\u001b[0;34m\u001b[0m\u001b[0m\n\u001b[0;32m--> 201\u001b[0;31m         \u001b[0mk2\u001b[0m \u001b[0;34m=\u001b[0m \u001b[0mh\u001b[0m \u001b[0;34m*\u001b[0m \u001b[0mmodel_equation\u001b[0m\u001b[0;34m(\u001b[0m\u001b[0meqparam\u001b[0m\u001b[0;34m,\u001b[0m \u001b[0mfunccomp\u001b[0m\u001b[0;34m)\u001b[0m\u001b[0;34m\u001b[0m\u001b[0;34m\u001b[0m\u001b[0m\n\u001b[0m\u001b[1;32m    202\u001b[0m         \u001b[0mBase\u001b[0m\u001b[0;34m.\u001b[0m\u001b[0mRuntime_Tracker\u001b[0m \u001b[0;34m+=\u001b[0m \u001b[0;36m1\u001b[0m\u001b[0;34m\u001b[0m\u001b[0;34m\u001b[0m\u001b[0m\n\u001b[1;32m    203\u001b[0m         \u001b[0mVars\u001b[0m\u001b[0;34m.\u001b[0m\u001b[0mT\u001b[0m \u001b[0;34m=\u001b[0m \u001b[0mT0\u001b[0m \u001b[0;34m+\u001b[0m \u001b[0;36m0.5\u001b[0m \u001b[0;34m*\u001b[0m \u001b[0mk2\u001b[0m\u001b[0;34m\u001b[0m\u001b[0;34m\u001b[0m\u001b[0m\n",
      "\u001b[0;32m~/University/GMD_Paper/ZOEE_Package/ZOEE/modules/model.py\u001b[0m in \u001b[0;36mmodel_equation\u001b[0;34m(eqparam, funccomp)\u001b[0m\n\u001b[1;32m     54\u001b[0m                 \u001b[0;32mpass\u001b[0m\u001b[0;34m\u001b[0m\u001b[0;34m\u001b[0m\u001b[0m\n\u001b[1;32m     55\u001b[0m             \u001b[0;32melse\u001b[0m\u001b[0;34m:\u001b[0m\u001b[0;34m\u001b[0m\u001b[0;34m\u001b[0m\u001b[0m\n\u001b[0;32m---> 56\u001b[0;31m                 \u001b[0my\u001b[0m \u001b[0;34m+=\u001b[0m \u001b[0mfunclist\u001b[0m\u001b[0;34m[\u001b[0m\u001b[0mfuncnum\u001b[0m\u001b[0;34m]\u001b[0m\u001b[0;34m(\u001b[0m\u001b[0mfuncparam\u001b[0m\u001b[0;34m[\u001b[0m\u001b[0mfuncnum\u001b[0m\u001b[0;34m]\u001b[0m\u001b[0;34m)\u001b[0m    \u001b[0;31m#Calling the selected function and sum them up\u001b[0m\u001b[0;34m\u001b[0m\u001b[0;34m\u001b[0m\u001b[0m\n\u001b[0m\u001b[1;32m     57\u001b[0m         \u001b[0;32melse\u001b[0m\u001b[0;34m:\u001b[0m\u001b[0;34m\u001b[0m\u001b[0;34m\u001b[0m\u001b[0m\n\u001b[1;32m     58\u001b[0m             \u001b[0my\u001b[0m \u001b[0;34m+=\u001b[0m \u001b[0mfunclist\u001b[0m\u001b[0;34m[\u001b[0m\u001b[0mfuncnum\u001b[0m\u001b[0;34m]\u001b[0m\u001b[0;34m(\u001b[0m\u001b[0mfuncparam\u001b[0m\u001b[0;34m[\u001b[0m\u001b[0mfuncnum\u001b[0m\u001b[0;34m]\u001b[0m\u001b[0;34m)\u001b[0m    \u001b[0;31m#Calling the selected function and sum them up\u001b[0m\u001b[0;34m\u001b[0m\u001b[0;34m\u001b[0m\u001b[0m\n",
      "\u001b[0;32m~/University/GMD_Paper/ZOEE_Package/ZOEE/modules/functions.py\u001b[0m in \u001b[0;36msellers\u001b[0;34m(self, funcparam)\u001b[0m\n\u001b[1;32m   1077\u001b[0m             \u001b[0mK_wv\u001b[0m\u001b[0;34m,\u001b[0m \u001b[0mK_h\u001b[0m\u001b[0;34m,\u001b[0m \u001b[0mK_o\u001b[0m\u001b[0;34m,\u001b[0m \u001b[0mg\u001b[0m\u001b[0;34m,\u001b[0m \u001b[0ma\u001b[0m\u001b[0;34m,\u001b[0m \u001b[0meps\u001b[0m\u001b[0;34m,\u001b[0m \u001b[0mp\u001b[0m\u001b[0;34m,\u001b[0m \u001b[0me0\u001b[0m\u001b[0;34m,\u001b[0m \u001b[0mL\u001b[0m\u001b[0;34m,\u001b[0m \u001b[0mRd\u001b[0m\u001b[0;34m,\u001b[0m \u001b[0mdy\u001b[0m\u001b[0;34m,\u001b[0m \u001b[0mdp\u001b[0m\u001b[0;34m,\u001b[0m \u001b[0mcp\u001b[0m\u001b[0;34m,\u001b[0m \u001b[0mdz\u001b[0m\u001b[0;34m,\u001b[0m \u001b[0ml_cover\u001b[0m\u001b[0;34m,\u001b[0m \u001b[0mre\u001b[0m\u001b[0;34m,\u001b[0m \u001b[0mcp_w\u001b[0m\u001b[0;34m,\u001b[0m \u001b[0mdens_w\u001b[0m\u001b[0;34m,\u001b[0m \u001b[0mfactor_wv\u001b[0m\u001b[0;34m,\u001b[0m \u001b[0mfactor_air\u001b[0m\u001b[0;34m,\u001b[0m \u001b[0mfactor_oc\u001b[0m\u001b[0;34m,\u001b[0m \u001b[0mfactor_kwv\u001b[0m\u001b[0;34m,\u001b[0m \u001b[0mfactor_kair\u001b[0m \u001b[0;34m=\u001b[0m\u001b[0;31m \u001b[0m\u001b[0;31m\\\u001b[0m\u001b[0;34m\u001b[0m\u001b[0;34m\u001b[0m\u001b[0m\n\u001b[1;32m   1078\u001b[0m                 [np.transpose(np.array([paras[i]] * len(Vars.Lat2))) if np.shape(paras[i]) == (\n\u001b[0;32m-> 1079\u001b[0;31m                     Base.number_of_parallels,) else paras[i] for i in range(len(paras))]\n\u001b[0m\u001b[1;32m   1080\u001b[0m \u001b[0;34m\u001b[0m\u001b[0m\n\u001b[1;32m   1081\u001b[0m         \u001b[0;32mif\u001b[0m \u001b[0mActivated\u001b[0m \u001b[0;34m==\u001b[0m \u001b[0;32mTrue\u001b[0m\u001b[0;34m:\u001b[0m\u001b[0;34m\u001b[0m\u001b[0;34m\u001b[0m\u001b[0m\n",
      "\u001b[0;32m~/University/GMD_Paper/ZOEE_Package/ZOEE/modules/functions.py\u001b[0m in \u001b[0;36m<listcomp>\u001b[0;34m(.0)\u001b[0m\n\u001b[1;32m   1077\u001b[0m             \u001b[0mK_wv\u001b[0m\u001b[0;34m,\u001b[0m \u001b[0mK_h\u001b[0m\u001b[0;34m,\u001b[0m \u001b[0mK_o\u001b[0m\u001b[0;34m,\u001b[0m \u001b[0mg\u001b[0m\u001b[0;34m,\u001b[0m \u001b[0ma\u001b[0m\u001b[0;34m,\u001b[0m \u001b[0meps\u001b[0m\u001b[0;34m,\u001b[0m \u001b[0mp\u001b[0m\u001b[0;34m,\u001b[0m \u001b[0me0\u001b[0m\u001b[0;34m,\u001b[0m \u001b[0mL\u001b[0m\u001b[0;34m,\u001b[0m \u001b[0mRd\u001b[0m\u001b[0;34m,\u001b[0m \u001b[0mdy\u001b[0m\u001b[0;34m,\u001b[0m \u001b[0mdp\u001b[0m\u001b[0;34m,\u001b[0m \u001b[0mcp\u001b[0m\u001b[0;34m,\u001b[0m \u001b[0mdz\u001b[0m\u001b[0;34m,\u001b[0m \u001b[0ml_cover\u001b[0m\u001b[0;34m,\u001b[0m \u001b[0mre\u001b[0m\u001b[0;34m,\u001b[0m \u001b[0mcp_w\u001b[0m\u001b[0;34m,\u001b[0m \u001b[0mdens_w\u001b[0m\u001b[0;34m,\u001b[0m \u001b[0mfactor_wv\u001b[0m\u001b[0;34m,\u001b[0m \u001b[0mfactor_air\u001b[0m\u001b[0;34m,\u001b[0m \u001b[0mfactor_oc\u001b[0m\u001b[0;34m,\u001b[0m \u001b[0mfactor_kwv\u001b[0m\u001b[0;34m,\u001b[0m \u001b[0mfactor_kair\u001b[0m \u001b[0;34m=\u001b[0m\u001b[0;31m \u001b[0m\u001b[0;31m\\\u001b[0m\u001b[0;34m\u001b[0m\u001b[0;34m\u001b[0m\u001b[0m\n\u001b[1;32m   1078\u001b[0m                 [np.transpose(np.array([paras[i]] * len(Vars.Lat2))) if np.shape(paras[i]) == (\n\u001b[0;32m-> 1079\u001b[0;31m                     Base.number_of_parallels,) else paras[i] for i in range(len(paras))]\n\u001b[0m\u001b[1;32m   1080\u001b[0m \u001b[0;34m\u001b[0m\u001b[0m\n\u001b[1;32m   1081\u001b[0m         \u001b[0;32mif\u001b[0m \u001b[0mActivated\u001b[0m \u001b[0;34m==\u001b[0m \u001b[0;32mTrue\u001b[0m\u001b[0;34m:\u001b[0m\u001b[0;34m\u001b[0m\u001b[0;34m\u001b[0m\u001b[0m\n",
      "\u001b[0;32m<__array_function__ internals>\u001b[0m in \u001b[0;36mshape\u001b[0;34m(*args, **kwargs)\u001b[0m\n",
      "\u001b[0;32m~/.local/lib/python3.7/site-packages/numpy/core/fromnumeric.py\u001b[0m in \u001b[0;36mshape\u001b[0;34m(a)\u001b[0m\n\u001b[1;32m   1943\u001b[0m         \u001b[0mresult\u001b[0m \u001b[0;34m=\u001b[0m \u001b[0ma\u001b[0m\u001b[0;34m.\u001b[0m\u001b[0mshape\u001b[0m\u001b[0;34m\u001b[0m\u001b[0;34m\u001b[0m\u001b[0m\n\u001b[1;32m   1944\u001b[0m     \u001b[0;32mexcept\u001b[0m \u001b[0mAttributeError\u001b[0m\u001b[0;34m:\u001b[0m\u001b[0;34m\u001b[0m\u001b[0;34m\u001b[0m\u001b[0m\n\u001b[0;32m-> 1945\u001b[0;31m         \u001b[0mresult\u001b[0m \u001b[0;34m=\u001b[0m \u001b[0masarray\u001b[0m\u001b[0;34m(\u001b[0m\u001b[0ma\u001b[0m\u001b[0;34m)\u001b[0m\u001b[0;34m.\u001b[0m\u001b[0mshape\u001b[0m\u001b[0;34m\u001b[0m\u001b[0;34m\u001b[0m\u001b[0m\n\u001b[0m\u001b[1;32m   1946\u001b[0m     \u001b[0;32mreturn\u001b[0m \u001b[0mresult\u001b[0m\u001b[0;34m\u001b[0m\u001b[0;34m\u001b[0m\u001b[0m\n\u001b[1;32m   1947\u001b[0m \u001b[0;34m\u001b[0m\u001b[0m\n",
      "\u001b[0;32m~/.local/lib/python3.7/site-packages/numpy/core/_asarray.py\u001b[0m in \u001b[0;36masarray\u001b[0;34m(a, dtype, order)\u001b[0m\n\u001b[1;32m     83\u001b[0m \u001b[0;34m\u001b[0m\u001b[0m\n\u001b[1;32m     84\u001b[0m     \"\"\"\n\u001b[0;32m---> 85\u001b[0;31m     \u001b[0;32mreturn\u001b[0m \u001b[0marray\u001b[0m\u001b[0;34m(\u001b[0m\u001b[0ma\u001b[0m\u001b[0;34m,\u001b[0m \u001b[0mdtype\u001b[0m\u001b[0;34m,\u001b[0m \u001b[0mcopy\u001b[0m\u001b[0;34m=\u001b[0m\u001b[0;32mFalse\u001b[0m\u001b[0;34m,\u001b[0m \u001b[0morder\u001b[0m\u001b[0;34m=\u001b[0m\u001b[0morder\u001b[0m\u001b[0;34m)\u001b[0m\u001b[0;34m\u001b[0m\u001b[0;34m\u001b[0m\u001b[0m\n\u001b[0m\u001b[1;32m     86\u001b[0m \u001b[0;34m\u001b[0m\u001b[0m\n\u001b[1;32m     87\u001b[0m \u001b[0;34m\u001b[0m\u001b[0m\n",
      "\u001b[0;31mKeyboardInterrupt\u001b[0m: "
     ]
    }
   ],
   "source": [
    "for i in range(6):\n",
    "    print('---------- HadCM3 Parameter ' + str(i) + ' -----------')\n",
    "    # ZOEE = ZOEE_optimization(1, Parameters[i]['name'], Parameters[i]['level'], True, elevation)\n",
    "    config_overwrite = overwrite_parameters(config_HadCM3, Parameters[i]['range'], num_params, parameter_labels,\n",
    "                                            parameter_levels)\n",
    "\n",
    "    if config_HadCM3['eqparam']['c_ao'] is float:\n",
    "        raise Exception('Config overwrite acts recursively. Outdated version of ZOEE.modules.optimization is called.')\n",
    "    # config_addparameters=add_parameters(config_addsellers,parameter_values,parameter_labels)\n",
    "\n",
    "    variable_importer(config_overwrite, initialZMT=True, parallel=True, parallel_config=parallel_config, control=True)\n",
    "    CTRL = rk4alg(config_overwrite, progressbar=False, monthly=True)\n",
    "\n",
    "    variable_importer(config_overwrite, initialZMT=False, parallel=True, parallel_config=parallel_config, control=False)\n",
    "    Vars.T = CTRL[1][-1]\n",
    "    FULL = rk4alg(config_overwrite, progressbar=False, monthly=True)\n",
    "\n",
    "    np.savetxt('Experiments/Output/Parametertest_HadCM3_' + str(i) + '.txt',\n",
    "               [Parameters[i]['range'], *np.transpose(CTRL[1][-1]), *FULL[2]],\n",
    "               delimiter=',')\n",
    "print('HadCM3 - Finished. Next: CESM')"
   ]
  },
  {
   "cell_type": "markdown",
   "metadata": {},
   "source": [
    "# Parameter experiments - CESM config"
   ]
  },
  {
   "cell_type": "code",
   "execution_count": 51,
   "metadata": {},
   "outputs": [
    {
     "name": "stdout",
     "output_type": "stream",
     "text": [
      "Loading Configuration from: Experiments/CESM/Config_CESM.ini\n",
      "Loading Parameters from: ZOEE/config/SellersParameterization.ini\n"
     ]
    }
   ],
   "source": [
    "config_CESM = importer('Experiments/CESM/Config_CESM.ini')\n",
    "parallel_config = {'number_of_parameters': 1, 'number_of_cycles': 1, 'number_of_parallels': 50}\n",
    "variable_importer(config_CESM, initialZMT=True, parallel=True, parallel_config=parallel_config)\n",
    "config_CESM, Sellers = add_sellersparameters(config_CESM, parameterinterpolatorstepwise,\n",
    "                                             'ZOEE/config/SellersParameterization.ini', 4, 2, True, True)\n",
    "elevation = -0.0065 * np.array(Sellers[1][1])"
   ]
  },
  {
   "cell_type": "code",
   "execution_count": 52,
   "metadata": {},
   "outputs": [
    {
     "name": "stdout",
     "output_type": "stream",
     "text": [
      "---------- CESM Parameter 0 -----------\n",
      "Starting controlrun with a temperature accuracy of 0.001 K on the GMT over 1000 datapoints.\n"
     ]
    },
    {
     "ename": "KeyboardInterrupt",
     "evalue": "",
     "output_type": "error",
     "traceback": [
      "\u001b[0;31m---------------------------------------------------------------------------\u001b[0m",
      "\u001b[0;31mKeyboardInterrupt\u001b[0m                         Traceback (most recent call last)",
      "\u001b[0;32m<ipython-input-52-8808b7498418>\u001b[0m in \u001b[0;36m<module>\u001b[0;34m\u001b[0m\n\u001b[1;32m      8\u001b[0m \u001b[0;34m\u001b[0m\u001b[0m\n\u001b[1;32m      9\u001b[0m     \u001b[0mvariable_importer\u001b[0m\u001b[0;34m(\u001b[0m\u001b[0mconfig_overwrite\u001b[0m\u001b[0;34m,\u001b[0m \u001b[0minitialZMT\u001b[0m\u001b[0;34m=\u001b[0m\u001b[0;32mTrue\u001b[0m\u001b[0;34m,\u001b[0m \u001b[0mparallel\u001b[0m\u001b[0;34m=\u001b[0m\u001b[0;32mTrue\u001b[0m\u001b[0;34m,\u001b[0m \u001b[0mparallel_config\u001b[0m\u001b[0;34m=\u001b[0m\u001b[0mparallel_config\u001b[0m\u001b[0;34m,\u001b[0m \u001b[0mcontrol\u001b[0m\u001b[0;34m=\u001b[0m\u001b[0;32mTrue\u001b[0m\u001b[0;34m)\u001b[0m\u001b[0;34m\u001b[0m\u001b[0;34m\u001b[0m\u001b[0m\n\u001b[0;32m---> 10\u001b[0;31m     \u001b[0mCTRL\u001b[0m \u001b[0;34m=\u001b[0m \u001b[0mrk4alg\u001b[0m\u001b[0;34m(\u001b[0m\u001b[0mconfig_overwrite\u001b[0m\u001b[0;34m,\u001b[0m \u001b[0mprogressbar\u001b[0m\u001b[0;34m=\u001b[0m\u001b[0;32mFalse\u001b[0m\u001b[0;34m,\u001b[0m\u001b[0mmonthly\u001b[0m\u001b[0;34m=\u001b[0m\u001b[0;32mTrue\u001b[0m\u001b[0;34m)\u001b[0m\u001b[0;34m\u001b[0m\u001b[0;34m\u001b[0m\u001b[0m\n\u001b[0m\u001b[1;32m     11\u001b[0m \u001b[0;34m\u001b[0m\u001b[0m\n\u001b[1;32m     12\u001b[0m     \u001b[0mvariable_importer\u001b[0m\u001b[0;34m(\u001b[0m\u001b[0mconfig_overwrite\u001b[0m\u001b[0;34m,\u001b[0m \u001b[0minitialZMT\u001b[0m\u001b[0;34m=\u001b[0m\u001b[0;32mFalse\u001b[0m\u001b[0;34m,\u001b[0m \u001b[0mparallel\u001b[0m\u001b[0;34m=\u001b[0m\u001b[0;32mTrue\u001b[0m\u001b[0;34m,\u001b[0m \u001b[0mparallel_config\u001b[0m\u001b[0;34m=\u001b[0m\u001b[0mparallel_config\u001b[0m\u001b[0;34m,\u001b[0m \u001b[0mcontrol\u001b[0m\u001b[0;34m=\u001b[0m\u001b[0;32mFalse\u001b[0m\u001b[0;34m)\u001b[0m\u001b[0;34m\u001b[0m\u001b[0;34m\u001b[0m\u001b[0m\n",
      "\u001b[0;32m~/University/GMD_Paper/ZOEE_Package/ZOEE/modules/rk4.py\u001b[0m in \u001b[0;36mrk4alg\u001b[0;34m(config, progressbar, monthly)\u001b[0m\n\u001b[1;32m    196\u001b[0m         \u001b[0;31m# Calculating increments at 4 positions from the model equation (func)\u001b[0m\u001b[0;34m\u001b[0m\u001b[0;34m\u001b[0m\u001b[0;34m\u001b[0m\u001b[0m\n\u001b[1;32m    197\u001b[0m         \u001b[0mT0\u001b[0m \u001b[0;34m=\u001b[0m \u001b[0mVars\u001b[0m\u001b[0;34m.\u001b[0m\u001b[0mT\u001b[0m\u001b[0;34m\u001b[0m\u001b[0;34m\u001b[0m\u001b[0m\n\u001b[0;32m--> 198\u001b[0;31m         \u001b[0mk1\u001b[0m \u001b[0;34m=\u001b[0m \u001b[0mh\u001b[0m \u001b[0;34m*\u001b[0m \u001b[0mmodel_equation\u001b[0m\u001b[0;34m(\u001b[0m\u001b[0meqparam\u001b[0m\u001b[0;34m,\u001b[0m \u001b[0mfunccomp\u001b[0m\u001b[0;34m)\u001b[0m\u001b[0;34m\u001b[0m\u001b[0;34m\u001b[0m\u001b[0m\n\u001b[0m\u001b[1;32m    199\u001b[0m         \u001b[0mBase\u001b[0m\u001b[0;34m.\u001b[0m\u001b[0mRuntime_Tracker\u001b[0m \u001b[0;34m+=\u001b[0m \u001b[0;36m1\u001b[0m\u001b[0;34m\u001b[0m\u001b[0;34m\u001b[0m\u001b[0m\n\u001b[1;32m    200\u001b[0m         \u001b[0mVars\u001b[0m\u001b[0;34m.\u001b[0m\u001b[0mT\u001b[0m \u001b[0;34m=\u001b[0m \u001b[0mT0\u001b[0m \u001b[0;34m+\u001b[0m \u001b[0;36m0.5\u001b[0m \u001b[0;34m*\u001b[0m \u001b[0mk1\u001b[0m\u001b[0;34m\u001b[0m\u001b[0;34m\u001b[0m\u001b[0m\n",
      "\u001b[0;32m~/University/GMD_Paper/ZOEE_Package/ZOEE/modules/model.py\u001b[0m in \u001b[0;36mmodel_equation\u001b[0;34m(eqparam, funccomp)\u001b[0m\n\u001b[1;32m     54\u001b[0m                 \u001b[0;32mpass\u001b[0m\u001b[0;34m\u001b[0m\u001b[0;34m\u001b[0m\u001b[0m\n\u001b[1;32m     55\u001b[0m             \u001b[0;32melse\u001b[0m\u001b[0;34m:\u001b[0m\u001b[0;34m\u001b[0m\u001b[0;34m\u001b[0m\u001b[0m\n\u001b[0;32m---> 56\u001b[0;31m                 \u001b[0my\u001b[0m \u001b[0;34m+=\u001b[0m \u001b[0mfunclist\u001b[0m\u001b[0;34m[\u001b[0m\u001b[0mfuncnum\u001b[0m\u001b[0;34m]\u001b[0m\u001b[0;34m(\u001b[0m\u001b[0mfuncparam\u001b[0m\u001b[0;34m[\u001b[0m\u001b[0mfuncnum\u001b[0m\u001b[0;34m]\u001b[0m\u001b[0;34m)\u001b[0m    \u001b[0;31m#Calling the selected function and sum them up\u001b[0m\u001b[0;34m\u001b[0m\u001b[0;34m\u001b[0m\u001b[0m\n\u001b[0m\u001b[1;32m     57\u001b[0m         \u001b[0;32melse\u001b[0m\u001b[0;34m:\u001b[0m\u001b[0;34m\u001b[0m\u001b[0;34m\u001b[0m\u001b[0m\n\u001b[1;32m     58\u001b[0m             \u001b[0my\u001b[0m \u001b[0;34m+=\u001b[0m \u001b[0mfunclist\u001b[0m\u001b[0;34m[\u001b[0m\u001b[0mfuncnum\u001b[0m\u001b[0;34m]\u001b[0m\u001b[0;34m(\u001b[0m\u001b[0mfuncparam\u001b[0m\u001b[0;34m[\u001b[0m\u001b[0mfuncnum\u001b[0m\u001b[0;34m]\u001b[0m\u001b[0;34m)\u001b[0m    \u001b[0;31m#Calling the selected function and sum them up\u001b[0m\u001b[0;34m\u001b[0m\u001b[0;34m\u001b[0m\u001b[0m\n",
      "\u001b[0;32m~/University/GMD_Paper/ZOEE_Package/ZOEE/modules/functions.py\u001b[0m in \u001b[0;36minsolation\u001b[0;34m(self, funcparam)\u001b[0m\n\u001b[1;32m    254\u001b[0m \u001b[0;34m\u001b[0m\u001b[0m\n\u001b[1;32m    255\u001b[0m             \u001b[0;31m# Calculating albedo from given albedofunction\u001b[0m\u001b[0;34m\u001b[0m\u001b[0;34m\u001b[0m\u001b[0;34m\u001b[0m\u001b[0m\n\u001b[0;32m--> 256\u001b[0;31m         \u001b[0malpha\u001b[0m \u001b[0;34m=\u001b[0m \u001b[0malbedofunc\u001b[0m\u001b[0;34m(\u001b[0m\u001b[0;34m*\u001b[0m\u001b[0malbedofuncparam\u001b[0m\u001b[0;34m)\u001b[0m\u001b[0;34m\u001b[0m\u001b[0;34m\u001b[0m\u001b[0m\n\u001b[0m\u001b[1;32m    257\u001b[0m         \u001b[0;31m# Readout to give albedo as output\u001b[0m\u001b[0;34m\u001b[0m\u001b[0;34m\u001b[0m\u001b[0;34m\u001b[0m\u001b[0m\n\u001b[1;32m    258\u001b[0m         \u001b[0;32mif\u001b[0m \u001b[0malbedoread\u001b[0m \u001b[0;34m==\u001b[0m \u001b[0;32mTrue\u001b[0m\u001b[0;34m:\u001b[0m\u001b[0;34m\u001b[0m\u001b[0;34m\u001b[0m\u001b[0m\n",
      "\u001b[0;32m~/University/GMD_Paper/ZOEE_Package/ZOEE/modules/functions.py\u001b[0m in \u001b[0;36mdynamic_sel\u001b[0;34m(self, Z, b)\u001b[0m\n\u001b[1;32m    554\u001b[0m                         \u001b[0;32melse\u001b[0m\u001b[0;34m:\u001b[0m\u001b[0;34m\u001b[0m\u001b[0;34m\u001b[0m\u001b[0m\n\u001b[1;32m    555\u001b[0m                             \u001b[0malbedo\u001b[0m\u001b[0;34m[\u001b[0m\u001b[0mi\u001b[0m\u001b[0;34m,\u001b[0m \u001b[0mj\u001b[0m\u001b[0;34m]\u001b[0m \u001b[0;34m=\u001b[0m \u001b[0mb\u001b[0m\u001b[0;34m[\u001b[0m\u001b[0mj\u001b[0m\u001b[0;34m]\u001b[0m \u001b[0;34m-\u001b[0m \u001b[0;36m2.548\u001b[0m\u001b[0;34m\u001b[0m\u001b[0;34m\u001b[0m\u001b[0m\n\u001b[0;32m--> 556\u001b[0;31m                         \u001b[0;32mif\u001b[0m \u001b[0malbedo\u001b[0m\u001b[0;34m[\u001b[0m\u001b[0mi\u001b[0m\u001b[0;34m,\u001b[0m \u001b[0mj\u001b[0m\u001b[0;34m]\u001b[0m \u001b[0;34m>\u001b[0m \u001b[0;36m0.85\u001b[0m\u001b[0;34m:\u001b[0m\u001b[0;34m\u001b[0m\u001b[0;34m\u001b[0m\u001b[0m\n\u001b[0m\u001b[1;32m    557\u001b[0m                             \u001b[0malbedo\u001b[0m\u001b[0;34m[\u001b[0m\u001b[0mi\u001b[0m\u001b[0;34m,\u001b[0m \u001b[0mj\u001b[0m\u001b[0;34m]\u001b[0m \u001b[0;34m=\u001b[0m \u001b[0;36m0.85\u001b[0m\u001b[0;34m\u001b[0m\u001b[0;34m\u001b[0m\u001b[0m\n\u001b[1;32m    558\u001b[0m         \u001b[0;32melse\u001b[0m\u001b[0;34m:\u001b[0m\u001b[0;34m\u001b[0m\u001b[0;34m\u001b[0m\u001b[0m\n",
      "\u001b[0;31mKeyboardInterrupt\u001b[0m: "
     ]
    }
   ],
   "source": [
    "for i in range(6):\n",
    "    print('---------- CESM Parameter ' + str(i) + ' -----------')\n",
    "    ZOEE = ZOEE_optimization(1, Parameters[i]['name'], Parameters[i]['level'], True, elevation)\n",
    "    config_overwrite = ZOEE._overwrite_parameters(config_CESM, Parameters[i]['range'])\n",
    "    if config_HadCM3['eqparam']['c_ao'] is float:\n",
    "        raise Exception('Config overwrite acts recursively. Outdated version of ZOEE.modules.optimization is called.')\n",
    "    # config_addparameters=add_parameters(config_addsellers,parameter_values,parameter_labels)\n",
    "\n",
    "    variable_importer(config_overwrite, initialZMT=True, parallel=True, parallel_config=parallel_config, control=True)\n",
    "    CTRL = rk4alg(config_overwrite, progressbar=False,monthly=True)\n",
    "\n",
    "    variable_importer(config_overwrite, initialZMT=False, parallel=True, parallel_config=parallel_config, control=False)\n",
    "    Vars.T = CTRL[1][-1]\n",
    "    FULL = rk4alg(config_overwrite, progressbar=False,monthly=True)\n",
    "\n",
    "    np.savetxt('Experiments/Output/Parametertest_CESM_' + str(i) + '.txt',\n",
    "               [Parameters[i]['range'], *np.transpose(CTRL[1][-1]), *FULL[2]],\n",
    "               delimiter=',')\n",
    "print('CESM - Finished. Next: Pages')"
   ]
  },
  {
   "cell_type": "markdown",
   "metadata": {},
   "source": [
    "# Parameter experiments - Pages config"
   ]
  },
  {
   "cell_type": "code",
   "execution_count": 53,
   "metadata": {},
   "outputs": [
    {
     "name": "stdout",
     "output_type": "stream",
     "text": [
      "Loading Configuration from: Experiments/Pages2k/Config_Pages.ini\n",
      "Loading Parameters from: ZOEE/config/SellersParameterization.ini\n"
     ]
    }
   ],
   "source": [
    "config_Pages = importer('Experiments/Pages2k/Config_Pages.ini')\n",
    "parallel_config = {'number_of_parameters': 1, 'number_of_cycles': 1, 'number_of_parallels': 50}\n",
    "variable_importer(config_Pages, initialZMT=True, parallel=True, parallel_config=parallel_config)\n",
    "config_Pages, Sellers = add_sellersparameters(config_Pages, parameterinterpolatorstepwise,\n",
    "                                              'ZOEE/config/SellersParameterization.ini', 4, 2, True, True)\n",
    "elevation = -0.0065 * np.array(Sellers[1][1])"
   ]
  },
  {
   "cell_type": "code",
   "execution_count": 54,
   "metadata": {},
   "outputs": [
    {
     "name": "stdout",
     "output_type": "stream",
     "text": [
      "---------- Pages Parameter 0 -----------\n",
      "Starting controlrun with a temperature accuracy of 0.001 K on the GMT over 1000 datapoints.\n"
     ]
    },
    {
     "ename": "KeyboardInterrupt",
     "evalue": "",
     "output_type": "error",
     "traceback": [
      "\u001b[0;31m---------------------------------------------------------------------------\u001b[0m",
      "\u001b[0;31mKeyboardInterrupt\u001b[0m                         Traceback (most recent call last)",
      "\u001b[0;32m<ipython-input-54-3a2864162848>\u001b[0m in \u001b[0;36m<module>\u001b[0;34m\u001b[0m\n\u001b[1;32m      8\u001b[0m \u001b[0;34m\u001b[0m\u001b[0m\n\u001b[1;32m      9\u001b[0m     \u001b[0mvariable_importer\u001b[0m\u001b[0;34m(\u001b[0m\u001b[0mconfig_overwrite\u001b[0m\u001b[0;34m,\u001b[0m \u001b[0minitialZMT\u001b[0m\u001b[0;34m=\u001b[0m\u001b[0;32mTrue\u001b[0m\u001b[0;34m,\u001b[0m \u001b[0mparallel\u001b[0m\u001b[0;34m=\u001b[0m\u001b[0;32mTrue\u001b[0m\u001b[0;34m,\u001b[0m \u001b[0mparallel_config\u001b[0m\u001b[0;34m=\u001b[0m\u001b[0mparallel_config\u001b[0m\u001b[0;34m,\u001b[0m \u001b[0mcontrol\u001b[0m\u001b[0;34m=\u001b[0m\u001b[0;32mTrue\u001b[0m\u001b[0;34m)\u001b[0m\u001b[0;34m\u001b[0m\u001b[0;34m\u001b[0m\u001b[0m\n\u001b[0;32m---> 10\u001b[0;31m     \u001b[0mCTRL\u001b[0m \u001b[0;34m=\u001b[0m \u001b[0mrk4alg\u001b[0m\u001b[0;34m(\u001b[0m\u001b[0mconfig_overwrite\u001b[0m\u001b[0;34m,\u001b[0m \u001b[0mprogressbar\u001b[0m\u001b[0;34m=\u001b[0m\u001b[0;32mFalse\u001b[0m\u001b[0;34m)\u001b[0m\u001b[0;34m\u001b[0m\u001b[0;34m\u001b[0m\u001b[0m\n\u001b[0m\u001b[1;32m     11\u001b[0m \u001b[0;34m\u001b[0m\u001b[0m\n\u001b[1;32m     12\u001b[0m     \u001b[0mvariable_importer\u001b[0m\u001b[0;34m(\u001b[0m\u001b[0mconfig_overwrite\u001b[0m\u001b[0;34m,\u001b[0m \u001b[0minitialZMT\u001b[0m\u001b[0;34m=\u001b[0m\u001b[0;32mFalse\u001b[0m\u001b[0;34m,\u001b[0m \u001b[0mparallel\u001b[0m\u001b[0;34m=\u001b[0m\u001b[0;32mTrue\u001b[0m\u001b[0;34m,\u001b[0m \u001b[0mparallel_config\u001b[0m\u001b[0;34m=\u001b[0m\u001b[0mparallel_config\u001b[0m\u001b[0;34m,\u001b[0m \u001b[0mcontrol\u001b[0m\u001b[0;34m=\u001b[0m\u001b[0;32mFalse\u001b[0m\u001b[0;34m)\u001b[0m\u001b[0;34m\u001b[0m\u001b[0;34m\u001b[0m\u001b[0m\n",
      "\u001b[0;32m~/University/GMD_Paper/ZOEE_Package/ZOEE/modules/rk4.py\u001b[0m in \u001b[0;36mrk4alg\u001b[0;34m(config, progressbar, monthly)\u001b[0m\n\u001b[1;32m    205\u001b[0m         \u001b[0mBase\u001b[0m\u001b[0;34m.\u001b[0m\u001b[0mRuntime_Tracker\u001b[0m \u001b[0;34m+=\u001b[0m \u001b[0;36m1\u001b[0m\u001b[0;34m\u001b[0m\u001b[0;34m\u001b[0m\u001b[0m\n\u001b[1;32m    206\u001b[0m         \u001b[0mVars\u001b[0m\u001b[0;34m.\u001b[0m\u001b[0mT\u001b[0m \u001b[0;34m=\u001b[0m \u001b[0mT0\u001b[0m \u001b[0;34m+\u001b[0m \u001b[0mk3\u001b[0m\u001b[0;34m\u001b[0m\u001b[0;34m\u001b[0m\u001b[0m\n\u001b[0;32m--> 207\u001b[0;31m         \u001b[0mk4\u001b[0m \u001b[0;34m=\u001b[0m \u001b[0mh\u001b[0m \u001b[0;34m*\u001b[0m \u001b[0mmodel_equation\u001b[0m\u001b[0;34m(\u001b[0m\u001b[0meqparam\u001b[0m\u001b[0;34m,\u001b[0m \u001b[0mfunccomp\u001b[0m\u001b[0;34m)\u001b[0m\u001b[0;34m\u001b[0m\u001b[0;34m\u001b[0m\u001b[0m\n\u001b[0m\u001b[1;32m    208\u001b[0m         \u001b[0mBase\u001b[0m\u001b[0;34m.\u001b[0m\u001b[0mRuntime_Tracker\u001b[0m \u001b[0;34m+=\u001b[0m \u001b[0;36m1\u001b[0m\u001b[0;34m\u001b[0m\u001b[0;34m\u001b[0m\u001b[0m\n\u001b[1;32m    209\u001b[0m \u001b[0;34m\u001b[0m\u001b[0m\n",
      "\u001b[0;32m~/University/GMD_Paper/ZOEE_Package/ZOEE/modules/model.py\u001b[0m in \u001b[0;36mmodel_equation\u001b[0;34m(eqparam, funccomp)\u001b[0m\n\u001b[1;32m     54\u001b[0m                 \u001b[0;32mpass\u001b[0m\u001b[0;34m\u001b[0m\u001b[0;34m\u001b[0m\u001b[0m\n\u001b[1;32m     55\u001b[0m             \u001b[0;32melse\u001b[0m\u001b[0;34m:\u001b[0m\u001b[0;34m\u001b[0m\u001b[0;34m\u001b[0m\u001b[0m\n\u001b[0;32m---> 56\u001b[0;31m                 \u001b[0my\u001b[0m \u001b[0;34m+=\u001b[0m \u001b[0mfunclist\u001b[0m\u001b[0;34m[\u001b[0m\u001b[0mfuncnum\u001b[0m\u001b[0;34m]\u001b[0m\u001b[0;34m(\u001b[0m\u001b[0mfuncparam\u001b[0m\u001b[0;34m[\u001b[0m\u001b[0mfuncnum\u001b[0m\u001b[0;34m]\u001b[0m\u001b[0;34m)\u001b[0m    \u001b[0;31m#Calling the selected function and sum them up\u001b[0m\u001b[0;34m\u001b[0m\u001b[0;34m\u001b[0m\u001b[0m\n\u001b[0m\u001b[1;32m     57\u001b[0m         \u001b[0;32melse\u001b[0m\u001b[0;34m:\u001b[0m\u001b[0;34m\u001b[0m\u001b[0;34m\u001b[0m\u001b[0m\n\u001b[1;32m     58\u001b[0m             \u001b[0my\u001b[0m \u001b[0;34m+=\u001b[0m \u001b[0mfunclist\u001b[0m\u001b[0;34m[\u001b[0m\u001b[0mfuncnum\u001b[0m\u001b[0;34m]\u001b[0m\u001b[0;34m(\u001b[0m\u001b[0mfuncparam\u001b[0m\u001b[0;34m[\u001b[0m\u001b[0mfuncnum\u001b[0m\u001b[0;34m]\u001b[0m\u001b[0;34m)\u001b[0m    \u001b[0;31m#Calling the selected function and sum them up\u001b[0m\u001b[0;34m\u001b[0m\u001b[0;34m\u001b[0m\u001b[0m\n",
      "\u001b[0;32m~/University/GMD_Paper/ZOEE_Package/ZOEE/modules/functions.py\u001b[0m in \u001b[0;36msellers\u001b[0;34m(self, funcparam)\u001b[0m\n\u001b[1;32m   1089\u001b[0m             \u001b[0;31m# calculating the current temperature differences and wind patterns\u001b[0m\u001b[0;34m\u001b[0m\u001b[0;34m\u001b[0m\u001b[0;34m\u001b[0m\u001b[0m\n\u001b[1;32m   1090\u001b[0m             \u001b[0mVars\u001b[0m\u001b[0;34m.\u001b[0m\u001b[0mtempdif\u001b[0m \u001b[0;34m=\u001b[0m \u001b[0mearthsystem\u001b[0m\u001b[0;34m(\u001b[0m\u001b[0;34m)\u001b[0m\u001b[0;34m.\u001b[0m\u001b[0mtemperature_difference_latitudes\u001b[0m\u001b[0;34m(\u001b[0m\u001b[0;34m)\u001b[0m\u001b[0;34m\u001b[0m\u001b[0;34m\u001b[0m\u001b[0m\n\u001b[0;32m-> 1091\u001b[0;31m             \u001b[0mVars\u001b[0m\u001b[0;34m.\u001b[0m\u001b[0mmeridional\u001b[0m \u001b[0;34m=\u001b[0m \u001b[0mearthsystem\u001b[0m\u001b[0;34m(\u001b[0m\u001b[0;34m)\u001b[0m\u001b[0;34m.\u001b[0m\u001b[0mmeridionalwind_sel\u001b[0m\u001b[0;34m(\u001b[0m\u001b[0ma\u001b[0m\u001b[0;34m,\u001b[0m \u001b[0mre\u001b[0m\u001b[0;34m)\u001b[0m\u001b[0;34m\u001b[0m\u001b[0;34m\u001b[0m\u001b[0m\n\u001b[0m\u001b[1;32m   1092\u001b[0m \u001b[0;34m\u001b[0m\u001b[0m\n\u001b[1;32m   1093\u001b[0m             \u001b[0;31m# calculating the 3 transfer components\u001b[0m\u001b[0;34m\u001b[0m\u001b[0;34m\u001b[0m\u001b[0;34m\u001b[0m\u001b[0m\n",
      "\u001b[0;32m~/University/GMD_Paper/ZOEE_Package/ZOEE/modules/functions.py\u001b[0m in \u001b[0;36mmeridionalwind_sel\u001b[0;34m(self, a, re)\u001b[0m\n\u001b[1;32m   2365\u001b[0m                 \u001b[0;32melse\u001b[0m\u001b[0;34m:\u001b[0m\u001b[0;34m\u001b[0m\u001b[0;34m\u001b[0m\u001b[0m\n\u001b[1;32m   2366\u001b[0m                     \u001b[0;32mfor\u001b[0m \u001b[0mj\u001b[0m \u001b[0;32min\u001b[0m \u001b[0mrange\u001b[0m\u001b[0;34m(\u001b[0m\u001b[0mk\u001b[0m\u001b[0;34m)\u001b[0m\u001b[0;34m:\u001b[0m\u001b[0;34m\u001b[0m\u001b[0;34m\u001b[0m\u001b[0m\n\u001b[0;32m-> 2367\u001b[0;31m                         \u001b[0mv\u001b[0m\u001b[0;34m[\u001b[0m\u001b[0ml\u001b[0m\u001b[0;34m,\u001b[0m \u001b[0mj\u001b[0m\u001b[0;34m]\u001b[0m \u001b[0;34m=\u001b[0m \u001b[0;34m-\u001b[0m\u001b[0ma\u001b[0m\u001b[0;34m[\u001b[0m\u001b[0mj\u001b[0m\u001b[0;34m]\u001b[0m \u001b[0;34m*\u001b[0m \u001b[0;34m(\u001b[0m\u001b[0mVars\u001b[0m\u001b[0;34m.\u001b[0m\u001b[0mtempdif\u001b[0m\u001b[0;34m[\u001b[0m\u001b[0ml\u001b[0m\u001b[0;34m,\u001b[0m \u001b[0mj\u001b[0m\u001b[0;34m]\u001b[0m \u001b[0;34m-\u001b[0m \u001b[0mT_av\u001b[0m\u001b[0;34m[\u001b[0m\u001b[0ml\u001b[0m\u001b[0;34m]\u001b[0m\u001b[0;34m)\u001b[0m\u001b[0;34m\u001b[0m\u001b[0;34m\u001b[0m\u001b[0m\n\u001b[0m\u001b[1;32m   2368\u001b[0m                     \u001b[0;32mfor\u001b[0m \u001b[0mj\u001b[0m \u001b[0;32min\u001b[0m \u001b[0mrange\u001b[0m\u001b[0;34m(\u001b[0m\u001b[0mk\u001b[0m\u001b[0;34m,\u001b[0m \u001b[0mlen\u001b[0m\u001b[0;34m(\u001b[0m\u001b[0mv\u001b[0m\u001b[0;34m[\u001b[0m\u001b[0ml\u001b[0m\u001b[0;34m]\u001b[0m\u001b[0;34m)\u001b[0m\u001b[0;34m)\u001b[0m\u001b[0;34m:\u001b[0m\u001b[0;34m\u001b[0m\u001b[0;34m\u001b[0m\u001b[0m\n\u001b[1;32m   2369\u001b[0m                         \u001b[0mv\u001b[0m\u001b[0;34m[\u001b[0m\u001b[0ml\u001b[0m\u001b[0;34m,\u001b[0m \u001b[0mj\u001b[0m\u001b[0;34m]\u001b[0m \u001b[0;34m=\u001b[0m \u001b[0;34m-\u001b[0m\u001b[0ma\u001b[0m\u001b[0;34m[\u001b[0m\u001b[0mj\u001b[0m\u001b[0;34m]\u001b[0m \u001b[0;34m*\u001b[0m \u001b[0;34m(\u001b[0m\u001b[0mVars\u001b[0m\u001b[0;34m.\u001b[0m\u001b[0mtempdif\u001b[0m\u001b[0;34m[\u001b[0m\u001b[0ml\u001b[0m\u001b[0;34m,\u001b[0m \u001b[0mj\u001b[0m\u001b[0;34m]\u001b[0m \u001b[0;34m+\u001b[0m \u001b[0mT_av\u001b[0m\u001b[0;34m[\u001b[0m\u001b[0ml\u001b[0m\u001b[0;34m]\u001b[0m\u001b[0;34m)\u001b[0m\u001b[0;34m\u001b[0m\u001b[0;34m\u001b[0m\u001b[0m\n",
      "\u001b[0;31mKeyboardInterrupt\u001b[0m: "
     ]
    }
   ],
   "source": [
    "for i in range(6):\n",
    "    print('---------- Pages Parameter ' + str(i) + ' -----------')\n",
    "    ZOEE = ZOEE_optimization(1, Parameters[i]['name'], Parameters[i]['level'], True, elevation)\n",
    "    config_overwrite = ZOEE._overwrite_parameters(config_Pages, Parameters[i]['range'])\n",
    "    if config_HadCM3['eqparam']['c_ao'] is float:\n",
    "        raise Exception('Config overwrite acts recursively. Outdated version of ZOEE.modules.optimization is called.')\n",
    "    # config_addparameters=add_parameters(config_addsellers,parameter_values,parameter_labels)\n",
    "\n",
    "    variable_importer(config_overwrite, initialZMT=True, parallel=True, parallel_config=parallel_config, control=True)\n",
    "    CTRL = rk4alg(config_overwrite, progressbar=False)\n",
    "\n",
    "    variable_importer(config_overwrite, initialZMT=False, parallel=True, parallel_config=parallel_config, control=False)\n",
    "    Vars.T = CTRL[1][-1]\n",
    "    FULL = rk4alg(config_overwrite, progressbar=False)\n",
    "\n",
    "    np.savetxt('Experiments/Output/Parametertest_Pages_' + str(i) + '.txt',\n",
    "               [Parameters[i]['range'], *np.transpose(CTRL[1][-1]), *FULL[2]],\n",
    "               delimiter=',')\n",
    "\n",
    "print('Pages - Finished. --------------- Thanks Elisa! --------------------')"
   ]
  },
  {
   "cell_type": "code",
   "execution_count": null,
   "metadata": {},
   "outputs": [],
   "source": []
  }
 ],
 "metadata": {
  "kernelspec": {
   "display_name": "Python 3",
   "language": "python",
   "name": "python3"
  },
  "language_info": {
   "codemirror_mode": {
    "name": "ipython",
    "version": 3
   },
   "file_extension": ".py",
   "mimetype": "text/x-python",
   "name": "python",
   "nbconvert_exporter": "python",
   "pygments_lexer": "ipython3",
   "version": "3.7.5"
  }
 },
 "nbformat": 4,
 "nbformat_minor": 4
}
