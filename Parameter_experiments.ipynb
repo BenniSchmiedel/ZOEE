{
 "cells": [
  {
   "cell_type": "code",
   "execution_count": 1,
   "metadata": {},
   "outputs": [],
   "source": [
    "import matplotlib.pyplot as plt\n",
    "import numpy as np\n",
    "from ZOEE.modules.configuration import importer, add_sellersparameters, parameterinterpolatorstepwise\n",
    "from ZOEE.modules.variables import variable_importer, Vars, Base\n",
    "from ZOEE.modules.optimization import ZOEE_optimization\n",
    "#from ZOEE import update_plotstyle, moving_average\n",
    "from ZOEE.modules.rk4 import rk4alg\n"
   ]
  },
  {
   "cell_type": "code",
   "execution_count": 26,
   "metadata": {},
   "outputs": [],
   "source": [
    "Pmin=np.array([1*4.2e6,170,1.3,0.9,0.9,0.9])\n",
    "Pmax=np.array([100*4.2e6,240,2.5,1.3,1.3,1.3])\n",
    "parameter_labels=[['eqparam','c_ao'],['func3','a'],['func3','b'],['func4','factor_oc'],['func4','factor_kwv'],['func4','factor_kair']]\n",
    "parameter_levels=np.array([None,None,None,None,None,None])\n",
    "\n",
    "\n",
    "Parameters=[]\n",
    "for i in range(6):\n",
    "    Parameters.append({'name':parameter_labels[i],\n",
    "                       'level':parameter_levels[i],\n",
    "                       'range': np.linspace(Pmin[i],Pmax[i],2)})"
   ]
  },
  {
   "cell_type": "markdown",
   "metadata": {},
   "source": [
    "# Parameter experiments - HadCM3 comparison"
   ]
  },
  {
   "cell_type": "code",
   "execution_count": 27,
   "metadata": {},
   "outputs": [
    {
     "name": "stdout",
     "output_type": "stream",
     "text": [
      "Loading Configuration from: Experiments/HadCM3/Config_HadCM3.ini\n",
      "Loading Parameters from: ZOEE/config/SellersParameterization.ini\n"
     ]
    }
   ],
   "source": [
    "config_HadCM3=importer('Experiments/HadCM3/Config_HadCM3.ini')\n",
    "parallel_config = {'number_of_parameters': 1, 'number_of_cycles': 1,'number_of_parallels': 2}\n",
    "variable_importer(config_HadCM3,initialZMT=True,parallel=True,parallel_config=parallel_config)\n",
    "config_HadCM3,Sellers=add_sellersparameters(config_HadCM3, parameterinterpolatorstepwise,\\\n",
    "                                            'ZOEE/config/SellersParameterization.ini',4,2,True,True)\n",
    "elevation=-0.0065*np.array(Sellers[1][1])"
   ]
  },
  {
   "cell_type": "markdown",
   "metadata": {},
   "source": [
    "## C_ao\n",
    "\n",
    "With parameter range $1\\cdot 4.2e6$ to $100\\cdot4.2e6$ with 50 steps"
   ]
  },
  {
   "cell_type": "code",
   "execution_count": 28,
   "metadata": {},
   "outputs": [
    {
     "name": "stdout",
     "output_type": "stream",
     "text": [
      "Starting controlrun with a temperature accuracy of 0.001 K on the GMT over 1000 datapoints.\n"
     ]
    },
    {
     "data": {
      "application/vnd.jupyter.widget-view+json": {
       "model_id": "66d16c92c9f94f8d9c6d561a39376780",
       "version_major": 2,
       "version_minor": 0
      },
      "text/plain": [
       "HBox(children=(FloatProgress(value=0.0, max=100000.0), HTML(value='')))"
      ]
     },
     "metadata": {},
     "output_type": "display_data"
    },
    {
     "name": "stdout",
     "output_type": "stream",
     "text": [
      "Transit State reached after 100000 steps within 192.7086889743805 seconds\n",
      "\n"
     ]
    },
    {
     "data": {
      "application/vnd.jupyter.widget-view+json": {
       "model_id": "9927278bdff24b55b707032c278ad46b",
       "version_major": 2,
       "version_minor": 0
      },
      "text/plain": [
       "HBox(children=(FloatProgress(value=0.0, max=365000.0), HTML(value='')))"
      ]
     },
     "metadata": {},
     "output_type": "display_data"
    },
    {
     "name": "stdout",
     "output_type": "stream",
     "text": [
      "\n"
     ]
    }
   ],
   "source": [
    "ZOEE=ZOEE_optimization(1,Parameters[0]['name'],Parameters[0]['level'],True,elevation)\n",
    "config_HadCM3_Cao=ZOEE._overwrite_parameters(config_HadCM3,Parameters[0]['range'])\n",
    "#config_addparameters=add_parameters(config_addsellers,parameter_values,parameter_labels)\n",
    "\n",
    "variable_importer(config_HadCM3_Cao,initialZMT=True,parallel=True,parallel_config=parallel_config,control=True)\n",
    "data_HadCM3_Cao_CTRL=rk4alg(config_HadCM3_Cao)\n",
    "\n",
    "variable_importer(config_HadCM3_Cao,initialZMT=False,parallel=True,parallel_config=parallel_config,control=False)\n",
    "Vars.T=data_HadCM3_Cao_CTRL[1][-1]\n",
    "data_HadCM3_Cao=rk4alg(config_HadCM3_Cao)"
   ]
  },
  {
   "cell_type": "code",
   "execution_count": 42,
   "metadata": {},
   "outputs": [
    {
     "data": {
      "text/plain": [
       "[<matplotlib.lines.Line2D at 0x7f8f5476afd0>]"
      ]
     },
     "execution_count": 42,
     "metadata": {},
     "output_type": "execute_result"
    },
    {
     "data": {
      "image/png": "[encoded data removed]",
      "text/plain": [
       "<Figure size 432x288 with 1 Axes>"
      ]
     },
     "metadata": {
      "needs_background": "light"
     },
     "output_type": "display_data"
    }
   ],
   "source": [
    "plt.plot(data_HadCM3_Cao[2][:,1])"
   ]
  },
  {
   "cell_type": "code",
   "execution_count": null,
   "metadata": {},
   "outputs": [],
   "source": []
  }
 ],
 "metadata": {
  "kernelspec": {
   "display_name": "Python 3",
   "language": "python",
   "name": "python3"
  },
  "language_info": {
   "codemirror_mode": {
    "name": "ipython",
    "version": 3
   },
   "file_extension": ".py",
   "mimetype": "text/x-python",
   "name": "python",
   "nbconvert_exporter": "python",
   "pygments_lexer": "ipython3",
   "version": "3.7.5"
  }
 },
 "nbformat": 4,
 "nbformat_minor": 4
}
